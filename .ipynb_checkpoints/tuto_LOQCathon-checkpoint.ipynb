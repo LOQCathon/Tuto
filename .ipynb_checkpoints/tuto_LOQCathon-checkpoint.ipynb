{
 "cells": [
  {
   "cell_type": "markdown",
   "id": "0a97c59f",
   "metadata": {},
   "source": [
    "# Tuto LOQCathon \n",
    "\n",
    "In this tutorial, we will try to cover any basic code to get our hands on Perceval.\n",
    "The full documentation can be found on [Doc Perceval](https://perceval.quandela.net/).\n",
    "\n",
    "For any question, feel free to ask !\n",
    "\n",
    "\n",
    "\n",
    "\n",
    "[I. Introduction](#introduction)\\\n",
    "[II. Linear Optical Circuits](#circuits)\\\n",
    "[III. Simulation](#simulation)\\\n",
    "[IV. Encoding Qubits](#encoding)\\\n",
    "[V. To Go Further](#further)\n",
    "\n",
    "\n"
   ]
  },
  {
   "cell_type": "markdown",
   "id": "4ad79fd5",
   "metadata": {},
   "source": [
    "# I. Introduction <a name=\"introduction\"></a>\n",
    "\n",
    "### Installation <a name=\"installation\"></a>"
   ]
  },
  {
   "cell_type": "code",
   "execution_count": 1,
   "id": "7537273d",
   "metadata": {},
   "outputs": [
    {
     "data": {
      "text/plain": [
       "'0.6.1.post28'"
      ]
     },
     "execution_count": 1,
     "metadata": {},
     "output_type": "execute_result"
    }
   ],
   "source": [
    "## TO-DO : commands to install with pip etc (PE told me it shouldn't be necessary)\n",
    "\n",
    "import perceval as pcvl\n",
    "pcvl.__version__"
   ]
  },
  {
   "cell_type": "code",
   "execution_count": 11,
   "id": "28abc3e4",
   "metadata": {},
   "outputs": [],
   "source": [
    "## Test :  basic tests to run to check that's been well installed\n",
    "\n",
    "\n"
   ]
  },
  {
   "cell_type": "markdown",
   "id": "8817daed",
   "metadata": {},
   "source": [
    "### BasicStates <a name=\"basicstates\"></a>\n",
    "\n",
    "In Linear Optical Circuits, photons can have many discrete degrees of freedom, called modes. \n",
    "It can be frequency, the polarisation, the position, or all of them.\n",
    "\n",
    "We represent those degrees of freedom with Fock states. If we have $n$ photons over $m$ modes, the Fock state  : $|s_1,s_2,...,s_m\\rangle$ means we have $s_i$ photons in the $i^{th}$ mode. (note that $\\sum_{i=1}^n s_i =m$).\n",
    "\n",
    "In Perceval, we will use the module `pcvl.BasicState`"
   ]
  },
  {
   "cell_type": "code",
   "execution_count": 6,
   "id": "435b102b",
   "metadata": {},
   "outputs": [],
   "source": [
    "## Syntax of different BasicState (list, string, etc)\n",
    "\n",
    "## Please add something on the BasicStates if you think we need to developp (as the depreciated version of AnnotedState)"
   ]
  },
  {
   "cell_type": "markdown",
   "id": "5fe29a50",
   "metadata": {},
   "source": [
    "### LO-Components <a name=\"components\"></a>\n",
    "\n",
    "The linear optical components are the elementary blocks which will act on our Fock states.\n",
    "\n",
    "It's important to know all the possible components we can find in Perceval and to understand their action.\n",
    "\n"
   ]
  },
  {
   "cell_type": "code",
   "execution_count": 8,
   "id": "1d0cf3b2",
   "metadata": {},
   "outputs": [],
   "source": [
    "## TO-DO : code for each component : label+unitary+drawing+some words on the convention for BS"
   ]
  },
  {
   "cell_type": "markdown",
   "id": "bb4cd4d2",
   "metadata": {},
   "source": [
    "# II. LO-Circuits <a name=\"circuits\"></a>\n",
    "\n",
    "From the LO-components, we can build a LO-circuit, i.e. a sequence of those components acting on our different modes.\n",
    "\n",
    "### Syntax"
   ]
  },
  {
   "cell_type": "code",
   "execution_count": null,
   "id": "2ab8b90e",
   "metadata": {},
   "outputs": [],
   "source": [
    "## TO-DO :  code to create a circuit of 3 modes with the components seen above. Print the display. Print the unitary. \n",
    "\n"
   ]
  },
  {
   "cell_type": "markdown",
   "id": "75e4440d",
   "metadata": {},
   "source": [
    "### Mach-Zehnder Interferometers \n",
    "\n",
    "As seen above, we can use Beamsplitters with the reflexivity or the $\\theta$ angle as parameters.\n",
    "\n",
    "In practice, the reflexivity depends on the miror. It's therefore hard... \n",
    "\n"
   ]
  },
  {
   "cell_type": "code",
   "execution_count": 9,
   "id": "8598d2e3",
   "metadata": {},
   "outputs": [],
   "source": [
    "## TO-DO : Show MZI circuit, matrix, \n",
    "\n",
    "\n",
    "## TO-DO :  note we can use symbolic in our circuits, so we can check the formula ... (introduce the symbolic in unitaries)\n",
    "\n"
   ]
  },
  {
   "cell_type": "markdown",
   "id": "9d8e718b",
   "metadata": {},
   "source": [
    "### Universal Circuits\n",
    "\n",
    "It's important to know that given a unitary $U$ on our modes, it's always possible to find a LO-circuit implementing $U$.\n",
    "\n",
    "If we want to implement $U=\\begin{pmatrix}\n",
    "a_{1,1} & a_{1,2} & a_{1,3}\\\\\n",
    "a_{2,1} & a_{2,2} & a_{2,3} \\\\ \n",
    "a_{3,1} & a_{3,2} & a_{3,3}\n",
    "\\end{pmatrix}$ the operation :\n",
    "\n",
    "(It's important to precise/remind this unitary is doing the following operation on the Fock state basis:\n",
    "$\\begin{array}{rcl}\n",
    "|1,0,0\\rangle &  \\mapsto&  a_{1,1}|1,0,0\\rangle + a_{1,2}|0,1,0\\rangle + a_{1,3}|0,0,1\\rangle\\\\\n",
    "|0,1,0\\rangle &  \\mapsto&  a_{2,1}|1,0,0\\rangle + a_{2,2}|0,1,0\\rangle + a_{2,3}|0,0,1\\rangle\\\\\n",
    "|0,0,1\\rangle &  \\mapsto&  a_{3,1}|1,0,0\\rangle + a_{3,2}|0,1,0\\rangle + a_{3,3}|0,0,1\\rangle\n",
    "\\end{array}$"
   ]
  },
  {
   "cell_type": "code",
   "execution_count": 12,
   "id": "824d8737",
   "metadata": {},
   "outputs": [],
   "source": [
    "## code for universal circuit of size 3, for a random U, with the reference of Reck"
   ]
  },
  {
   "cell_type": "markdown",
   "id": "78150c03",
   "metadata": {},
   "source": [
    "Historically, the universal form was triangular (quote Reck), then later a rectangular form, with less depth, has been found : [Clements' et al](https://arxiv.org/abs/1603.08788?context=physics) .\n"
   ]
  },
  {
   "cell_type": "code",
   "execution_count": 13,
   "id": "a043bb05",
   "metadata": {},
   "outputs": [],
   "source": [
    "## code to generate from random unitary of size n, the universal circuit with rectangular shape\n"
   ]
  },
  {
   "cell_type": "code",
   "execution_count": 14,
   "id": "20b31e3f",
   "metadata": {},
   "outputs": [],
   "source": [
    "## TO-do for students  : from random circuit, create circuit with only MZI and phase shifters"
   ]
  },
  {
   "cell_type": "markdown",
   "id": "b6990985",
   "metadata": {},
   "source": [
    "### Black Box \n",
    "\n",
    "For more readibility and sometimes as we'll need generic operations (see [Encoding]()), it's not always necessary to describe the circuit and explicit all the parameters.\n"
   ]
  },
  {
   "cell_type": "code",
   "execution_count": 15,
   "id": "cf442c25",
   "metadata": {},
   "outputs": [],
   "source": [
    "## Code with circuits with balck boxes, with labels, etc "
   ]
  },
  {
   "cell_type": "markdown",
   "id": "1bd8e2f0",
   "metadata": {},
   "source": [
    "# III. Simulation <a name=\"simulation\"></a>\n",
    "\n",
    "From this point, we only created circuits.\n",
    "It's time to sample from them, and to know the output distribution of them, on many different inputs.\n",
    "\n"
   ]
  },
  {
   "cell_type": "markdown",
   "id": "190ae9ac",
   "metadata": {},
   "source": [
    "### Computing probabilities \n",
    "\n",
    "For this part, we will take the [Hong-Ou-Mandel](https://en.wikipedia.org/wiki/Hong%E2%80%93Ou%E2%80%93Mandel_effect) experience as an instance.\n",
    "\n"
   ]
  },
  {
   "cell_type": "code",
   "execution_count": 19,
   "id": "73e9230b",
   "metadata": {},
   "outputs": [],
   "source": [
    "## Code to implement the HOM : |1,1>, circuit = BS, and output the probability of each different output (the code for one probability in particular, and also to iterate through every prob)\n",
    "\n",
    "## Note: have a version for amplitude & prob"
   ]
  },
  {
   "cell_type": "code",
   "execution_count": 20,
   "id": "fcf74970",
   "metadata": {},
   "outputs": [],
   "source": [
    "## To-do for students :  we give them a 4X4 unitary , we ask for the table of output for the input |1,1,1,0>\n",
    "\n",
    "\n",
    "## Code to test if the output is correct\n"
   ]
  },
  {
   "cell_type": "markdown",
   "id": "cd69cf36",
   "metadata": {},
   "source": [
    "### Sampling \n",
    "\n",
    "As it's crucial to compute the output distribution, it's not what we can expect from a photonic chip. Indeed, realistically, we only can sample from the distribution.\n",
    "\n"
   ]
  },
  {
   "cell_type": "code",
   "execution_count": 21,
   "id": "ab11d846",
   "metadata": {},
   "outputs": [],
   "source": [
    "## Syntax to sample from HOM \n",
    "\n",
    "## code to check for 30 runs that we're close to 50%\n"
   ]
  },
  {
   "cell_type": "code",
   "execution_count": 22,
   "id": "ecbaaa5f",
   "metadata": {},
   "outputs": [],
   "source": [
    "## TO-DO for students : implement the code to sample from the 4x4 Unitary of earlier\n",
    "\n",
    "## Question: how many states do we have for 4 modes and 3 photons?\n",
    "## Question: how many samples are needed to approximate the distribution?\n",
    "\n"
   ]
  },
  {
   "cell_type": "markdown",
   "id": "58b02992",
   "metadata": {},
   "source": [
    "### Variational algorithm \n",
    "\n",
    "In those types of algorithm, the samples from a Quantum circuits allow to approximate an expecation value, which would be use in our loss function, to solve a problem.\n"
   ]
  },
  {
   "cell_type": "code",
   "execution_count": null,
   "id": "eaa4cab5",
   "metadata": {},
   "outputs": [],
   "source": [
    "## Create a small exercice with loss function etc. The idea is that they use scipy, minimise, etc, with samples from LO-circuits.\n",
    "## Can be inspired by [VQE](https://perceval.quandela.net/docs/notebooks/Variational%20Quantum%20Eigensolver.html)\n",
    "## We have to be careful not to give something too close of the challenges, so maybe we can use a very generic loss function\n",
    "## Like \"minimising the number of photons here with a phase lie that etc\"\n",
    "\n",
    "\n",
    "\n",
    "## TO-Do for students: implement the circuit, loss function depending on samples, and write scipy.minimise(...)"
   ]
  },
  {
   "cell_type": "markdown",
   "id": "3a78cc87",
   "metadata": {},
   "source": [
    "### To go further : connect to a chip\n",
    "\n",
    "Perceval is also connected to real/physical chips.\n",
    "Here's the syntax to sample directly from them ! \n",
    "\n",
    "(not sure if it's possible, but it would be cool if that was)"
   ]
  },
  {
   "cell_type": "code",
   "execution_count": 23,
   "id": "dffa61bf",
   "metadata": {},
   "outputs": [],
   "source": [
    "## Syntax to run a small circuit and get sampkes from one chip of Quandela"
   ]
  },
  {
   "cell_type": "markdown",
   "id": "c7ada850",
   "metadata": {},
   "source": [
    "# Encoding Qubits <a name=\"encoding\"></a>"
   ]
  },
  {
   "cell_type": "markdown",
   "id": "e84fc736",
   "metadata": {},
   "source": [
    "### Path encoding\n",
    "\n",
    "To perform quantum computing with photons, we need an encodning, that is a correspondance between our Fock states and our qubit states.\n",
    "\n",
    "We therefore want to associate each qubit state with one of our Fock state.\n",
    "\n",
    "One natural way to encode qubits is the path encoding.\n",
    "A qubit is a two quantum states, so we will use two spatial modes to encode it.\n",
    "\n",
    "The first logical qubit $|0\\rangle_L$ will correspond to a photo in the upper mode, so the Fock state $|1,0\\rangle$, while $|1\\rangle_L$ will be encoded by $|0,1\\rangle$.\n",
    " \n",
    "\n",
    "**insert figures of path encodings**\n",
    "\n",
    "\n",
    "By extension, we can understand that the state of $3$ qubits $\\frac{1}{\\sqrt{2}}(|000\\rangle_L+|111\\rangle_L)$ will be encoded with $3$ photons and $3\\times 2=6$ modes :\n",
    "$\\frac{1}{\\sqrt{2}}(|1,0,1,0,1,0\\rangle_L+|0,1,0,1,0,1\\rangle_L)$"
   ]
  },
  {
   "cell_type": "markdown",
   "id": "4fbd0d6a",
   "metadata": {},
   "source": [
    "### One-qubit gates\n",
    "\n",
    "With that enconding, the one qubit gates only deal with one photon and are straightforward. Can you give the LO-circuits for the gates below?"
   ]
  },
  {
   "cell_type": "code",
   "execution_count": 2,
   "id": "626771f0",
   "metadata": {},
   "outputs": [],
   "source": [
    "## TO-DO for us : list of one-quibt gates (X, Z, H, RX, RY, RZ) + test to check the circuit for each gate (circuit.U==gate)\n",
    "\n",
    "## TO-Do for students: find the LO-circuits for each gate"
   ]
  },
  {
   "cell_type": "markdown",
   "id": "26b5af58",
   "metadata": {},
   "source": [
    "### Two-qubit gates\n",
    "\n",
    "With that encoding, it can be shown that two-qubit gates can't be deterministic, and have a probability to fail.\n",
    "\n",
    "There are two ways to detect that failure.\n",
    "\n",
    "Either we use ancilla, and depending on the state obtained on the ancilla, we know the gate has succeeded on the main qubits.\n",
    "Those gates will be called heralded.\n",
    "\n",
    "Either we measure the main qubits, and depending on the state, we know if the gate has succeeded or not.\n",
    "Those gates will be called postselected.\n",
    "\n",
    "In the two exercices, we will see the two types: \n",
    "- the postselected CNOT of [Ralph et al.](https://arxiv.org/abs/quant-ph/0112088)\n",
    "- the heralded CNOT of [Knill](https://arxiv.org/abs/quant-ph/0110144)"
   ]
  },
  {
   "cell_type": "code",
   "execution_count": null,
   "id": "09d7d85f",
   "metadata": {},
   "outputs": [],
   "source": [
    "## Ralph's CNOT\n",
    "\n",
    "## TO-Do for us :  put the image of the circuit + some guidelines\n",
    "\n",
    "## TO-DO for students : reproduce the circuit, and check if perfoms a CNOT"
   ]
  },
  {
   "cell_type": "code",
   "execution_count": null,
   "id": "4bdaa735",
   "metadata": {},
   "outputs": [],
   "source": [
    "## Knill's CNOT\n",
    "\n",
    "## TO-Do for us :  put the image of the circuit + some guidelines\n",
    "\n",
    "## TO-DO for students : reproduce the circuit, and check if perfoms a CNOT"
   ]
  },
  {
   "cell_type": "markdown",
   "id": "bda1dc03",
   "metadata": {},
   "source": [
    "### Exercise\n",
    "\n"
   ]
  },
  {
   "cell_type": "code",
   "execution_count": null,
   "id": "7039fcdc",
   "metadata": {},
   "outputs": [],
   "source": [
    "#TO-Do for us : Find a simple quantum circuit\n",
    "\n",
    "# TO-Do for students : reproduce it in the path-encoding"
   ]
  },
  {
   "cell_type": "markdown",
   "id": "82bce9ad",
   "metadata": {},
   "source": [
    "# To go further  <a name=\"further\"></a>"
   ]
  },
  {
   "cell_type": "markdown",
   "id": "4400ae45",
   "metadata": {},
   "source": [
    "### Noise\n",
    "\n",
    "For now, we've only dealt with perfect circuits, with perfect photons/sources/detectors.\n",
    "\n",
    "A realistic chip is of course far from being perfect. This session is trying to let you model some realistic noises we can encounter.\n"
   ]
  },
  {
   "cell_type": "markdown",
   "id": "c01a61ec",
   "metadata": {},
   "source": [
    "### Exercise\n"
   ]
  },
  {
   "cell_type": "code",
   "execution_count": 3,
   "id": "9eca745d",
   "metadata": {},
   "outputs": [],
   "source": [
    "## TO-DO : model HOM, g2, errors of detection "
   ]
  },
  {
   "cell_type": "code",
   "execution_count": null,
   "id": "7cedc4ac",
   "metadata": {},
   "outputs": [],
   "source": []
  }
 ],
 "metadata": {
  "kernelspec": {
   "display_name": "nicoshkernel",
   "language": "python",
   "name": "nicoshkernel"
  },
  "language_info": {
   "codemirror_mode": {
    "name": "ipython",
    "version": 3
   },
   "file_extension": ".py",
   "mimetype": "text/x-python",
   "name": "python",
   "nbconvert_exporter": "python",
   "pygments_lexer": "ipython3",
   "version": "3.9.7"
  }
 },
 "nbformat": 4,
 "nbformat_minor": 5
}

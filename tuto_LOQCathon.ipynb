{
 "cells": [
  {
   "cell_type": "markdown",
   "id": "0a97c59f",
   "metadata": {},
   "source": [
    "# Tuto LOQCathon \n",
    "\n",
    "In this tutorial, we will try to cover any basic code to get our hands on Perceval.\n",
    "The full documentation can be found on [Doc Perceval](https://perceval.quandela.net/).\n",
    "\n",
    "For any question, feel free to ask !\n",
    "\n",
    "\n",
    "\n",
    "\n",
    "[I. Introduction](#introduction)\\\n",
    "[II. Linear Optical Circuits](#circuits)\\\n",
    "[III. Simulation](#simulation)\\\n",
    "[IV. Encoding Qubits](#encoding)\\\n",
    "[V. To Go Further](#further)\n",
    "\n",
    "\n"
   ]
  },
  {
   "cell_type": "markdown",
   "id": "4ad79fd5",
   "metadata": {},
   "source": [
    "# I. Introduction <a name=\"introduction\"></a>\n",
    "\n",
    "### Installation <a name=\"installation\"></a>"
   ]
  },
  {
   "cell_type": "code",
   "execution_count": 1,
   "id": "7537273d",
   "metadata": {},
   "outputs": [
    {
     "data": {
      "text/plain": [
       "'0.6.1.post78'"
      ]
     },
     "execution_count": 1,
     "metadata": {},
     "output_type": "execute_result"
    }
   ],
   "source": [
    "## TO-DO : commands to install with pip etc (PE told me it shouldn't be necessary)\n",
    "\n",
    "import perceval as pcvl\n",
    "pcvl.__version__"
   ]
  },
  {
   "cell_type": "code",
   "execution_count": 11,
   "id": "28abc3e4",
   "metadata": {},
   "outputs": [],
   "source": [
    "## Test :  basic tests to run to check that's been well installed\n",
    "\n",
    "## EBE : pcvl.__version__ answering a valid version number is a pretty good sign that Perceval lib's been well installed\n",
    "## Maybe use this cell to import other dependencies\n",
    "from perceval.components.unitary_components import PS, BS, PERM #, ...\n",
    "import numpy as np"
   ]
  },
  {
   "cell_type": "markdown",
   "id": "8817daed",
   "metadata": {},
   "source": [
    "### BasicStates <a name=\"basicstates\"></a>\n",
    "\n",
    "In Linear Optical Circuits, photons can have many discrete degrees of freedom, called modes. \n",
    "It can be frequency, the polarisation, the position, or all of them.\n",
    "\n",
    "We represent those degrees of freedom with Fock states. If we have $n$ photons over $m$ modes, the Fock state  : $|s_1,s_2,...,s_m\\rangle$ means we have $s_i$ photons in the $i^{th}$ mode. (note that $\\sum_{i=1}^n s_i =m$).\n",
    "\n",
    "In Perceval, we will use the module `pcvl.BasicState`"
   ]
  },
  {
   "cell_type": "code",
   "execution_count": 2,
   "id": "435b102b",
   "metadata": {},
   "outputs": [
    {
     "name": "stdout",
     "output_type": "stream",
     "text": [
      "There is 0 photon in mode 0\n",
      "There is 1 photon in mode 1\n",
      "There is 0 photon in mode 2\n",
      "There is 1 photon in mode 3\n"
     ]
    }
   ],
   "source": [
    "## Syntax of different BasicState (list, string, etc)\n",
    "bs1 = pcvl.BasicState('|0,1,0,1>')\n",
    "bs2 = pcvl.BasicState([0, 1, 0, 1])\n",
    "\n",
    "## You can iterate on modes\n",
    "for i, photon_count in enumerate(bs2):\n",
    "    print(f\"There is {photon_count} photon in mode {i}\")\n",
    "\n",
    "## Please add something on the BasicStates if you think we need to developp (as the depreciated version of AnnotedState)"
   ]
  },
  {
   "cell_type": "markdown",
   "id": "5fe29a50",
   "metadata": {},
   "source": [
    "### LO-Components <a name=\"components\"></a>\n",
    "\n",
    "The linear optical components are the elementary blocks which will act on our Fock states.\n",
    "\n",
    "It's important to know all the possible components we can find in Perceval and to understand their action.\n",
    "\n"
   ]
  },
  {
   "cell_type": "code",
   "execution_count": 5,
   "id": "1d0cf3b2",
   "metadata": {},
   "outputs": [
    {
     "name": "stdout",
     "output_type": "stream",
     "text": [
      "PS\n",
      "PS(phi=pi)\n"
     ]
    },
    {
     "data": {
      "text/html": [
       "$\\left[\\begin{matrix}e^{i \\phi}\\end{matrix}\\right]$"
      ],
      "text/plain": [
       "<IPython.core.display.HTML object>"
      ]
     },
     "metadata": {},
     "output_type": "display_data"
    }
   ],
   "source": [
    "## TO-DO : code for each component : label+unitary+drawing+some words on the convention for BS\n",
    "\n",
    "## Phase shifter\n",
    "ps = PS(phi=np.pi)\n",
    "\n",
    "print(ps.name)\n",
    "print(ps.describe())\n",
    "pcvl.pdisplay(ps.definition())\n",
    "pcvl.pdisplay(ps)  # A pdisplay call on a circuit/processor needs to be the last line of a cell"
   ]
  },
  {
   "cell_type": "code",
   "execution_count": 8,
   "id": "28d29022",
   "metadata": {},
   "outputs": [
    {
     "name": "stdout",
     "output_type": "stream",
     "text": [
      "BS.H() unitary matrix\n"
     ]
    },
    {
     "data": {
      "text/html": [
       "$\\left[\\begin{matrix}e^{i \\left(\\phi_{tl} + \\phi_{tr}\\right)} \\cos{\\left(\\frac{\\theta}{2} \\right)} & i e^{i \\left(\\phi_{bl} + \\phi_{tr}\\right)} \\sin{\\left(\\frac{\\theta}{2} \\right)}\\\\i e^{i \\left(\\phi_{br} + \\phi_{tl}\\right)} \\sin{\\left(\\frac{\\theta}{2} \\right)} & e^{i \\left(\\phi_{bl} + \\phi_{br}\\right)} \\cos{\\left(\\frac{\\theta}{2} \\right)}\\end{matrix}\\right]$"
      ],
      "text/plain": [
       "<IPython.core.display.HTML object>"
      ]
     },
     "metadata": {},
     "output_type": "display_data"
    },
    {
     "name": "stdout",
     "output_type": "stream",
     "text": [
      "BS.Rx() unitary matrix\n"
     ]
    },
    {
     "data": {
      "text/html": [
       "$\\left[\\begin{matrix}e^{i \\left(\\phi_{tl} + \\phi_{tr}\\right)} \\cos{\\left(\\frac{\\theta}{2} \\right)} & i e^{i \\left(\\phi_{bl} + \\phi_{tr}\\right)} \\sin{\\left(\\frac{\\theta}{2} \\right)}\\\\i e^{i \\left(\\phi_{br} + \\phi_{tl}\\right)} \\sin{\\left(\\frac{\\theta}{2} \\right)} & e^{i \\left(\\phi_{bl} + \\phi_{br}\\right)} \\cos{\\left(\\frac{\\theta}{2} \\right)}\\end{matrix}\\right]$"
      ],
      "text/plain": [
       "<IPython.core.display.HTML object>"
      ]
     },
     "metadata": {},
     "output_type": "display_data"
    },
    {
     "name": "stdout",
     "output_type": "stream",
     "text": [
      "BS.Ry() unitary matrix\n"
     ]
    },
    {
     "data": {
      "text/html": [
       "$\\left[\\begin{matrix}e^{i \\left(\\phi_{tl} + \\phi_{tr}\\right)} \\cos{\\left(\\frac{\\theta}{2} \\right)} & i e^{i \\left(\\phi_{bl} + \\phi_{tr}\\right)} \\sin{\\left(\\frac{\\theta}{2} \\right)}\\\\i e^{i \\left(\\phi_{br} + \\phi_{tl}\\right)} \\sin{\\left(\\frac{\\theta}{2} \\right)} & e^{i \\left(\\phi_{bl} + \\phi_{br}\\right)} \\cos{\\left(\\frac{\\theta}{2} \\right)}\\end{matrix}\\right]$"
      ],
      "text/plain": [
       "<IPython.core.display.HTML object>"
      ]
     },
     "metadata": {},
     "output_type": "display_data"
    },
    {
     "name": "stdout",
     "output_type": "stream",
     "text": [
      "BS displays its convention as a small label\n"
     ]
    },
    {
     "data": {
      "image/svg+xml": [
       "<?xml version=\"1.0\" encoding=\"UTF-8\"?>\n",
       "<svg xmlns=\"http://www.w3.org/2000/svg\" xmlns:xlink=\"http://www.w3.org/1999/xlink\"\n",
       "     width=\"312.5\" height=\"187.5\" viewBox=\"-28.0 0 250 150\">\n",
       "<defs>\n",
       "</defs>\n",
       "<path d=\"M10,25 L25,25\" stroke-width=\"3\" stroke=\"darkred\" stroke-linejoin=\"miter\" fill=\"none\" />\n",
       "<path d=\"M10,75 L25,75\" stroke-width=\"3\" stroke=\"darkred\" stroke-linejoin=\"miter\" fill=\"none\" />\n",
       "<path d=\"M25,25 L53,25 L72,44\" stroke=\"darkred\" stroke-width=\"3\" fill=\"none\" />\n",
       "<path d=\"M78,44 L97,25 L125,25\" stroke=\"darkred\" stroke-width=\"3\" fill=\"none\" />\n",
       "<path d=\"M25,75 L53,75 L72,56\" stroke=\"darkred\" stroke-width=\"3\" fill=\"none\" />\n",
       "<path d=\"M78,56 L97,75 L125,75\" stroke=\"darkred\" stroke-width=\"3\" fill=\"none\" />\n",
       "<path d=\"M50,43 L100,43 L100,57 L50,57 Z\" stroke=\"black\" fill=\"black\" stroke-linejoin=\"miter\" />\n",
       "<text x=\"75\" y=\"85\" font-size=\"7\" text-anchor=\"middle\" dy=\"0em\"></text>\n",
       "<text x=\"75\" y=\"26\" font-size=\"7\" text-anchor=\"middle\" dy=\"0em\"></text>\n",
       "<path d=\"M50,43 L100,43 L100,47 L50,47 Z\" stroke=\"black\" fill=\"lightgray\" stroke-linejoin=\"miter\" />\n",
       "<path d=\"M93,50 L103,50 L103,60 L93,60 Z\" stroke=\"black\" fill=\"lightsalmon\" stroke-linejoin=\"miter\" />\n",
       "<text x=\"98\" y=\"57\" font-size=\"6\" text-anchor=\"middle\" dy=\"0em\">Ry</text>\n",
       "<path d=\"M125,25 L140,25\" stroke-width=\"3\" stroke=\"darkred\" stroke-linejoin=\"miter\" fill=\"none\" />\n",
       "<path d=\"M125,75 L140,75\" stroke-width=\"3\" stroke=\"darkred\" stroke-linejoin=\"miter\" fill=\"none\" />\n",
       "<text x=\"150\" y=\"28\" font-size=\"6\" text-anchor=\"end\" dy=\"0em\">0</text>\n",
       "<text x=\"150\" y=\"78\" font-size=\"6\" text-anchor=\"end\" dy=\"0em\">1</text>\n",
       "<text x=\"0\" y=\"28\" font-size=\"6\" text-anchor=\"start\" dy=\"0em\">0</text>\n",
       "<text x=\"0\" y=\"78\" font-size=\"6\" text-anchor=\"start\" dy=\"0em\">1</text>\n",
       "</svg>"
      ],
      "text/plain": [
       "<drawSvg.drawing.Drawing at 0x7ff27addd760>"
      ]
     },
     "execution_count": 8,
     "metadata": {},
     "output_type": "execute_result"
    }
   ],
   "source": [
    "## Beam splitters\n",
    "\n",
    "bs_h = BS()  # By default a beam splitter follows the Hadamard gate convention\n",
    "# But other conventions exist too:\n",
    "bs_rx = BS.Rx()\n",
    "bs_ry = BS.Ry()\n",
    "\n",
    "## Check the difference in the unitary definition:\n",
    "print(\"BS.H() unitary matrix\")\n",
    "pcvl.pdisplay(bs_h.definition())\n",
    "print(\"BS.Rx() unitary matrix\")\n",
    "pcvl.pdisplay(bs_rx.definition())\n",
    "print(\"BS.Ry() unitary matrix\")\n",
    "pcvl.pdisplay(bs_ry.definition())\n",
    "print(\"BS displays its convention as a small label\")\n",
    "pcvl.pdisplay(bs_ry)"
   ]
  },
  {
   "cell_type": "markdown",
   "id": "bb4cd4d2",
   "metadata": {},
   "source": [
    "# II. LO-Circuits <a name=\"circuits\"></a>\n",
    "\n",
    "From the LO-components, we can build a LO-circuit, i.e. a sequence of those components acting on our different modes.\n",
    "\n",
    "### Syntax"
   ]
  },
  {
   "cell_type": "code",
   "execution_count": 24,
   "id": "2ab8b90e",
   "metadata": {},
   "outputs": [
    {
     "data": {
      "text/html": [
       "$\\left[\\begin{matrix}\\frac{\\sqrt{2} e^{1.5707963267949 i}}{2} & \\frac{\\sqrt{2} i e^{1.5707963267949 i}}{2} & 0\\\\\\frac{i e^{1.5707963267949 i}}{2} & 3.06161699786838 \\cdot 10^{-17} + 0.5 i & \\frac{\\sqrt{2} i}{2}\\\\-3.06161699786838 \\cdot 10^{-17} - 0.5 i & \\frac{i e^{1.5707963267949 i}}{2} & \\frac{\\sqrt{2}}{2}\\end{matrix}\\right]$"
      ],
      "text/plain": [
       "<IPython.core.display.HTML object>"
      ]
     },
     "metadata": {},
     "output_type": "display_data"
    },
    {
     "data": {
      "image/svg+xml": [
       "<?xml version=\"1.0\" encoding=\"UTF-8\"?>\n",
       "<svg xmlns=\"http://www.w3.org/2000/svg\" xmlns:xlink=\"http://www.w3.org/1999/xlink\"\n",
       "     width=\"500.0\" height=\"250.0\" viewBox=\"-28.0 0 400 200\">\n",
       "<defs>\n",
       "</defs>\n",
       "<path d=\"M10,25 L25,25\" stroke-width=\"3\" stroke=\"darkred\" stroke-linejoin=\"miter\" fill=\"none\" />\n",
       "<path d=\"M10,75 L25,75\" stroke-width=\"3\" stroke=\"darkred\" stroke-linejoin=\"miter\" fill=\"none\" />\n",
       "<path d=\"M10,125 L25,125\" stroke-width=\"3\" stroke=\"darkred\" stroke-linejoin=\"miter\" fill=\"none\" />\n",
       "<path d=\"M25,25 L53,25 L72,44\" stroke=\"darkred\" stroke-width=\"3\" fill=\"none\" />\n",
       "<path d=\"M78,44 L97,25 L125,25\" stroke=\"darkred\" stroke-width=\"3\" fill=\"none\" />\n",
       "<path d=\"M25,75 L53,75 L72,56\" stroke=\"darkred\" stroke-width=\"3\" fill=\"none\" />\n",
       "<path d=\"M78,56 L97,75 L125,75\" stroke=\"darkred\" stroke-width=\"3\" fill=\"none\" />\n",
       "<path d=\"M50,43 L100,43 L100,57 L50,57 Z\" stroke=\"black\" fill=\"black\" stroke-linejoin=\"miter\" />\n",
       "<text x=\"75\" y=\"85\" font-size=\"7\" text-anchor=\"middle\" dy=\"0em\"></text>\n",
       "<text x=\"75\" y=\"26\" font-size=\"7\" text-anchor=\"middle\" dy=\"0em\"></text>\n",
       "<path d=\"M50,43 L100,43 L100,47 L50,47 Z\" stroke=\"black\" fill=\"lightgray\" stroke-linejoin=\"miter\" />\n",
       "<path d=\"M93,50 L103,50 L103,60 L93,60 Z\" stroke=\"black\" fill=\"thistle\" stroke-linejoin=\"miter\" />\n",
       "<text x=\"98\" y=\"57\" font-size=\"6\" text-anchor=\"middle\" dy=\"0em\">Rx</text>\n",
       "<path d=\"M125,25 L175,25\" stroke=\"darkred\" stroke-width=\"3\" fill=\"none\" />\n",
       "<path d=\"M130,40 L139,40 L153,10 L144,10 L130,40 L139,40 Z\" stroke=\"black\" fill=\"gray\" stroke-linejoin=\"miter\" />\n",
       "<text x=\"147\" y=\"38\" font-size=\"7\" text-anchor=\"start\" dy=\"0em\">Φ=pi/2</text>\n",
       "<path d=\"M125,75 L175,75\" stroke=\"darkred\" stroke-width=\"3\" fill=\"none\" />\n",
       "<path d=\"M130,90 L139,90 L153,60 L144,60 L130,90 L139,90 Z\" stroke=\"black\" fill=\"gray\" stroke-linejoin=\"miter\" />\n",
       "<text x=\"147\" y=\"88\" font-size=\"7\" text-anchor=\"start\" dy=\"0em\">Φ=pi/2</text>\n",
       "<path d=\"M25,125 L175,125\" stroke=\"darkred\" stroke-width=\"3\" fill=\"none\" />\n",
       "<path d=\"M175,75 L203,75 L222,94\" stroke=\"darkred\" stroke-width=\"3\" fill=\"none\" />\n",
       "<path d=\"M228,94 L247,75 L275,75\" stroke=\"darkred\" stroke-width=\"3\" fill=\"none\" />\n",
       "<path d=\"M175,125 L203,125 L222,106\" stroke=\"darkred\" stroke-width=\"3\" fill=\"none\" />\n",
       "<path d=\"M228,106 L247,125 L275,125\" stroke=\"darkred\" stroke-width=\"3\" fill=\"none\" />\n",
       "<path d=\"M200,93 L250,93 L250,107 L200,107 Z\" stroke=\"black\" fill=\"black\" stroke-linejoin=\"miter\" />\n",
       "<text x=\"225\" y=\"135\" font-size=\"7\" text-anchor=\"middle\" dy=\"0em\"></text>\n",
       "<text x=\"225\" y=\"76\" font-size=\"7\" text-anchor=\"middle\" dy=\"0em\"></text>\n",
       "<path d=\"M200,93 L250,93 L250,97 L200,97 Z\" stroke=\"black\" fill=\"lightgray\" stroke-linejoin=\"miter\" />\n",
       "<path d=\"M243,100 L253,100 L253,110 L243,110 Z\" stroke=\"black\" fill=\"thistle\" stroke-linejoin=\"miter\" />\n",
       "<text x=\"248\" y=\"107\" font-size=\"6\" text-anchor=\"middle\" dy=\"0em\">Rx</text>\n",
       "<path d=\"M175,25 L275,25\" stroke=\"darkred\" stroke-width=\"3\" fill=\"none\" />\n",
       "<path d=\"M275,25 L290,25\" stroke-width=\"3\" stroke=\"darkred\" stroke-linejoin=\"miter\" fill=\"none\" />\n",
       "<path d=\"M275,75 L290,75\" stroke-width=\"3\" stroke=\"darkred\" stroke-linejoin=\"miter\" fill=\"none\" />\n",
       "<path d=\"M275,125 L290,125\" stroke-width=\"3\" stroke=\"darkred\" stroke-linejoin=\"miter\" fill=\"none\" />\n",
       "<text x=\"300\" y=\"28\" font-size=\"6\" text-anchor=\"end\" dy=\"0em\">0</text>\n",
       "<text x=\"300\" y=\"78\" font-size=\"6\" text-anchor=\"end\" dy=\"0em\">1</text>\n",
       "<text x=\"300\" y=\"128\" font-size=\"6\" text-anchor=\"end\" dy=\"0em\">2</text>\n",
       "<text x=\"0\" y=\"28\" font-size=\"6\" text-anchor=\"start\" dy=\"0em\">0</text>\n",
       "<text x=\"0\" y=\"78\" font-size=\"6\" text-anchor=\"start\" dy=\"0em\">1</text>\n",
       "<text x=\"0\" y=\"128\" font-size=\"6\" text-anchor=\"start\" dy=\"0em\">2</text>\n",
       "</svg>"
      ],
      "text/plain": [
       "<drawSvg.drawing.Drawing at 0x7ff27ac28c70>"
      ]
     },
     "execution_count": 24,
     "metadata": {},
     "output_type": "execute_result"
    }
   ],
   "source": [
    "## TO-DO :  code to create a circuit of 3 modes with the components seen above. Print the display. Print the unitary. \n",
    "circuit = pcvl.Circuit(3)  # Create a 3 mode circuit\n",
    "\n",
    "# circuit // BS() // PS(phi=np.pi/2) // (1, PS(phi=np.pi/2)) // (1, BS())\n",
    "\n",
    "# Equivalent syntax\n",
    "circuit.add(0, BS()).add(0, PS(phi=np.pi/2)).add(1, PS(phi=np.pi/2)).add(1, BS())\n",
    "\n",
    "pcvl.pdisplay(circuit.U)\n",
    "pcvl.pdisplay(circuit)"
   ]
  },
  {
   "cell_type": "markdown",
   "id": "75e4440d",
   "metadata": {},
   "source": [
    "### Mach-Zehnder Interferometers \n",
    "\n",
    "As seen above, we can use Beamsplitters with the reflexivity or the $\\theta$ angle as parameters.\n",
    "\n",
    "In practice, the reflexivity depends on the miror. It's therefore hard... \n",
    "\n"
   ]
  },
  {
   "cell_type": "code",
   "execution_count": 9,
   "id": "8598d2e3",
   "metadata": {},
   "outputs": [],
   "source": [
    "## TO-DO : Show MZI circuit, matrix, \n",
    "\n",
    "\n",
    "## TO-DO :  note we can use symbolic in our circuits, so we can check the formula ... (introduce the symbolic in unitaries)\n",
    "\n",
    "## EBE : Since BS convention devel, R is not a BS parameter anymore. If you need to create a BS from a R value, please use:\n",
    "## BS(BS.r_to_theta(reflectivity_value))\n",
    "## However, be aware that only theta value is stored inside the BS object"
   ]
  },
  {
   "cell_type": "markdown",
   "id": "9d8e718b",
   "metadata": {},
   "source": [
    "### Universal Circuits\n",
    "\n",
    "It's important to know that given a unitary $U$ on our modes, it's always possible to find a LO-circuit implementing $U$.\n",
    "\n",
    "If we want to implement $U=\\begin{pmatrix}\n",
    "a_{1,1} & a_{1,2} & a_{1,3}\\\\\n",
    "a_{2,1} & a_{2,2} & a_{2,3} \\\\ \n",
    "a_{3,1} & a_{3,2} & a_{3,3}\n",
    "\\end{pmatrix}$ the operation :\n",
    "\n",
    "(It's important to precise/remind this unitary is doing the following operation on the Fock state basis:\n",
    "$\\begin{array}{rcl}\n",
    "|1,0,0\\rangle &  \\mapsto&  a_{1,1}|1,0,0\\rangle + a_{1,2}|0,1,0\\rangle + a_{1,3}|0,0,1\\rangle\\\\\n",
    "|0,1,0\\rangle &  \\mapsto&  a_{2,1}|1,0,0\\rangle + a_{2,2}|0,1,0\\rangle + a_{2,3}|0,0,1\\rangle\\\\\n",
    "|0,0,1\\rangle &  \\mapsto&  a_{3,1}|1,0,0\\rangle + a_{3,2}|0,1,0\\rangle + a_{3,3}|0,0,1\\rangle\n",
    "\\end{array}$"
   ]
  },
  {
   "cell_type": "code",
   "execution_count": 12,
   "id": "824d8737",
   "metadata": {},
   "outputs": [],
   "source": [
    "## code for universal circuit of size 3, for a random U, with the reference of Reck"
   ]
  },
  {
   "cell_type": "markdown",
   "id": "78150c03",
   "metadata": {},
   "source": [
    "Historically, the universal form was triangular (quote Reck), then later a rectangular form, with less depth, has been found : [Clements' et al](https://arxiv.org/abs/1603.08788?context=physics) .\n"
   ]
  },
  {
   "cell_type": "code",
   "execution_count": 13,
   "id": "a043bb05",
   "metadata": {},
   "outputs": [],
   "source": [
    "## code to generate from random unitary of size n, the universal circuit with rectangular shape\n",
    "\n",
    "## EBE : Rectangular decomposition is part of a Perceval internal plugin (not available to the public).\n",
    "## Are you sure we're able to use/show it for the Hackathon\n",
    "## If so, it's important to tell the dev team to install perceval-internal on the hackathon machines"
   ]
  },
  {
   "cell_type": "code",
   "execution_count": 14,
   "id": "20b31e3f",
   "metadata": {},
   "outputs": [],
   "source": [
    "## TO-do for students  : from random circuit, create circuit with only MZI and phase shifters"
   ]
  },
  {
   "cell_type": "markdown",
   "id": "b6990985",
   "metadata": {},
   "source": [
    "### Black Box \n",
    "\n",
    "For more readibility and sometimes as we'll need generic operations (see [Encoding]()), it's not always necessary to describe the circuit and explicit all the parameters.\n"
   ]
  },
  {
   "cell_type": "code",
   "execution_count": 15,
   "id": "cf442c25",
   "metadata": {},
   "outputs": [
    {
     "data": {
      "image/svg+xml": [
       "<?xml version=\"1.0\" encoding=\"UTF-8\"?>\n",
       "<svg xmlns=\"http://www.w3.org/2000/svg\" xmlns:xlink=\"http://www.w3.org/1999/xlink\"\n",
       "     width=\"437.5\" height=\"312.5\" viewBox=\"-78.0 0 350 250\">\n",
       "<defs>\n",
       "</defs>\n",
       "<path d=\"M10,25 L25,25\" stroke-width=\"3\" stroke=\"darkred\" stroke-linejoin=\"miter\" fill=\"none\" />\n",
       "<path d=\"M10,75 L25,75\" stroke-width=\"3\" stroke=\"darkred\" stroke-linejoin=\"miter\" fill=\"none\" />\n",
       "<path d=\"M10,125 L25,125\" stroke-width=\"3\" stroke=\"darkred\" stroke-linejoin=\"miter\" fill=\"none\" />\n",
       "<path d=\"M10,175 L25,175\" stroke-width=\"3\" stroke=\"darkred\" stroke-linejoin=\"miter\" fill=\"none\" />\n",
       "<path d=\"M25,25 L125,25\" stroke=\"darkred\" stroke-width=\"3\" fill=\"none\" />\n",
       "<path d=\"M25,75 L125,75\" stroke=\"darkred\" stroke-width=\"3\" fill=\"none\" />\n",
       "<path d=\"M25,125 L125,125\" stroke=\"darkred\" stroke-width=\"3\" fill=\"none\" />\n",
       "<path d=\"M25,175 L125,175\" stroke=\"darkred\" stroke-width=\"3\" fill=\"none\" />\n",
       "<path d=\"M27.5,2.5 L122.5,2.5 L122.5,197.5 L27.5,197.5 Z\" stroke=\"darkred\" fill=\"lightpink\" stroke-linejoin=\"miter\" />\n",
       "<text x=\"35\" y=\"32\" font-size=\"8\" text-anchor=\"start\" font-weight=\"bold\"><tspan x=\"35\" dy=\"0em\">BELL</tspan><tspan x=\"35\" dy=\"1em\">STATE</tspan><tspan x=\"35\" dy=\"1em\">PREPARATION</tspan></text>\n",
       "<path d=\"M125,25 L225,25\" stroke=\"darkred\" stroke-width=\"3\" fill=\"none\" />\n",
       "<path d=\"M125,75 L225,75\" stroke=\"darkred\" stroke-width=\"3\" fill=\"none\" />\n",
       "<path d=\"M127.5,2.5 L222.5,2.5 L222.5,97.5 L127.5,97.5 Z\" stroke=\"darkred\" fill=\"lightpink\" stroke-linejoin=\"miter\" />\n",
       "<text x=\"135\" y=\"24\" font-size=\"8\" text-anchor=\"start\" font-weight=\"bold\"><tspan x=\"135\" dy=\"0em\">UPPER</tspan><tspan x=\"135\" dy=\"1em\">MZI</tspan></text>\n",
       "<path d=\"M125,125 L225,125\" stroke=\"darkred\" stroke-width=\"3\" fill=\"none\" />\n",
       "<path d=\"M125,175 L225,175\" stroke=\"darkred\" stroke-width=\"3\" fill=\"none\" />\n",
       "<path d=\"M127.5,102.5 L222.5,102.5 L222.5,197.5 L127.5,197.5 Z\" stroke=\"darkred\" fill=\"lightpink\" stroke-linejoin=\"miter\" />\n",
       "<text x=\"135\" y=\"124\" font-size=\"8\" text-anchor=\"start\" font-weight=\"bold\"><tspan x=\"135\" dy=\"0em\">LOWER</tspan><tspan x=\"135\" dy=\"1em\">MZI</tspan></text>\n",
       "<path d=\"M225,25 L240,25\" stroke-width=\"3\" stroke=\"darkred\" stroke-linejoin=\"miter\" fill=\"none\" />\n",
       "<path d=\"M225,75 L240,75\" stroke-width=\"3\" stroke=\"darkred\" stroke-linejoin=\"miter\" fill=\"none\" />\n",
       "<path d=\"M225,125 L240,125\" stroke-width=\"3\" stroke=\"darkred\" stroke-linejoin=\"miter\" fill=\"none\" />\n",
       "<path d=\"M225,175 L240,175\" stroke-width=\"3\" stroke=\"darkred\" stroke-linejoin=\"miter\" fill=\"none\" />\n",
       "<text x=\"250\" y=\"28\" font-size=\"6\" text-anchor=\"end\" dy=\"0em\">0</text>\n",
       "<text x=\"250\" y=\"78\" font-size=\"6\" text-anchor=\"end\" dy=\"0em\">1</text>\n",
       "<text x=\"250\" y=\"128\" font-size=\"6\" text-anchor=\"end\" dy=\"0em\">2</text>\n",
       "<text x=\"250\" y=\"178\" font-size=\"6\" text-anchor=\"end\" dy=\"0em\">3</text>\n",
       "<text x=\"0\" y=\"28\" font-size=\"6\" text-anchor=\"start\" dy=\"0em\">0</text>\n",
       "<text x=\"0\" y=\"78\" font-size=\"6\" text-anchor=\"start\" dy=\"0em\">1</text>\n",
       "<text x=\"0\" y=\"128\" font-size=\"6\" text-anchor=\"start\" dy=\"0em\">2</text>\n",
       "<text x=\"0\" y=\"178\" font-size=\"6\" text-anchor=\"start\" dy=\"0em\">3</text>\n",
       "</svg>"
      ],
      "text/plain": [
       "<drawSvg.drawing.Drawing at 0x7ff27ad4ff10>"
      ]
     },
     "execution_count": 15,
     "metadata": {},
     "output_type": "execute_result"
    }
   ],
   "source": [
    "## Code with circuits with balck boxes, with labels, etc\n",
    "\n",
    "## EBE : example :\n",
    "\n",
    "pre_MZI = (pcvl.Circuit(4, name=\"Bell State Preparation\")\n",
    "           .add(0, BS())\n",
    "           .add(2, BS())\n",
    "           .add(1, PERM([1, 0])))\n",
    "\n",
    "upper_MZI = (pcvl.Circuit(2, name=\"upper MZI\")\n",
    "             .add(0, PS(phi=pcvl.P('phi_0')))\n",
    "             .add(0, BS())\n",
    "             .add(0, PS(phi=pcvl.P('phi_2')))\n",
    "             .add(0, BS()))\n",
    "\n",
    "lower_MZI = (pcvl.Circuit(2, name=\"lower MZI\")\n",
    "             .add(0, PS(phi=pcvl.P('phi_1')))\n",
    "             .add(0, BS())\n",
    "             .add(0, PS(phi=pcvl.P('phi_3')))\n",
    "             .add(0, BS()))\n",
    "\n",
    "chip = (pcvl.Circuit(4)\n",
    "              .add(0, pre_MZI)\n",
    "              .add(0, upper_MZI, merge=False)\n",
    "              .add(2, lower_MZI, merge=False))\n",
    "\n",
    "pcvl.pdisplay(chip)"
   ]
  },
  {
   "cell_type": "code",
   "execution_count": 16,
   "id": "fe352c22",
   "metadata": {},
   "outputs": [
    {
     "data": {
      "image/svg+xml": [
       "<?xml version=\"1.0\" encoding=\"UTF-8\"?>\n",
       "<svg xmlns=\"http://www.w3.org/2000/svg\" xmlns:xlink=\"http://www.w3.org/1999/xlink\"\n",
       "     width=\"750.0\" height=\"312.5\" viewBox=\"-84.0 0 600 250\">\n",
       "<defs>\n",
       "</defs>\n",
       "<path d=\"M10,25 L25,25\" stroke-width=\"3\" stroke=\"darkred\" stroke-linejoin=\"miter\" fill=\"none\" />\n",
       "<path d=\"M10,75 L25,75\" stroke-width=\"3\" stroke=\"darkred\" stroke-linejoin=\"miter\" fill=\"none\" />\n",
       "<path d=\"M10,125 L25,125\" stroke-width=\"3\" stroke=\"darkred\" stroke-linejoin=\"miter\" fill=\"none\" />\n",
       "<path d=\"M10,175 L25,175\" stroke-width=\"3\" stroke=\"darkred\" stroke-linejoin=\"miter\" fill=\"none\" />\n",
       "<path d=\"M27,2 L173,2 L173,198 L27,198 Z\" stroke=\"black\" fill=\"lightblue\" stroke-dasharray=\"1,2\" stroke-linejoin=\"miter\" />\n",
       "<text x=\"29\" y=\"205\" font-size=\"8\" text-anchor=\"start\" dy=\"0em\">BELL STATE PREPARATION</text>\n",
       "<path d=\"M25,25 L53,25 L72,44\" stroke=\"darkred\" stroke-width=\"3\" fill=\"none\" />\n",
       "<path d=\"M78,44 L97,25 L125,25\" stroke=\"darkred\" stroke-width=\"3\" fill=\"none\" />\n",
       "<path d=\"M25,75 L53,75 L72,56\" stroke=\"darkred\" stroke-width=\"3\" fill=\"none\" />\n",
       "<path d=\"M78,56 L97,75 L125,75\" stroke=\"darkred\" stroke-width=\"3\" fill=\"none\" />\n",
       "<path d=\"M50,43 L100,43 L100,57 L50,57 Z\" stroke=\"black\" fill=\"black\" stroke-linejoin=\"miter\" />\n",
       "<text x=\"75\" y=\"85\" font-size=\"7\" text-anchor=\"middle\" dy=\"0em\"></text>\n",
       "<text x=\"75\" y=\"26\" font-size=\"7\" text-anchor=\"middle\" dy=\"0em\"></text>\n",
       "<path d=\"M50,43 L100,43 L100,47 L50,47 Z\" stroke=\"black\" fill=\"lightgray\" stroke-linejoin=\"miter\" />\n",
       "<path d=\"M93,50 L103,50 L103,60 L93,60 Z\" stroke=\"black\" fill=\"thistle\" stroke-linejoin=\"miter\" />\n",
       "<text x=\"98\" y=\"57\" font-size=\"6\" text-anchor=\"middle\" dy=\"0em\">Rx</text>\n",
       "<path d=\"M25,125 L53,125 L72,144\" stroke=\"darkred\" stroke-width=\"3\" fill=\"none\" />\n",
       "<path d=\"M78,144 L97,125 L125,125\" stroke=\"darkred\" stroke-width=\"3\" fill=\"none\" />\n",
       "<path d=\"M25,175 L53,175 L72,156\" stroke=\"darkred\" stroke-width=\"3\" fill=\"none\" />\n",
       "<path d=\"M78,156 L97,175 L125,175\" stroke=\"darkred\" stroke-width=\"3\" fill=\"none\" />\n",
       "<path d=\"M50,143 L100,143 L100,157 L50,157 Z\" stroke=\"black\" fill=\"black\" stroke-linejoin=\"miter\" />\n",
       "<text x=\"75\" y=\"185\" font-size=\"7\" text-anchor=\"middle\" dy=\"0em\"></text>\n",
       "<text x=\"75\" y=\"126\" font-size=\"7\" text-anchor=\"middle\" dy=\"0em\"></text>\n",
       "<path d=\"M50,143 L100,143 L100,147 L50,147 Z\" stroke=\"black\" fill=\"lightgray\" stroke-linejoin=\"miter\" />\n",
       "<path d=\"M93,150 L103,150 L103,160 L93,160 Z\" stroke=\"black\" fill=\"thistle\" stroke-linejoin=\"miter\" />\n",
       "<text x=\"98\" y=\"157\" font-size=\"6\" text-anchor=\"middle\" dy=\"0em\">Rx</text>\n",
       "<path d=\"M128,75 L172,125\" stroke=\"white\" stroke-width=\"6\" fill=\"none\" />\n",
       "<path d=\"M125,75 L128,75 L172,125 L175,125\" stroke=\"darkred\" stroke-width=\"3\" fill=\"none\" />\n",
       "<path d=\"M128,125 L172,75\" stroke=\"white\" stroke-width=\"6\" fill=\"none\" />\n",
       "<path d=\"M125,125 L128,125 L172,75 L175,75\" stroke=\"darkred\" stroke-width=\"3\" fill=\"none\" />\n",
       "<path d=\"M125,25 L175,25\" stroke=\"darkred\" stroke-width=\"3\" fill=\"none\" />\n",
       "<path d=\"M125,175 L175,175\" stroke=\"darkred\" stroke-width=\"3\" fill=\"none\" />\n",
       "<path d=\"M177,2 L473,2 L473,98 L177,98 Z\" stroke=\"black\" fill=\"lightblue\" stroke-dasharray=\"1,2\" stroke-linejoin=\"miter\" />\n",
       "<text x=\"179\" y=\"105\" font-size=\"8\" text-anchor=\"start\" dy=\"0em\">UPPER MZI</text>\n",
       "<path d=\"M175,25 L225,25\" stroke=\"darkred\" stroke-width=\"3\" fill=\"none\" />\n",
       "<path d=\"M180,40 L189,40 L203,10 L194,10 L180,40 L189,40 Z\" stroke=\"black\" fill=\"gray\" stroke-linejoin=\"miter\" />\n",
       "<text x=\"197\" y=\"38\" font-size=\"7\" text-anchor=\"start\" dy=\"0em\">Φ=phi_0</text>\n",
       "<path d=\"M175,75 L225,75\" stroke=\"darkred\" stroke-width=\"3\" fill=\"none\" />\n",
       "<path d=\"M225,25 L253,25 L272,44\" stroke=\"darkred\" stroke-width=\"3\" fill=\"none\" />\n",
       "<path d=\"M278,44 L297,25 L325,25\" stroke=\"darkred\" stroke-width=\"3\" fill=\"none\" />\n",
       "<path d=\"M225,75 L253,75 L272,56\" stroke=\"darkred\" stroke-width=\"3\" fill=\"none\" />\n",
       "<path d=\"M278,56 L297,75 L325,75\" stroke=\"darkred\" stroke-width=\"3\" fill=\"none\" />\n",
       "<path d=\"M250,43 L300,43 L300,57 L250,57 Z\" stroke=\"black\" fill=\"black\" stroke-linejoin=\"miter\" />\n",
       "<text x=\"275\" y=\"85\" font-size=\"7\" text-anchor=\"middle\" dy=\"0em\"></text>\n",
       "<text x=\"275\" y=\"26\" font-size=\"7\" text-anchor=\"middle\" dy=\"0em\"></text>\n",
       "<path d=\"M250,43 L300,43 L300,47 L250,47 Z\" stroke=\"black\" fill=\"lightgray\" stroke-linejoin=\"miter\" />\n",
       "<path d=\"M293,50 L303,50 L303,60 L293,60 Z\" stroke=\"black\" fill=\"thistle\" stroke-linejoin=\"miter\" />\n",
       "<text x=\"298\" y=\"57\" font-size=\"6\" text-anchor=\"middle\" dy=\"0em\">Rx</text>\n",
       "<path d=\"M325,25 L375,25\" stroke=\"darkred\" stroke-width=\"3\" fill=\"none\" />\n",
       "<path d=\"M330,40 L339,40 L353,10 L344,10 L330,40 L339,40 Z\" stroke=\"black\" fill=\"gray\" stroke-linejoin=\"miter\" />\n",
       "<text x=\"347\" y=\"38\" font-size=\"7\" text-anchor=\"start\" dy=\"0em\">Φ=phi_2</text>\n",
       "<path d=\"M325,75 L375,75\" stroke=\"darkred\" stroke-width=\"3\" fill=\"none\" />\n",
       "<path d=\"M375,25 L403,25 L422,44\" stroke=\"darkred\" stroke-width=\"3\" fill=\"none\" />\n",
       "<path d=\"M428,44 L447,25 L475,25\" stroke=\"darkred\" stroke-width=\"3\" fill=\"none\" />\n",
       "<path d=\"M375,75 L403,75 L422,56\" stroke=\"darkred\" stroke-width=\"3\" fill=\"none\" />\n",
       "<path d=\"M428,56 L447,75 L475,75\" stroke=\"darkred\" stroke-width=\"3\" fill=\"none\" />\n",
       "<path d=\"M400,43 L450,43 L450,57 L400,57 Z\" stroke=\"black\" fill=\"black\" stroke-linejoin=\"miter\" />\n",
       "<text x=\"425\" y=\"85\" font-size=\"7\" text-anchor=\"middle\" dy=\"0em\"></text>\n",
       "<text x=\"425\" y=\"26\" font-size=\"7\" text-anchor=\"middle\" dy=\"0em\"></text>\n",
       "<path d=\"M400,43 L450,43 L450,47 L400,47 Z\" stroke=\"black\" fill=\"lightgray\" stroke-linejoin=\"miter\" />\n",
       "<path d=\"M443,50 L453,50 L453,60 L443,60 Z\" stroke=\"black\" fill=\"thistle\" stroke-linejoin=\"miter\" />\n",
       "<text x=\"448\" y=\"57\" font-size=\"6\" text-anchor=\"middle\" dy=\"0em\">Rx</text>\n",
       "<path d=\"M177,102 L473,102 L473,198 L177,198 Z\" stroke=\"black\" fill=\"lightblue\" stroke-dasharray=\"1,2\" stroke-linejoin=\"miter\" />\n",
       "<text x=\"179\" y=\"205\" font-size=\"8\" text-anchor=\"start\" dy=\"0em\">LOWER MZI</text>\n",
       "<path d=\"M175,125 L225,125\" stroke=\"darkred\" stroke-width=\"3\" fill=\"none\" />\n",
       "<path d=\"M180,140 L189,140 L203,110 L194,110 L180,140 L189,140 Z\" stroke=\"black\" fill=\"gray\" stroke-linejoin=\"miter\" />\n",
       "<text x=\"197\" y=\"138\" font-size=\"7\" text-anchor=\"start\" dy=\"0em\">Φ=phi_1</text>\n",
       "<path d=\"M175,175 L225,175\" stroke=\"darkred\" stroke-width=\"3\" fill=\"none\" />\n",
       "<path d=\"M225,125 L253,125 L272,144\" stroke=\"darkred\" stroke-width=\"3\" fill=\"none\" />\n",
       "<path d=\"M278,144 L297,125 L325,125\" stroke=\"darkred\" stroke-width=\"3\" fill=\"none\" />\n",
       "<path d=\"M225,175 L253,175 L272,156\" stroke=\"darkred\" stroke-width=\"3\" fill=\"none\" />\n",
       "<path d=\"M278,156 L297,175 L325,175\" stroke=\"darkred\" stroke-width=\"3\" fill=\"none\" />\n",
       "<path d=\"M250,143 L300,143 L300,157 L250,157 Z\" stroke=\"black\" fill=\"black\" stroke-linejoin=\"miter\" />\n",
       "<text x=\"275\" y=\"185\" font-size=\"7\" text-anchor=\"middle\" dy=\"0em\"></text>\n",
       "<text x=\"275\" y=\"126\" font-size=\"7\" text-anchor=\"middle\" dy=\"0em\"></text>\n",
       "<path d=\"M250,143 L300,143 L300,147 L250,147 Z\" stroke=\"black\" fill=\"lightgray\" stroke-linejoin=\"miter\" />\n",
       "<path d=\"M293,150 L303,150 L303,160 L293,160 Z\" stroke=\"black\" fill=\"thistle\" stroke-linejoin=\"miter\" />\n",
       "<text x=\"298\" y=\"157\" font-size=\"6\" text-anchor=\"middle\" dy=\"0em\">Rx</text>\n",
       "<path d=\"M325,125 L375,125\" stroke=\"darkred\" stroke-width=\"3\" fill=\"none\" />\n",
       "<path d=\"M330,140 L339,140 L353,110 L344,110 L330,140 L339,140 Z\" stroke=\"black\" fill=\"gray\" stroke-linejoin=\"miter\" />\n",
       "<text x=\"347\" y=\"138\" font-size=\"7\" text-anchor=\"start\" dy=\"0em\">Φ=phi_3</text>\n",
       "<path d=\"M325,175 L375,175\" stroke=\"darkred\" stroke-width=\"3\" fill=\"none\" />\n",
       "<path d=\"M375,125 L403,125 L422,144\" stroke=\"darkred\" stroke-width=\"3\" fill=\"none\" />\n",
       "<path d=\"M428,144 L447,125 L475,125\" stroke=\"darkred\" stroke-width=\"3\" fill=\"none\" />\n",
       "<path d=\"M375,175 L403,175 L422,156\" stroke=\"darkred\" stroke-width=\"3\" fill=\"none\" />\n",
       "<path d=\"M428,156 L447,175 L475,175\" stroke=\"darkred\" stroke-width=\"3\" fill=\"none\" />\n",
       "<path d=\"M400,143 L450,143 L450,157 L400,157 Z\" stroke=\"black\" fill=\"black\" stroke-linejoin=\"miter\" />\n",
       "<text x=\"425\" y=\"185\" font-size=\"7\" text-anchor=\"middle\" dy=\"0em\"></text>\n",
       "<text x=\"425\" y=\"126\" font-size=\"7\" text-anchor=\"middle\" dy=\"0em\"></text>\n",
       "<path d=\"M400,143 L450,143 L450,147 L400,147 Z\" stroke=\"black\" fill=\"lightgray\" stroke-linejoin=\"miter\" />\n",
       "<path d=\"M443,150 L453,150 L453,160 L443,160 Z\" stroke=\"black\" fill=\"thistle\" stroke-linejoin=\"miter\" />\n",
       "<text x=\"448\" y=\"157\" font-size=\"6\" text-anchor=\"middle\" dy=\"0em\">Rx</text>\n",
       "<path d=\"M475,25 L490,25\" stroke-width=\"3\" stroke=\"darkred\" stroke-linejoin=\"miter\" fill=\"none\" />\n",
       "<path d=\"M475,75 L490,75\" stroke-width=\"3\" stroke=\"darkred\" stroke-linejoin=\"miter\" fill=\"none\" />\n",
       "<path d=\"M475,125 L490,125\" stroke-width=\"3\" stroke=\"darkred\" stroke-linejoin=\"miter\" fill=\"none\" />\n",
       "<path d=\"M475,175 L490,175\" stroke-width=\"3\" stroke=\"darkred\" stroke-linejoin=\"miter\" fill=\"none\" />\n",
       "<text x=\"500\" y=\"28\" font-size=\"6\" text-anchor=\"end\" dy=\"0em\">0</text>\n",
       "<text x=\"500\" y=\"78\" font-size=\"6\" text-anchor=\"end\" dy=\"0em\">1</text>\n",
       "<text x=\"500\" y=\"128\" font-size=\"6\" text-anchor=\"end\" dy=\"0em\">2</text>\n",
       "<text x=\"500\" y=\"178\" font-size=\"6\" text-anchor=\"end\" dy=\"0em\">3</text>\n",
       "<text x=\"0\" y=\"28\" font-size=\"6\" text-anchor=\"start\" dy=\"0em\">0</text>\n",
       "<text x=\"0\" y=\"78\" font-size=\"6\" text-anchor=\"start\" dy=\"0em\">1</text>\n",
       "<text x=\"0\" y=\"128\" font-size=\"6\" text-anchor=\"start\" dy=\"0em\">2</text>\n",
       "<text x=\"0\" y=\"178\" font-size=\"6\" text-anchor=\"start\" dy=\"0em\">3</text>\n",
       "</svg>"
      ],
      "text/plain": [
       "<drawSvg.drawing.Drawing at 0x7ff27ac49bb0>"
      ]
     },
     "execution_count": 16,
     "metadata": {},
     "output_type": "execute_result"
    }
   ],
   "source": [
    "## You can still display the inside of black boxes with:\n",
    "pcvl.pdisplay(chip, recursive=True)"
   ]
  },
  {
   "cell_type": "markdown",
   "id": "1bd8e2f0",
   "metadata": {},
   "source": [
    "# III. Simulation <a name=\"simulation\"></a>\n",
    "\n",
    "From this point, we only created circuits.\n",
    "It's time to sample from them, and to know the output distribution of them, on many different inputs.\n",
    "\n"
   ]
  },
  {
   "cell_type": "markdown",
   "id": "190ae9ac",
   "metadata": {},
   "source": [
    "### Computing probabilities \n",
    "\n",
    "For this part, we will take the [Hong-Ou-Mandel](https://en.wikipedia.org/wiki/Hong%E2%80%93Ou%E2%80%93Mandel_effect) experience as an instance.\n",
    "\n"
   ]
  },
  {
   "cell_type": "code",
   "execution_count": 29,
   "id": "73e9230b",
   "metadata": {},
   "outputs": [
    {
     "name": "stdout",
     "output_type": "stream",
     "text": [
      "0.7071067811865475j\n"
     ]
    },
    {
     "data": {
      "text/html": [
       "<table>\n",
       "<thead>\n",
       "<tr><th>     </th><th style=\"text-align: right;\">  |1,1&gt;</th><th>|2,0&gt;  </th><th>|0,2&gt;  </th></tr>\n",
       "</thead>\n",
       "<tbody>\n",
       "<tr><td>|1,1&gt;</td><td style=\"text-align: right;\">      0</td><td>1/2    </td><td>1/2    </td></tr>\n",
       "</tbody>\n",
       "</table>"
      ],
      "text/plain": [
       "<IPython.core.display.HTML object>"
      ]
     },
     "metadata": {},
     "output_type": "display_data"
    }
   ],
   "source": [
    "## Code to implement the HOM : |1,1>, circuit = BS, and output the probability of each different output (the code for one probability in particular, and also to iterate through every prob)\n",
    "\n",
    "## Note: have a version for amplitude & prob\n",
    "\n",
    "## EBE : I didn't implement the HOM, I've just put the minimal code to compute a prob amplitude\n",
    "circuit = BS()\n",
    "backend = pcvl.BackendFactory.get_backend(\"Naive\")\n",
    "simulator = backend(circuit)\n",
    "print(simulator.probampli(pcvl.BasicState([1,1]), pcvl.BasicState([2,0])))\n",
    "\n",
    "## EBE : Or maybe you can use the analyzer (you need to introduce the processor & algorithm concepts)\n",
    "## But you cannot see/manipulate probability amplitude this way\n",
    "p = pcvl.Processor(\"Naive\", BS())\n",
    "analyzer = pcvl.algorithm.Analyzer(p, [pcvl.BasicState([1,1])], '*')\n",
    "pcvl.pdisplay(analyzer)\n"
   ]
  },
  {
   "cell_type": "code",
   "execution_count": 20,
   "id": "fcf74970",
   "metadata": {},
   "outputs": [],
   "source": [
    "## To-do for students :  we give them a 4X4 unitary , we ask for the table of output for the input |1,1,1,0>\n",
    "\n",
    "\n",
    "## Code to test if the output is correct\n"
   ]
  },
  {
   "cell_type": "markdown",
   "id": "cd69cf36",
   "metadata": {},
   "source": [
    "### Sampling \n",
    "\n",
    "As it's crucial to compute the output distribution, it's not what we can expect from a photonic chip. Indeed, realistically, we only can sample from the distribution.\n",
    "\n"
   ]
  },
  {
   "cell_type": "code",
   "execution_count": 35,
   "id": "ab11d846",
   "metadata": {},
   "outputs": [
    {
     "name": "stdout",
     "output_type": "stream",
     "text": [
      "{\n",
      "  |2,0>: 512\n",
      "  |0,2>: 488\n",
      "}\n"
     ]
    }
   ],
   "source": [
    "## Syntax to sample from HOM \n",
    "\n",
    "## code to check for 30 runs that we're close to 50%\n",
    "\n",
    "## EBE : With perfect source\n",
    "\n",
    "p = pcvl.Processor(\"SLOS\", BS())\n",
    "p.with_input(pcvl.BasicState([1,1]))\n",
    "p.mode_post_selection(1)  # We accept that two photons get on the same mode (by default, these states are discarded)\n",
    "# The sampler holds 'probs', 'sample_count' and 'samples' calls. You can use the one that fits your needs!\n",
    "sampler = pcvl.algorithm.Sampler(p)\n",
    "sample_count = sampler.sample_count(1000)\n",
    "print(sample_count['results'])\n"
   ]
  },
  {
   "cell_type": "code",
   "execution_count": 22,
   "id": "ecbaaa5f",
   "metadata": {},
   "outputs": [],
   "source": [
    "## TO-DO for students : implement the code to sample from the 4x4 Unitary of earlier\n",
    "\n",
    "## Question: how many states do we have for 4 modes and 3 photons?\n",
    "## Question: how many samples are needed to approximate the distribution?\n",
    "\n"
   ]
  },
  {
   "cell_type": "markdown",
   "id": "58b02992",
   "metadata": {},
   "source": [
    "### Variational algorithm \n",
    "\n",
    "In those types of algorithm, the samples from a Quantum circuits allow to approximate an expecation value, which would be use in our loss function, to solve a problem.\n"
   ]
  },
  {
   "cell_type": "code",
   "execution_count": null,
   "id": "eaa4cab5",
   "metadata": {},
   "outputs": [],
   "source": [
    "## Create a small exercice with loss function etc. The idea is that they use scipy, minimise, etc, with samples from LO-circuits.\n",
    "## Can be inspired by [VQE](https://perceval.quandela.net/docs/notebooks/Variational%20Quantum%20Eigensolver.html)\n",
    "## We have to be careful not to give something too close of the challenges, so maybe we can use a very generic loss function\n",
    "## Like \"minimising the number of photons here with a phase lie that etc\"\n",
    "\n",
    "\n",
    "\n",
    "## TO-Do for students: implement the circuit, loss function depending on samples, and write scipy.minimise(...)"
   ]
  },
  {
   "cell_type": "markdown",
   "id": "3a78cc87",
   "metadata": {},
   "source": [
    "### To go further : connect to a chip\n",
    "\n",
    "Perceval is also connected to real/physical chips.\n",
    "Here's the syntax to sample directly from them ! \n",
    "\n",
    "(not sure if it's possible, but it would be cool if that was)"
   ]
  },
  {
   "cell_type": "code",
   "execution_count": 23,
   "id": "dffa61bf",
   "metadata": {},
   "outputs": [],
   "source": [
    "## Syntax to run a small circuit and get sampkes from one chip of Quandela"
   ]
  },
  {
   "cell_type": "markdown",
   "id": "c7ada850",
   "metadata": {},
   "source": [
    "# Encoding Qubits <a name=\"encoding\"></a>"
   ]
  },
  {
   "cell_type": "markdown",
   "id": "e84fc736",
   "metadata": {},
   "source": [
    "### Path encoding\n",
    "\n",
    "To perform quantum computing with photons, we need an encodning, that is a correspondance between our Fock states and our qubit states.\n",
    "\n",
    "We therefore want to associate each qubit state with one of our Fock state.\n",
    "\n",
    "One natural way to encode qubits is the path encoding.\n",
    "A qubit is a two quantum states, so we will use two spatial modes to encode it.\n",
    "\n",
    "The first logical qubit $|0\\rangle_L$ will correspond to a photo in the upper mode, so the Fock state $|1,0\\rangle$, while $|1\\rangle_L$ will be encoded by $|0,1\\rangle$.\n",
    " \n",
    "\n",
    "**insert figures of path encodings**\n",
    "\n",
    "\n",
    "By extension, we can understand that the state of $3$ qubits $\\frac{1}{\\sqrt{2}}(|000\\rangle_L+|111\\rangle_L)$ will be encoded with $3$ photons and $3\\times 2=6$ modes :\n",
    "$\\frac{1}{\\sqrt{2}}(|1,0,1,0,1,0\\rangle+|0,1,0,1,0,1\\rangle)$"
   ]
  },
  {
   "cell_type": "markdown",
   "id": "4fbd0d6a",
   "metadata": {},
   "source": [
    "### One-qubit gates\n",
    "\n",
    "With that enconding, the one qubit gates only deal with one photon and are straightforward. Can you give the LO-circuits for the gates below?"
   ]
  },
  {
   "cell_type": "code",
   "execution_count": 2,
   "id": "626771f0",
   "metadata": {},
   "outputs": [],
   "source": [
    "## TO-DO for us : list of one-quibt gates (X, Z, H, RX, RY, RZ) + test to check the circuit for each gate (circuit.U==gate)\n",
    "\n",
    "## TO-Do for students: find the LO-circuits for each gate"
   ]
  },
  {
   "cell_type": "markdown",
   "id": "26b5af58",
   "metadata": {},
   "source": [
    "### Two-qubit gates\n",
    "\n",
    "With that encoding, it can be shown that two-qubit gates can't be deterministic, and have a probability to fail.\n",
    "\n",
    "There are two ways to detect that failure.\n",
    "\n",
    "Either we use ancilla, and depending on the state obtained on the ancilla, we know the gate has succeeded on the main qubits.\n",
    "Those gates will be called heralded.\n",
    "\n",
    "Either we measure the main qubits, and depending on the state, we know if the gate has succeeded or not.\n",
    "Those gates will be called postselected.\n",
    "\n",
    "In the two exercices, we will see the two types: \n",
    "- the postselected CNOT of [Ralph et al.](https://arxiv.org/abs/quant-ph/0112088)\n",
    "- the heralded CNOT of [Knill](https://arxiv.org/abs/quant-ph/0110144)"
   ]
  },
  {
   "cell_type": "code",
   "execution_count": 43,
   "id": "09d7d85f",
   "metadata": {},
   "outputs": [
    {
     "name": "stdout",
     "output_type": "stream",
     "text": [
      "['heralded cnot', 'postprocessed cnot', 'generic 2 mode circuit']\n",
      "POSTPROCESSED CNOT DOCUMENTATION\n",
      "---------------------------------\n",
      "\n",
      "Scientific article reference: https://journals.aps.org/pra/abstract/10.1103/PhysRevA.65.062324\n",
      "\n"
     ]
    },
    {
     "data": {
      "image/svg+xml": [
       "<?xml version=\"1.0\" encoding=\"UTF-8\"?>\n",
       "<svg xmlns=\"http://www.w3.org/2000/svg\" xmlns:xlink=\"http://www.w3.org/1999/xlink\"\n",
       "     width=\"703.125\" height=\"546.875\" viewBox=\"-68.0 0 450 350\">\n",
       "<defs>\n",
       "</defs>\n",
       "<path d=\"M10,75 L25,75\" stroke-width=\"3\" stroke=\"darkred\" stroke-linejoin=\"miter\" fill=\"none\" />\n",
       "<path d=\"M10,125 L25,125\" stroke-width=\"3\" stroke=\"darkred\" stroke-linejoin=\"miter\" fill=\"none\" />\n",
       "<path d=\"M10,175 L25,175\" stroke-width=\"3\" stroke=\"darkred\" stroke-linejoin=\"miter\" fill=\"none\" />\n",
       "<path d=\"M10,225 L25,225\" stroke-width=\"3\" stroke=\"darkred\" stroke-linejoin=\"miter\" fill=\"none\" />\n",
       "<path d=\"M27,2 L323,2 L323,298 L27,298 Z\" stroke=\"black\" fill=\"lightblue\" stroke-dasharray=\"1,2\" stroke-linejoin=\"miter\" />\n",
       "<text x=\"29\" y=\"305\" font-size=\"8\" text-anchor=\"start\" dy=\"0em\">POSTPROCESSED CNOT</text>\n",
       "<path d=\"M25,25 L53,25 L72,44\" stroke=\"darkred\" stroke-width=\"3\" fill=\"none\" />\n",
       "<path d=\"M78,44 L97,25 L125,25\" stroke=\"darkred\" stroke-width=\"3\" fill=\"none\" />\n",
       "<path d=\"M25,75 L53,75 L72,56\" stroke=\"darkred\" stroke-width=\"3\" fill=\"none\" />\n",
       "<path d=\"M78,56 L97,75 L125,75\" stroke=\"darkred\" stroke-width=\"3\" fill=\"none\" />\n",
       "<path d=\"M50,43 L100,43 L100,57 L50,57 Z\" stroke=\"black\" fill=\"black\" stroke-linejoin=\"miter\" />\n",
       "<text x=\"75\" y=\"95\" font-size=\"6\" text-anchor=\"middle\"><tspan x=\"75\" dy=\"0em\">Φ_tl=3*pi/2</tspan><tspan x=\"75\" dy=\"1em\">Φ_bl=pi</tspan><tspan x=\"75\" dy=\"1em\">Φ_tr=pi/2</tspan></text>\n",
       "<text x=\"75\" y=\"26\" font-size=\"7\" text-anchor=\"middle\" dy=\"0em\">Θ=1.910633</text>\n",
       "<path d=\"M50,43 L100,43 L100,47 L50,47 Z\" stroke=\"black\" fill=\"lightgray\" stroke-linejoin=\"miter\" />\n",
       "<path d=\"M93,50 L103,50 L103,60 L93,60 Z\" stroke=\"black\" fill=\"aquamarine\" stroke-linejoin=\"miter\" />\n",
       "<text x=\"98\" y=\"57\" font-size=\"6\" text-anchor=\"middle\" dy=\"0em\">H</text>\n",
       "<path d=\"M25,175 L53,175 L72,194\" stroke=\"darkred\" stroke-width=\"3\" fill=\"none\" />\n",
       "<path d=\"M78,194 L97,175 L125,175\" stroke=\"darkred\" stroke-width=\"3\" fill=\"none\" />\n",
       "<path d=\"M25,225 L53,225 L72,206\" stroke=\"darkred\" stroke-width=\"3\" fill=\"none\" />\n",
       "<path d=\"M78,206 L97,225 L125,225\" stroke=\"darkred\" stroke-width=\"3\" fill=\"none\" />\n",
       "<path d=\"M50,193 L100,193 L100,207 L50,207 Z\" stroke=\"black\" fill=\"black\" stroke-linejoin=\"miter\" />\n",
       "<text x=\"75\" y=\"235\" font-size=\"7\" text-anchor=\"middle\" dy=\"0em\"></text>\n",
       "<text x=\"75\" y=\"176\" font-size=\"7\" text-anchor=\"middle\" dy=\"0em\"></text>\n",
       "<path d=\"M50,193 L100,193 L100,197 L50,197 Z\" stroke=\"black\" fill=\"lightgray\" stroke-linejoin=\"miter\" />\n",
       "<path d=\"M93,200 L103,200 L103,210 L93,210 Z\" stroke=\"black\" fill=\"aquamarine\" stroke-linejoin=\"miter\" />\n",
       "<text x=\"98\" y=\"207\" font-size=\"6\" text-anchor=\"middle\" dy=\"0em\">H</text>\n",
       "<path d=\"M25,125 L125,125\" stroke=\"darkred\" stroke-width=\"3\" fill=\"none\" />\n",
       "<path d=\"M125,125 L153,125 L172,144\" stroke=\"darkred\" stroke-width=\"3\" fill=\"none\" />\n",
       "<path d=\"M178,144 L197,125 L225,125\" stroke=\"darkred\" stroke-width=\"3\" fill=\"none\" />\n",
       "<path d=\"M125,175 L153,175 L172,156\" stroke=\"darkred\" stroke-width=\"3\" fill=\"none\" />\n",
       "<path d=\"M178,156 L197,175 L225,175\" stroke=\"darkred\" stroke-width=\"3\" fill=\"none\" />\n",
       "<path d=\"M150,143 L200,143 L200,157 L150,157 Z\" stroke=\"black\" fill=\"black\" stroke-linejoin=\"miter\" />\n",
       "<text x=\"175\" y=\"195\" font-size=\"6\" text-anchor=\"middle\"><tspan x=\"175\" dy=\"0em\">Φ_tl=3*pi/2</tspan><tspan x=\"175\" dy=\"1em\">Φ_bl=pi</tspan><tspan x=\"175\" dy=\"1em\">Φ_tr=pi/2</tspan></text>\n",
       "<text x=\"175\" y=\"126\" font-size=\"7\" text-anchor=\"middle\" dy=\"0em\">Θ=1.910633</text>\n",
       "<path d=\"M150,143 L200,143 L200,147 L150,147 Z\" stroke=\"black\" fill=\"lightgray\" stroke-linejoin=\"miter\" />\n",
       "<path d=\"M193,150 L203,150 L203,160 L193,160 Z\" stroke=\"black\" fill=\"aquamarine\" stroke-linejoin=\"miter\" />\n",
       "<text x=\"198\" y=\"157\" font-size=\"6\" text-anchor=\"middle\" dy=\"0em\">H</text>\n",
       "<path d=\"M125,225 L153,225 L172,244\" stroke=\"darkred\" stroke-width=\"3\" fill=\"none\" />\n",
       "<path d=\"M178,244 L197,225 L225,225\" stroke=\"darkred\" stroke-width=\"3\" fill=\"none\" />\n",
       "<path d=\"M125,275 L153,275 L172,256\" stroke=\"darkred\" stroke-width=\"3\" fill=\"none\" />\n",
       "<path d=\"M178,256 L197,275 L225,275\" stroke=\"darkred\" stroke-width=\"3\" fill=\"none\" />\n",
       "<path d=\"M150,243 L200,243 L200,257 L150,257 Z\" stroke=\"black\" fill=\"black\" stroke-linejoin=\"miter\" />\n",
       "<text x=\"175\" y=\"280\" font-size=\"7\" text-anchor=\"middle\" dy=\"0em\"></text>\n",
       "<text x=\"175\" y=\"226\" font-size=\"7\" text-anchor=\"middle\" dy=\"0em\">Θ=1.910633</text>\n",
       "<path d=\"M150,243 L200,243 L200,247 L150,247 Z\" stroke=\"black\" fill=\"lightgray\" stroke-linejoin=\"miter\" />\n",
       "<path d=\"M193,250 L203,250 L203,260 L193,260 Z\" stroke=\"black\" fill=\"aquamarine\" stroke-linejoin=\"miter\" />\n",
       "<text x=\"198\" y=\"257\" font-size=\"6\" text-anchor=\"middle\" dy=\"0em\">H</text>\n",
       "<path d=\"M225,175 L253,175 L272,194\" stroke=\"darkred\" stroke-width=\"3\" fill=\"none\" />\n",
       "<path d=\"M278,194 L297,175 L325,175\" stroke=\"darkred\" stroke-width=\"3\" fill=\"none\" />\n",
       "<path d=\"M225,225 L253,225 L272,206\" stroke=\"darkred\" stroke-width=\"3\" fill=\"none\" />\n",
       "<path d=\"M278,206 L297,225 L325,225\" stroke=\"darkred\" stroke-width=\"3\" fill=\"none\" />\n",
       "<path d=\"M250,193 L300,193 L300,207 L250,207 Z\" stroke=\"black\" fill=\"black\" stroke-linejoin=\"miter\" />\n",
       "<text x=\"275\" y=\"235\" font-size=\"7\" text-anchor=\"middle\" dy=\"0em\"></text>\n",
       "<text x=\"275\" y=\"176\" font-size=\"7\" text-anchor=\"middle\" dy=\"0em\"></text>\n",
       "<path d=\"M250,193 L300,193 L300,197 L250,197 Z\" stroke=\"black\" fill=\"lightgray\" stroke-linejoin=\"miter\" />\n",
       "<path d=\"M293,200 L303,200 L303,210 L293,210 Z\" stroke=\"black\" fill=\"aquamarine\" stroke-linejoin=\"miter\" />\n",
       "<text x=\"298\" y=\"207\" font-size=\"6\" text-anchor=\"middle\" dy=\"0em\">H</text>\n",
       "<path d=\"M125,75 L325,75\" stroke=\"darkred\" stroke-width=\"3\" fill=\"none\" />\n",
       "<path d=\"M225,125 L325,125\" stroke=\"darkred\" stroke-width=\"3\" fill=\"none\" />\n",
       "<path d=\"M325,75 L340,75\" stroke-width=\"3\" stroke=\"darkred\" stroke-linejoin=\"miter\" fill=\"none\" />\n",
       "<path d=\"M325,125 L340,125\" stroke-width=\"3\" stroke=\"darkred\" stroke-linejoin=\"miter\" fill=\"none\" />\n",
       "<path d=\"M325,175 L340,175\" stroke-width=\"3\" stroke=\"darkred\" stroke-linejoin=\"miter\" fill=\"none\" />\n",
       "<path d=\"M325,225 L340,225\" stroke-width=\"3\" stroke=\"darkred\" stroke-linejoin=\"miter\" fill=\"none\" />\n",
       "<path d=\"M7,25 C7,25,7,15,17,15 L25,15 L25,35 L17,35 C7,35,7,25,7,25 L7,25\" stroke-width=\"1\" stroke=\"black\" stroke-linejoin=\"miter\" fill=\"white\" />\n",
       "<text x=\"13\" y=\"41\" font-size=\"6\" text-anchor=\"middle\" font-style=\"italic\" dy=\"0em\">[herald0]</text>\n",
       "<text x=\"17\" y=\"28\" font-size=\"7\" text-anchor=\"middle\" dy=\"0em\">0</text>\n",
       "<path d=\"M-2,65 L10,65 L10,135 L-2,135 Z\" stroke=\"black\" fill=\"lightgray\" stroke-linejoin=\"miter\" />\n",
       "<text x=\"4\" y=\"77\" font-size=\"7\" text-anchor=\"middle\" dy=\"0em\">1</text>\n",
       "<text x=\"4\" y=\"127\" font-size=\"7\" text-anchor=\"middle\" dy=\"0em\">2</text>\n",
       "<text x=\"-2\" y=\"141\" font-size=\"6\" text-anchor=\"start\" font-style=\"italic\" dy=\"0em\">[data]</text>\n",
       "<path d=\"M-2,165 L10,165 L10,235 L-2,235 Z\" stroke=\"black\" fill=\"lightgray\" stroke-linejoin=\"miter\" />\n",
       "<text x=\"4\" y=\"177\" font-size=\"7\" text-anchor=\"middle\" dy=\"0em\">3</text>\n",
       "<text x=\"4\" y=\"227\" font-size=\"7\" text-anchor=\"middle\" dy=\"0em\">4</text>\n",
       "<text x=\"-2\" y=\"241\" font-size=\"6\" text-anchor=\"start\" font-style=\"italic\" dy=\"0em\">[ctrl]</text>\n",
       "<path d=\"M107,275 C107,275,107,265,117,265 L125,265 L125,285 L117,285 C107,285,107,275,107,275 L107,275\" stroke-width=\"1\" stroke=\"black\" stroke-linejoin=\"miter\" fill=\"white\" />\n",
       "<text x=\"113\" y=\"291\" font-size=\"6\" text-anchor=\"middle\" font-style=\"italic\" dy=\"0em\">[herald1]</text>\n",
       "<text x=\"117\" y=\"278\" font-size=\"7\" text-anchor=\"middle\" dy=\"0em\">0</text>\n",
       "<path d=\"M133,35 L125,35 L125,15 L133,15 C133,15,143,15,143,25 C143,35,133,35,133,35 L133,35\" stroke-width=\"1\" stroke=\"black\" stroke-linejoin=\"miter\" fill=\"white\" />\n",
       "<text x=\"138\" y=\"41\" font-size=\"6\" text-anchor=\"middle\" font-style=\"italic\" dy=\"0em\">[herald0]</text>\n",
       "<text x=\"133\" y=\"28\" font-size=\"7\" text-anchor=\"middle\" dy=\"0em\">0</text>\n",
       "<path d=\"M340,65 L352,65 L352,135 L340,135 Z\" stroke=\"black\" fill=\"lightgray\" stroke-linejoin=\"miter\" />\n",
       "<text x=\"346\" y=\"77\" font-size=\"7\" text-anchor=\"middle\" dy=\"0em\">1</text>\n",
       "<text x=\"346\" y=\"127\" font-size=\"7\" text-anchor=\"middle\" dy=\"0em\">2</text>\n",
       "<text x=\"352\" y=\"141\" font-size=\"6\" text-anchor=\"end\" font-style=\"italic\" dy=\"0em\">[data]</text>\n",
       "<path d=\"M340,165 L352,165 L352,235 L340,235 Z\" stroke=\"black\" fill=\"lightgray\" stroke-linejoin=\"miter\" />\n",
       "<text x=\"346\" y=\"177\" font-size=\"7\" text-anchor=\"middle\" dy=\"0em\">3</text>\n",
       "<text x=\"346\" y=\"227\" font-size=\"7\" text-anchor=\"middle\" dy=\"0em\">4</text>\n",
       "<text x=\"352\" y=\"241\" font-size=\"6\" text-anchor=\"end\" font-style=\"italic\" dy=\"0em\">[ctrl]</text>\n",
       "<path d=\"M233,285 L225,285 L225,265 L233,265 C233,265,243,265,243,275 C243,285,233,285,233,285 L233,285\" stroke-width=\"1\" stroke=\"black\" stroke-linejoin=\"miter\" fill=\"white\" />\n",
       "<text x=\"238\" y=\"291\" font-size=\"6\" text-anchor=\"middle\" font-style=\"italic\" dy=\"0em\">[herald1]</text>\n",
       "<text x=\"233\" y=\"278\" font-size=\"7\" text-anchor=\"middle\" dy=\"0em\">0</text>\n",
       "</svg>"
      ],
      "text/plain": [
       "<drawSvg.drawing.Drawing at 0x7ff27aae3a90>"
      ]
     },
     "execution_count": 43,
     "metadata": {},
     "output_type": "execute_result"
    }
   ],
   "source": [
    "## Ralph's CNOT\n",
    "\n",
    "## TO-Do for us :  put the image of the circuit + some guidelines\n",
    "\n",
    "## EBE : We can introduce the component catalog (which is a work in progress..). It already contains both CNOT gates.\n",
    "from perceval.components import catalog\n",
    "print(catalog.list())\n",
    "\n",
    "print(catalog['postprocessed cnot'].doc)\n",
    "ralph_cnot = catalog['postprocessed cnot'].as_processor().build()\n",
    "\n",
    "## You can set its input state with a LogicalState\n",
    "ralph_cnot.with_input(pcvl.LogicalState([0, 0]))\n",
    "\n",
    "pcvl.pdisplay(ralph_cnot, recursive=True, render_size=1.25)"
   ]
  },
  {
   "cell_type": "code",
   "execution_count": null,
   "id": "ec83b635",
   "metadata": {},
   "outputs": [],
   "source": [
    "## TO-DO for students : reproduce the circuit, and check if perfoms a CNOT"
   ]
  },
  {
   "cell_type": "code",
   "execution_count": 39,
   "id": "4bdaa735",
   "metadata": {},
   "outputs": [
    {
     "name": "stdout",
     "output_type": "stream",
     "text": [
      "HERALDED CNOT DOCUMENTATION\n",
      "----------------------------\n",
      "\n",
      "CNOT gate with 4 heralded modes\n",
      "\n",
      "Scientific article reference: https://doi.org/10.1073/pnas.1018839108\n",
      "\n",
      "Schema:\n",
      "                      ╭─────╮\n",
      "data (dual rail) ─────┤     ├───── data (dual rail)\n",
      "                 ─────┤     ├─────\n",
      "                      │     │\n",
      "ctrl (dual rail) ─────┤     ├───── ctrl (dual rail)\n",
      "                 ─────┤     ├─────\n",
      "                      ╰─────╯\n",
      "\n"
     ]
    },
    {
     "data": {
      "image/svg+xml": [
       "<?xml version=\"1.0\" encoding=\"UTF-8\"?>\n",
       "<svg xmlns=\"http://www.w3.org/2000/svg\" xmlns:xlink=\"http://www.w3.org/1999/xlink\"\n",
       "     width=\"1062.5\" height=\"562.5\" viewBox=\"-48.0 0 850 450\">\n",
       "<defs>\n",
       "</defs>\n",
       "<path d=\"M10,125 L25,125\" stroke-width=\"3\" stroke=\"darkred\" stroke-linejoin=\"miter\" fill=\"none\" />\n",
       "<path d=\"M10,175 L25,175\" stroke-width=\"3\" stroke=\"darkred\" stroke-linejoin=\"miter\" fill=\"none\" />\n",
       "<path d=\"M10,225 L25,225\" stroke-width=\"3\" stroke=\"darkred\" stroke-linejoin=\"miter\" fill=\"none\" />\n",
       "<path d=\"M10,275 L25,275\" stroke-width=\"3\" stroke=\"darkred\" stroke-linejoin=\"miter\" fill=\"none\" />\n",
       "<path d=\"M27,2 L723,2 L723,398 L27,398 Z\" stroke=\"black\" fill=\"lightblue\" stroke-dasharray=\"1,2\" stroke-linejoin=\"miter\" />\n",
       "<text x=\"29\" y=\"405\" font-size=\"8\" text-anchor=\"start\" dy=\"0em\">HERALDED CNOT</text>\n",
       "<path d=\"M28,125 L72,25\" stroke=\"white\" stroke-width=\"6\" fill=\"none\" />\n",
       "<path d=\"M25,125 L28,125 L72,25 L75,25\" stroke=\"darkred\" stroke-width=\"3\" fill=\"none\" />\n",
       "<path d=\"M25,225 L53,225 L72,244\" stroke=\"darkred\" stroke-width=\"3\" fill=\"none\" />\n",
       "<path d=\"M78,244 L97,225 L125,225\" stroke=\"darkred\" stroke-width=\"3\" fill=\"none\" />\n",
       "<path d=\"M25,275 L53,275 L72,256\" stroke=\"darkred\" stroke-width=\"3\" fill=\"none\" />\n",
       "<path d=\"M78,256 L97,275 L125,275\" stroke=\"darkred\" stroke-width=\"3\" fill=\"none\" />\n",
       "<path d=\"M50,243 L100,243 L100,257 L50,257 Z\" stroke=\"black\" fill=\"black\" stroke-linejoin=\"miter\" />\n",
       "<text x=\"75\" y=\"285\" font-size=\"7\" text-anchor=\"middle\" dy=\"0em\"></text>\n",
       "<text x=\"75\" y=\"226\" font-size=\"7\" text-anchor=\"middle\" dy=\"0em\"></text>\n",
       "<path d=\"M50,243 L100,243 L100,247 L50,247 Z\" stroke=\"black\" fill=\"lightgray\" stroke-linejoin=\"miter\" />\n",
       "<path d=\"M93,250 L103,250 L103,260 L93,260 Z\" stroke=\"black\" fill=\"aquamarine\" stroke-linejoin=\"miter\" />\n",
       "<text x=\"98\" y=\"257\" font-size=\"6\" text-anchor=\"middle\" dy=\"0em\">H</text>\n",
       "<path d=\"M128,275 L172,325\" stroke=\"white\" stroke-width=\"6\" fill=\"none\" />\n",
       "<path d=\"M125,275 L128,275 L172,325 L175,325\" stroke=\"darkred\" stroke-width=\"3\" fill=\"none\" />\n",
       "<path d=\"M25,175 L125,175\" stroke=\"darkred\" stroke-width=\"3\" fill=\"none\" />\n",
       "<path d=\"M125,175 L153,175 L172,194\" stroke=\"darkred\" stroke-width=\"3\" fill=\"none\" />\n",
       "<path d=\"M178,194 L197,175 L225,175\" stroke=\"darkred\" stroke-width=\"3\" fill=\"none\" />\n",
       "<path d=\"M125,225 L153,225 L172,206\" stroke=\"darkred\" stroke-width=\"3\" fill=\"none\" />\n",
       "<path d=\"M178,206 L197,225 L225,225\" stroke=\"darkred\" stroke-width=\"3\" fill=\"none\" />\n",
       "<path d=\"M150,193 L200,193 L200,207 L150,207 Z\" stroke=\"black\" fill=\"black\" stroke-linejoin=\"miter\" />\n",
       "<text x=\"175\" y=\"235\" font-size=\"7\" text-anchor=\"middle\" dy=\"0em\"></text>\n",
       "<text x=\"175\" y=\"176\" font-size=\"7\" text-anchor=\"middle\" dy=\"0em\"></text>\n",
       "<path d=\"M150,193 L200,193 L200,197 L150,197 Z\" stroke=\"black\" fill=\"lightgray\" stroke-linejoin=\"miter\" />\n",
       "<path d=\"M193,200 L203,200 L203,210 L193,210 Z\" stroke=\"black\" fill=\"aquamarine\" stroke-linejoin=\"miter\" />\n",
       "<text x=\"198\" y=\"207\" font-size=\"6\" text-anchor=\"middle\" dy=\"0em\">H</text>\n",
       "<path d=\"M225,125 L253,125 L272,144\" stroke=\"darkred\" stroke-width=\"3\" fill=\"none\" />\n",
       "<path d=\"M278,144 L297,125 L325,125\" stroke=\"darkred\" stroke-width=\"3\" fill=\"none\" />\n",
       "<path d=\"M225,175 L253,175 L272,156\" stroke=\"darkred\" stroke-width=\"3\" fill=\"none\" />\n",
       "<path d=\"M278,156 L297,175 L325,175\" stroke=\"darkred\" stroke-width=\"3\" fill=\"none\" />\n",
       "<path d=\"M250,143 L300,143 L300,157 L250,157 Z\" stroke=\"black\" fill=\"black\" stroke-linejoin=\"miter\" />\n",
       "<text x=\"275\" y=\"195\" font-size=\"6\" text-anchor=\"middle\"><tspan x=\"275\" dy=\"0em\">Φ_tl=3*pi/2</tspan><tspan x=\"275\" dy=\"1em\">Φ_bl=pi</tspan><tspan x=\"275\" dy=\"1em\">Φ_tr=pi/2</tspan></text>\n",
       "<text x=\"275\" y=\"126\" font-size=\"7\" text-anchor=\"middle\" dy=\"0em\">Θ=2.145993</text>\n",
       "<path d=\"M250,143 L300,143 L300,147 L250,147 Z\" stroke=\"black\" fill=\"lightgray\" stroke-linejoin=\"miter\" />\n",
       "<path d=\"M293,150 L303,150 L303,160 L293,160 Z\" stroke=\"black\" fill=\"aquamarine\" stroke-linejoin=\"miter\" />\n",
       "<text x=\"298\" y=\"157\" font-size=\"6\" text-anchor=\"middle\" dy=\"0em\">H</text>\n",
       "<path d=\"M225,225 L253,225 L272,244\" stroke=\"darkred\" stroke-width=\"3\" fill=\"none\" />\n",
       "<path d=\"M278,244 L297,225 L325,225\" stroke=\"darkred\" stroke-width=\"3\" fill=\"none\" />\n",
       "<path d=\"M225,275 L253,275 L272,256\" stroke=\"darkred\" stroke-width=\"3\" fill=\"none\" />\n",
       "<path d=\"M278,256 L297,275 L325,275\" stroke=\"darkred\" stroke-width=\"3\" fill=\"none\" />\n",
       "<path d=\"M250,243 L300,243 L300,257 L250,257 Z\" stroke=\"black\" fill=\"black\" stroke-linejoin=\"miter\" />\n",
       "<text x=\"275\" y=\"280\" font-size=\"7\" text-anchor=\"middle\" dy=\"0em\"></text>\n",
       "<text x=\"275\" y=\"226\" font-size=\"7\" text-anchor=\"middle\" dy=\"0em\">Θ=2.145993</text>\n",
       "<path d=\"M250,243 L300,243 L300,247 L250,247 Z\" stroke=\"black\" fill=\"lightgray\" stroke-linejoin=\"miter\" />\n",
       "<path d=\"M293,250 L303,250 L303,260 L293,260 Z\" stroke=\"black\" fill=\"aquamarine\" stroke-linejoin=\"miter\" />\n",
       "<text x=\"298\" y=\"257\" font-size=\"6\" text-anchor=\"middle\" dy=\"0em\">H</text>\n",
       "<path d=\"M325,175 L353,175 L372,194\" stroke=\"darkred\" stroke-width=\"3\" fill=\"none\" />\n",
       "<path d=\"M378,194 L397,175 L425,175\" stroke=\"darkred\" stroke-width=\"3\" fill=\"none\" />\n",
       "<path d=\"M325,225 L353,225 L372,206\" stroke=\"darkred\" stroke-width=\"3\" fill=\"none\" />\n",
       "<path d=\"M378,206 L397,225 L425,225\" stroke=\"darkred\" stroke-width=\"3\" fill=\"none\" />\n",
       "<path d=\"M350,193 L400,193 L400,207 L350,207 Z\" stroke=\"black\" fill=\"black\" stroke-linejoin=\"miter\" />\n",
       "<text x=\"375\" y=\"235\" font-size=\"7\" text-anchor=\"middle\" dy=\"0em\"></text>\n",
       "<text x=\"375\" y=\"176\" font-size=\"7\" text-anchor=\"middle\" dy=\"0em\"></text>\n",
       "<path d=\"M350,193 L400,193 L400,197 L350,197 Z\" stroke=\"black\" fill=\"lightgray\" stroke-linejoin=\"miter\" />\n",
       "<path d=\"M393,200 L403,200 L403,210 L393,210 Z\" stroke=\"black\" fill=\"aquamarine\" stroke-linejoin=\"miter\" />\n",
       "<text x=\"398\" y=\"207\" font-size=\"6\" text-anchor=\"middle\" dy=\"0em\">H</text>\n",
       "<path d=\"M175,325 L325,325\" stroke=\"darkred\" stroke-width=\"3\" fill=\"none\" />\n",
       "<path d=\"M328,325 L372,325\" stroke=\"white\" stroke-width=\"6\" fill=\"none\" />\n",
       "<path d=\"M325,325 L328,325 L372,325 L375,325\" stroke=\"darkred\" stroke-width=\"3\" fill=\"none\" />\n",
       "<path d=\"M425,125 L453,125 L472,144\" stroke=\"darkred\" stroke-width=\"3\" fill=\"none\" />\n",
       "<path d=\"M478,144 L497,125 L525,125\" stroke=\"darkred\" stroke-width=\"3\" fill=\"none\" />\n",
       "<path d=\"M425,175 L453,175 L472,156\" stroke=\"darkred\" stroke-width=\"3\" fill=\"none\" />\n",
       "<path d=\"M478,156 L497,175 L525,175\" stroke=\"darkred\" stroke-width=\"3\" fill=\"none\" />\n",
       "<path d=\"M450,143 L500,143 L500,157 L450,157 Z\" stroke=\"black\" fill=\"black\" stroke-linejoin=\"miter\" />\n",
       "<text x=\"475\" y=\"180\" font-size=\"7\" text-anchor=\"middle\" dy=\"0em\"></text>\n",
       "<text x=\"475\" y=\"126\" font-size=\"7\" text-anchor=\"middle\" dy=\"0em\">Θ=1.028622</text>\n",
       "<path d=\"M450,143 L500,143 L500,147 L450,147 Z\" stroke=\"black\" fill=\"lightgray\" stroke-linejoin=\"miter\" />\n",
       "<path d=\"M493,150 L503,150 L503,160 L493,160 Z\" stroke=\"black\" fill=\"aquamarine\" stroke-linejoin=\"miter\" />\n",
       "<text x=\"498\" y=\"157\" font-size=\"6\" text-anchor=\"middle\" dy=\"0em\">H</text>\n",
       "<path d=\"M425,225 L453,225 L472,244\" stroke=\"darkred\" stroke-width=\"3\" fill=\"none\" />\n",
       "<path d=\"M478,244 L497,225 L525,225\" stroke=\"darkred\" stroke-width=\"3\" fill=\"none\" />\n",
       "<path d=\"M425,275 L453,275 L472,256\" stroke=\"darkred\" stroke-width=\"3\" fill=\"none\" />\n",
       "<path d=\"M478,256 L497,275 L525,275\" stroke=\"darkred\" stroke-width=\"3\" fill=\"none\" />\n",
       "<path d=\"M450,243 L500,243 L500,257 L450,257 Z\" stroke=\"black\" fill=\"black\" stroke-linejoin=\"miter\" />\n",
       "<text x=\"475\" y=\"295\" font-size=\"6\" text-anchor=\"middle\"><tspan x=\"475\" dy=\"0em\">Φ_tl=3*pi/2</tspan><tspan x=\"475\" dy=\"1em\">Φ_bl=pi</tspan><tspan x=\"475\" dy=\"1em\">Φ_tr=pi/2</tspan></text>\n",
       "<text x=\"475\" y=\"226\" font-size=\"7\" text-anchor=\"middle\" dy=\"0em\">Θ=1.028622</text>\n",
       "<path d=\"M450,243 L500,243 L500,247 L450,247 Z\" stroke=\"black\" fill=\"lightgray\" stroke-linejoin=\"miter\" />\n",
       "<path d=\"M493,250 L503,250 L503,260 L493,260 Z\" stroke=\"black\" fill=\"aquamarine\" stroke-linejoin=\"miter\" />\n",
       "<text x=\"498\" y=\"257\" font-size=\"6\" text-anchor=\"middle\" dy=\"0em\">H</text>\n",
       "<path d=\"M375,325 L525,325\" stroke=\"darkred\" stroke-width=\"3\" fill=\"none\" />\n",
       "<path d=\"M528,325 L572,275\" stroke=\"white\" stroke-width=\"6\" fill=\"none\" />\n",
       "<path d=\"M525,325 L528,325 L572,275 L575,275\" stroke=\"darkred\" stroke-width=\"3\" fill=\"none\" />\n",
       "<path d=\"M525,225 L575,225\" stroke=\"darkred\" stroke-width=\"3\" fill=\"none\" />\n",
       "<path d=\"M575,225 L603,225 L622,244\" stroke=\"darkred\" stroke-width=\"3\" fill=\"none\" />\n",
       "<path d=\"M628,244 L647,225 L675,225\" stroke=\"darkred\" stroke-width=\"3\" fill=\"none\" />\n",
       "<path d=\"M575,275 L603,275 L622,256\" stroke=\"darkred\" stroke-width=\"3\" fill=\"none\" />\n",
       "<path d=\"M628,256 L647,275 L675,275\" stroke=\"darkred\" stroke-width=\"3\" fill=\"none\" />\n",
       "<path d=\"M600,243 L650,243 L650,257 L600,257 Z\" stroke=\"black\" fill=\"black\" stroke-linejoin=\"miter\" />\n",
       "<text x=\"625\" y=\"285\" font-size=\"7\" text-anchor=\"middle\" dy=\"0em\"></text>\n",
       "<text x=\"625\" y=\"226\" font-size=\"7\" text-anchor=\"middle\" dy=\"0em\"></text>\n",
       "<path d=\"M600,243 L650,243 L650,247 L600,247 Z\" stroke=\"black\" fill=\"lightgray\" stroke-linejoin=\"miter\" />\n",
       "<path d=\"M643,250 L653,250 L653,260 L643,260 Z\" stroke=\"black\" fill=\"aquamarine\" stroke-linejoin=\"miter\" />\n",
       "<text x=\"648\" y=\"257\" font-size=\"6\" text-anchor=\"middle\" dy=\"0em\">H</text>\n",
       "<path d=\"M678,225 L722,275\" stroke=\"white\" stroke-width=\"6\" fill=\"none\" />\n",
       "<path d=\"M675,225 L678,225 L722,275 L725,275\" stroke=\"darkred\" stroke-width=\"3\" fill=\"none\" />\n",
       "<path d=\"M678,275 L722,225\" stroke=\"white\" stroke-width=\"6\" fill=\"none\" />\n",
       "<path d=\"M675,275 L678,275 L722,225 L725,225\" stroke=\"darkred\" stroke-width=\"3\" fill=\"none\" />\n",
       "<path d=\"M75,25 L525,25\" stroke=\"darkred\" stroke-width=\"3\" fill=\"none\" />\n",
       "<path d=\"M528,25 L572,125\" stroke=\"white\" stroke-width=\"6\" fill=\"none\" />\n",
       "<path d=\"M525,25 L528,25 L572,125 L575,125\" stroke=\"darkred\" stroke-width=\"3\" fill=\"none\" />\n",
       "<path d=\"M575,125 L725,125\" stroke=\"darkred\" stroke-width=\"3\" fill=\"none\" />\n",
       "<path d=\"M525,175 L725,175\" stroke=\"darkred\" stroke-width=\"3\" fill=\"none\" />\n",
       "<path d=\"M725,125 L740,125\" stroke-width=\"3\" stroke=\"darkred\" stroke-linejoin=\"miter\" fill=\"none\" />\n",
       "<path d=\"M725,175 L740,175\" stroke-width=\"3\" stroke=\"darkred\" stroke-linejoin=\"miter\" fill=\"none\" />\n",
       "<path d=\"M725,225 L740,225\" stroke-width=\"3\" stroke=\"darkred\" stroke-linejoin=\"miter\" fill=\"none\" />\n",
       "<path d=\"M725,275 L740,275\" stroke-width=\"3\" stroke=\"darkred\" stroke-linejoin=\"miter\" fill=\"none\" />\n",
       "<path d=\"M407,125 C407,125,407,115,417,115 L425,115 L425,135 L417,135 C407,135,407,125,407,125 L407,125\" stroke-width=\"1\" stroke=\"black\" stroke-linejoin=\"miter\" fill=\"white\" />\n",
       "<text x=\"413\" y=\"141\" font-size=\"6\" text-anchor=\"middle\" font-style=\"italic\" dy=\"0em\">[herald0]</text>\n",
       "<text x=\"417\" y=\"128\" font-size=\"7\" text-anchor=\"middle\" dy=\"0em\">0</text>\n",
       "<path d=\"M207,125 C207,125,207,115,217,115 L225,115 L225,135 L217,135 C207,135,207,125,207,125 L207,125\" stroke-width=\"1\" stroke=\"black\" stroke-linejoin=\"miter\" fill=\"white\" />\n",
       "<text x=\"213\" y=\"141\" font-size=\"6\" text-anchor=\"middle\" font-style=\"italic\" dy=\"0em\">[herald1]</text>\n",
       "<text x=\"217\" y=\"128\" font-size=\"7\" text-anchor=\"middle\" dy=\"0em\">1</text>\n",
       "<path d=\"M-2,115 L10,115 L10,185 L-2,185 Z\" stroke=\"black\" fill=\"lightgray\" stroke-linejoin=\"miter\" />\n",
       "<text x=\"4\" y=\"127\" font-size=\"7\" text-anchor=\"middle\" dy=\"0em\">2</text>\n",
       "<text x=\"4\" y=\"177\" font-size=\"7\" text-anchor=\"middle\" dy=\"0em\">3</text>\n",
       "<text x=\"-2\" y=\"191\" font-size=\"6\" text-anchor=\"start\" font-style=\"italic\" dy=\"0em\">[data]</text>\n",
       "<path d=\"M-2,215 L10,215 L10,285 L-2,285 Z\" stroke=\"black\" fill=\"lightgray\" stroke-linejoin=\"miter\" />\n",
       "<text x=\"4\" y=\"227\" font-size=\"7\" text-anchor=\"middle\" dy=\"0em\">4</text>\n",
       "<text x=\"4\" y=\"277\" font-size=\"7\" text-anchor=\"middle\" dy=\"0em\">5</text>\n",
       "<text x=\"-2\" y=\"291\" font-size=\"6\" text-anchor=\"start\" font-style=\"italic\" dy=\"0em\">[ctrl]</text>\n",
       "<path d=\"M407,275 C407,275,407,265,417,265 L425,265 L425,285 L417,285 C407,285,407,275,407,275 L407,275\" stroke-width=\"1\" stroke=\"black\" stroke-linejoin=\"miter\" fill=\"white\" />\n",
       "<text x=\"413\" y=\"291\" font-size=\"6\" text-anchor=\"middle\" font-style=\"italic\" dy=\"0em\">[herald2]</text>\n",
       "<text x=\"417\" y=\"278\" font-size=\"7\" text-anchor=\"middle\" dy=\"0em\">0</text>\n",
       "<path d=\"M207,275 C207,275,207,265,217,265 L225,265 L225,285 L217,285 C207,285,207,275,207,275 L207,275\" stroke-width=\"1\" stroke=\"black\" stroke-linejoin=\"miter\" fill=\"white\" />\n",
       "<text x=\"213\" y=\"291\" font-size=\"6\" text-anchor=\"middle\" font-style=\"italic\" dy=\"0em\">[herald3]</text>\n",
       "<text x=\"217\" y=\"278\" font-size=\"7\" text-anchor=\"middle\" dy=\"0em\">1</text>\n",
       "<path d=\"M533,135 L525,135 L525,115 L533,115 C533,115,543,115,543,125 C543,135,533,135,533,135 L533,135\" stroke-width=\"1\" stroke=\"black\" stroke-linejoin=\"miter\" fill=\"white\" />\n",
       "<text x=\"538\" y=\"141\" font-size=\"6\" text-anchor=\"middle\" font-style=\"italic\" dy=\"0em\">[herald0]</text>\n",
       "<text x=\"533\" y=\"128\" font-size=\"7\" text-anchor=\"middle\" dy=\"0em\">0</text>\n",
       "<path d=\"M333,135 L325,135 L325,115 L333,115 C333,115,343,115,343,125 C343,135,333,135,333,135 L333,135\" stroke-width=\"1\" stroke=\"black\" stroke-linejoin=\"miter\" fill=\"white\" />\n",
       "<text x=\"338\" y=\"141\" font-size=\"6\" text-anchor=\"middle\" font-style=\"italic\" dy=\"0em\">[herald1]</text>\n",
       "<text x=\"333\" y=\"128\" font-size=\"7\" text-anchor=\"middle\" dy=\"0em\">1</text>\n",
       "<path d=\"M740,115 L752,115 L752,185 L740,185 Z\" stroke=\"black\" fill=\"lightgray\" stroke-linejoin=\"miter\" />\n",
       "<text x=\"746\" y=\"127\" font-size=\"7\" text-anchor=\"middle\" dy=\"0em\">2</text>\n",
       "<text x=\"746\" y=\"177\" font-size=\"7\" text-anchor=\"middle\" dy=\"0em\">3</text>\n",
       "<text x=\"752\" y=\"191\" font-size=\"6\" text-anchor=\"end\" font-style=\"italic\" dy=\"0em\">[data]</text>\n",
       "<path d=\"M740,215 L752,215 L752,285 L740,285 Z\" stroke=\"black\" fill=\"lightgray\" stroke-linejoin=\"miter\" />\n",
       "<text x=\"746\" y=\"227\" font-size=\"7\" text-anchor=\"middle\" dy=\"0em\">4</text>\n",
       "<text x=\"746\" y=\"277\" font-size=\"7\" text-anchor=\"middle\" dy=\"0em\">5</text>\n",
       "<text x=\"752\" y=\"291\" font-size=\"6\" text-anchor=\"end\" font-style=\"italic\" dy=\"0em\">[ctrl]</text>\n",
       "<path d=\"M533,285 L525,285 L525,265 L533,265 C533,265,543,265,543,275 C543,285,533,285,533,285 L533,285\" stroke-width=\"1\" stroke=\"black\" stroke-linejoin=\"miter\" fill=\"white\" />\n",
       "<text x=\"538\" y=\"291\" font-size=\"6\" text-anchor=\"middle\" font-style=\"italic\" dy=\"0em\">[herald2]</text>\n",
       "<text x=\"533\" y=\"278\" font-size=\"7\" text-anchor=\"middle\" dy=\"0em\">0</text>\n",
       "<path d=\"M333,285 L325,285 L325,265 L333,265 C333,265,343,265,343,275 C343,285,333,285,333,285 L333,285\" stroke-width=\"1\" stroke=\"black\" stroke-linejoin=\"miter\" fill=\"white\" />\n",
       "<text x=\"338\" y=\"291\" font-size=\"6\" text-anchor=\"middle\" font-style=\"italic\" dy=\"0em\">[herald3]</text>\n",
       "<text x=\"333\" y=\"278\" font-size=\"7\" text-anchor=\"middle\" dy=\"0em\">1</text>\n",
       "</svg>"
      ],
      "text/plain": [
       "<drawSvg.drawing.Drawing at 0x7ff27ac0b670>"
      ]
     },
     "execution_count": 39,
     "metadata": {},
     "output_type": "execute_result"
    }
   ],
   "source": [
    "## Knill's CNOT\n",
    "\n",
    "## TO-Do for us :  put the image of the circuit + some guidelines\n",
    "print(catalog['heralded cnot'].doc)\n",
    "knill_cnot = catalog['heralded cnot'].as_processor().build()\n",
    "\n",
    "pcvl.pdisplay(knill_cnot, recursive=True)\n"
   ]
  },
  {
   "cell_type": "code",
   "execution_count": null,
   "id": "68cdde9c",
   "metadata": {},
   "outputs": [],
   "source": [
    "## TO-DO for students : reproduce the circuit, and check if perfoms a CNOT"
   ]
  },
  {
   "cell_type": "markdown",
   "id": "bda1dc03",
   "metadata": {},
   "source": [
    "### Exercise\n",
    "\n"
   ]
  },
  {
   "cell_type": "code",
   "execution_count": null,
   "id": "7039fcdc",
   "metadata": {},
   "outputs": [],
   "source": [
    "#TO-Do for us : Find a simple quantum circuit\n",
    "\n",
    "# TO-Do for students : reproduce it in the path-encoding"
   ]
  },
  {
   "cell_type": "markdown",
   "id": "82bce9ad",
   "metadata": {},
   "source": [
    "# To go further  <a name=\"further\"></a>"
   ]
  },
  {
   "cell_type": "markdown",
   "id": "4400ae45",
   "metadata": {},
   "source": [
    "### Noise\n",
    "\n",
    "For now, we've only dealt with perfect circuits, with perfect photons/sources/detectors.\n",
    "\n",
    "A realistic chip is of course far from being perfect. This session is trying to let you model some realistic noises we can encounter.\n"
   ]
  },
  {
   "cell_type": "markdown",
   "id": "c01a61ec",
   "metadata": {},
   "source": [
    "### Exercise\n"
   ]
  },
  {
   "cell_type": "code",
   "execution_count": 3,
   "id": "9eca745d",
   "metadata": {},
   "outputs": [],
   "source": [
    "## TO-DO : model HOM, g2, errors of detection "
   ]
  },
  {
   "cell_type": "code",
   "execution_count": null,
   "id": "7cedc4ac",
   "metadata": {},
   "outputs": [],
   "source": []
  }
 ],
 "metadata": {
  "kernelspec": {
   "display_name": "Python 3 (ipykernel)",
   "language": "python",
   "name": "python3"
  },
  "language_info": {
   "codemirror_mode": {
    "name": "ipython",
    "version": 3
   },
   "file_extension": ".py",
   "mimetype": "text/x-python",
   "name": "python",
   "nbconvert_exporter": "python",
   "pygments_lexer": "ipython3",
   "version": "3.9.7"
  }
 },
 "nbformat": 4,
 "nbformat_minor": 5
}

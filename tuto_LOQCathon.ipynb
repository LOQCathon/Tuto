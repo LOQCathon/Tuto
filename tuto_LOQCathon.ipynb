{
 "cells": [
  {
   "cell_type": "markdown",
   "id": "0a97c59f",
   "metadata": {},
   "source": [
    "# Tuto LOQCathon \n",
    "\n",
    "In this tutorial, we will try to cover any basic code to get our hands on Perceval.\n",
    "The full documentation can be found on [Doc Perceval](https://perceval.quandela.net/).\n",
    "\n",
    "For any question, feel free to ask !\n",
    "\n",
    "\n",
    "\n",
    "\n",
    "[I. Introduction](#introduction)\\\n",
    "[II. Linear Optical Circuits](#circuits)\\\n",
    "[III. Simulation](#simulation)\\\n",
    "[IV. Encoding Qubits](#encoding)\\\n",
    "[V. To Go Further](#further)\n",
    "\n",
    "\n",
    "\n",
    "\n"
   ]
  },
  {
   "cell_type": "markdown",
   "id": "4ad79fd5",
   "metadata": {},
   "source": [
    "# I. Introduction <a class=\"anchor\" id=\"introduction\"></a>\n",
    "\n",
    "### Installation <a name=\"installation\"></a>"
   ]
  },
  {
   "cell_type": "code",
   "execution_count": 1,
   "id": "7537273d",
   "metadata": {},
   "outputs": [
    {
     "data": {
      "text/plain": [
       "'0.6.1.post87'"
      ]
     },
     "execution_count": 1,
     "metadata": {},
     "output_type": "execute_result"
    }
   ],
   "source": [
    "import perceval as pcvl\n",
    "pcvl.__version__"
   ]
  },
  {
   "cell_type": "code",
   "execution_count": 2,
   "id": "28abc3e4",
   "metadata": {},
   "outputs": [],
   "source": [
    "from perceval.components.unitary_components import PS, BS, PERM \n",
    "import numpy as np\n",
    "\n",
    "## Use the symbolic skin for display\n",
    "from perceval.rendering.circuit import DisplayConfig, SymbSkin\n",
    "DisplayConfig.select_skin(SymbSkin)"
   ]
  },
  {
   "cell_type": "markdown",
   "id": "8817daed",
   "metadata": {
    "tags": []
   },
   "source": [
    "### BasicStates <a name=\"basicstates\"></a>\n",
    "\n",
    "In Linear Optical Circuits, photons can have many discrete degrees of freedom, called modes. \n",
    "It can be the frequency, the polarisation, the position, or all of them.\n",
    "\n",
    "We represent these degrees of freedom with Fock states. If we have $n$ photons over $m$ modes, the Fock state $|s_1,s_2,...,s_m\\rangle$ means we have $s_i$ photons in the $i^{th}$ mode. Note that $\\sum_{i=1}^m s_i =n$.\n",
    "\n",
    "In Perceval, we will use the module `pcvl.BasicState`"
   ]
  },
  {
   "cell_type": "code",
   "execution_count": 3,
   "id": "435b102b",
   "metadata": {},
   "outputs": [
    {
     "name": "stdout",
     "output_type": "stream",
     "text": [
      "Those are the same states\n",
      "There is 0 photon in mode 0\n",
      "There is 2 photon in mode 1\n",
      "There is 0 photon in mode 2\n",
      "There is 1 photon in mode 3\n"
     ]
    }
   ],
   "source": [
    "## Syntax of different BasicState (list, string, etc)\n",
    "bs1 = pcvl.BasicState('|0,2,0,1>')\n",
    "bs2 = pcvl.BasicState([0, 2, 0, 1])\n",
    "\n",
    "if bs1==bs2:print(\"Those are the same states\")\n",
    "\n",
    "## You can iterate on modes\n",
    "for i, photon_count in enumerate(bs2):\n",
    "    print(f\"There is {photon_count} photon in mode {i}\")\n",
    "\n"
   ]
  },
  {
   "cell_type": "markdown",
   "id": "5fe29a50",
   "metadata": {},
   "source": [
    "### LO-Components <a name=\"components\"></a>\n",
    "\n",
    "The linear optical components are the elementary blocks which will act on our Fock states.\n",
    "\n",
    "It's important to know all the possible components that can be found in Perceval and understand their effects.\n",
    "\n"
   ]
  },
  {
   "cell_type": "code",
   "execution_count": 4,
   "id": "f3dad8b0",
   "metadata": {},
   "outputs": [
    {
     "name": "stdout",
     "output_type": "stream",
     "text": [
      "PERM\n",
      "PERM([2, 0, 1])\n"
     ]
    },
    {
     "data": {
      "text/html": [
       "$\\left[\\begin{matrix}0 & 1 & 0\\\\0 & 0 & 1\\\\1 & 0 & 0\\end{matrix}\\right]$"
      ],
      "text/plain": [
       "<IPython.core.display.HTML object>"
      ]
     },
     "metadata": {},
     "output_type": "display_data"
    },
    {
     "data": {
      "image/svg+xml": [
       "<?xml version=\"1.0\" encoding=\"UTF-8\"?>\n",
       "<svg xmlns=\"http://www.w3.org/2000/svg\" xmlns:xlink=\"http://www.w3.org/1999/xlink\"\n",
       "     width=\"250.0\" height=\"250.0\" viewBox=\"-28.0 0 200 200\">\n",
       "<defs>\n",
       "</defs>\n",
       "<path d=\"M10,25 L25,25\" stroke-width=\"1\" stroke=\"black\" stroke-linejoin=\"miter\" fill=\"none\" />\n",
       "<path d=\"M10,75 L25,75\" stroke-width=\"1\" stroke=\"black\" stroke-linejoin=\"miter\" fill=\"none\" />\n",
       "<path d=\"M10,125 L25,125\" stroke-width=\"1\" stroke=\"black\" stroke-linejoin=\"miter\" fill=\"none\" />\n",
       "<path d=\"M25,24.8 C45,25,55,125,75,125\" stroke-width=\"2\" stroke=\"white\" stroke-linejoin=\"miter\" fill=\"none\" />\n",
       "<path d=\"M25,25 C45,25,55,125,75,125\" stroke-width=\"1\" stroke=\"black\" stroke-linejoin=\"miter\" fill=\"none\" />\n",
       "<path d=\"M25,74.8 C45,75,55,25,75,25\" stroke-width=\"2\" stroke=\"white\" stroke-linejoin=\"miter\" fill=\"none\" />\n",
       "<path d=\"M25,75 C45,75,55,25,75,25\" stroke-width=\"1\" stroke=\"black\" stroke-linejoin=\"miter\" fill=\"none\" />\n",
       "<path d=\"M25,124.8 C45,125,55,75,75,75\" stroke-width=\"2\" stroke=\"white\" stroke-linejoin=\"miter\" fill=\"none\" />\n",
       "<path d=\"M25,125 C45,125,55,75,75,75\" stroke-width=\"1\" stroke=\"black\" stroke-linejoin=\"miter\" fill=\"none\" />\n",
       "<path d=\"M75,25 L90,25\" stroke-width=\"1\" stroke=\"black\" stroke-linejoin=\"miter\" fill=\"none\" />\n",
       "<path d=\"M75,75 L90,75\" stroke-width=\"1\" stroke=\"black\" stroke-linejoin=\"miter\" fill=\"none\" />\n",
       "<path d=\"M75,125 L90,125\" stroke-width=\"1\" stroke=\"black\" stroke-linejoin=\"miter\" fill=\"none\" />\n",
       "<text x=\"100\" y=\"28\" font-size=\"6\" text-anchor=\"end\" dy=\"0em\">0</text>\n",
       "<text x=\"100\" y=\"78\" font-size=\"6\" text-anchor=\"end\" dy=\"0em\">1</text>\n",
       "<text x=\"100\" y=\"128\" font-size=\"6\" text-anchor=\"end\" dy=\"0em\">2</text>\n",
       "<text x=\"0\" y=\"28\" font-size=\"6\" text-anchor=\"start\" dy=\"0em\">0</text>\n",
       "<text x=\"0\" y=\"78\" font-size=\"6\" text-anchor=\"start\" dy=\"0em\">1</text>\n",
       "<text x=\"0\" y=\"128\" font-size=\"6\" text-anchor=\"start\" dy=\"0em\">2</text>\n",
       "</svg>"
      ],
      "text/plain": [
       "<drawSvg.drawing.Drawing at 0x12908eca0>"
      ]
     },
     "execution_count": 4,
     "metadata": {},
     "output_type": "execute_result"
    }
   ],
   "source": [
    "## Permutation\n",
    "\n",
    "perm=PERM([2,0,1])\n",
    "\n",
    "print(perm.name)\n",
    "print(perm.describe())\n",
    "pcvl.pdisplay(perm.definition())\n",
    "pcvl.pdisplay(perm)"
   ]
  },
  {
   "cell_type": "code",
   "execution_count": 5,
   "id": "1d0cf3b2",
   "metadata": {},
   "outputs": [
    {
     "name": "stdout",
     "output_type": "stream",
     "text": [
      "PS\n",
      "PS(phi=pi)\n"
     ]
    },
    {
     "data": {
      "text/html": [
       "$\\left[\\begin{matrix}e^{i \\phi}\\end{matrix}\\right]$"
      ],
      "text/plain": [
       "<IPython.core.display.HTML object>"
      ]
     },
     "metadata": {},
     "output_type": "display_data"
    },
    {
     "data": {
      "image/svg+xml": [
       "<?xml version=\"1.0\" encoding=\"UTF-8\"?>\n",
       "<svg xmlns=\"http://www.w3.org/2000/svg\" xmlns:xlink=\"http://www.w3.org/1999/xlink\"\n",
       "     width=\"250.0\" height=\"125.0\" viewBox=\"-28.0 0 200 100\">\n",
       "<defs>\n",
       "</defs>\n",
       "<path d=\"M10,25 L25,25\" stroke-width=\"1\" stroke=\"black\" stroke-linejoin=\"miter\" fill=\"none\" />\n",
       "<path d=\"M25,25 L45,25 M55,25 L75,25\" stroke-width=\"1\" stroke=\"black\" stroke-linejoin=\"miter\" fill=\"none\" />\n",
       "<path d=\"M40,35 L60,35 L60,15 L40,15 L40,35\" stroke-width=\"1\" stroke=\"black\" stroke-linejoin=\"miter\" fill=\"lightgray\" />\n",
       "<text x=\"50\" y=\"44\" font-size=\"7\" text-anchor=\"middle\" dy=\"0em\">Φ=pi</text>\n",
       "<path d=\"M75,25 L90,25\" stroke-width=\"1\" stroke=\"black\" stroke-linejoin=\"miter\" fill=\"none\" />\n",
       "<text x=\"100\" y=\"28\" font-size=\"6\" text-anchor=\"end\" dy=\"0em\">0</text>\n",
       "<text x=\"0\" y=\"28\" font-size=\"6\" text-anchor=\"start\" dy=\"0em\">0</text>\n",
       "</svg>"
      ],
      "text/plain": [
       "<drawSvg.drawing.Drawing at 0x129411820>"
      ]
     },
     "execution_count": 5,
     "metadata": {},
     "output_type": "execute_result"
    }
   ],
   "source": [
    "## Phase shifter\n",
    "ps = PS(phi=np.pi)\n",
    "\n",
    "print(ps.name)\n",
    "print(ps.describe())  \n",
    "pcvl.pdisplay(ps.definition()) \n",
    "pcvl.pdisplay(ps)  # A pdisplay call on a circuit/processor needs to be the last line of a cell\n"
   ]
  },
  {
   "cell_type": "code",
   "execution_count": 6,
   "id": "d71c153b",
   "metadata": {},
   "outputs": [
    {
     "name": "stdout",
     "output_type": "stream",
     "text": [
      "BS.Rx() unitary matrix\n"
     ]
    },
    {
     "data": {
      "text/html": [
       "$\\left[\\begin{matrix}e^{i \\left(\\phi_{tl} + \\phi_{tr}\\right)} \\cos{\\left(\\frac{\\theta}{2} \\right)} & i e^{i \\left(\\phi_{bl} + \\phi_{tr}\\right)} \\sin{\\left(\\frac{\\theta}{2} \\right)}\\\\i e^{i \\left(\\phi_{br} + \\phi_{tl}\\right)} \\sin{\\left(\\frac{\\theta}{2} \\right)} & e^{i \\left(\\phi_{bl} + \\phi_{br}\\right)} \\cos{\\left(\\frac{\\theta}{2} \\right)}\\end{matrix}\\right]$"
      ],
      "text/plain": [
       "<IPython.core.display.HTML object>"
      ]
     },
     "metadata": {},
     "output_type": "display_data"
    },
    {
     "name": "stdout",
     "output_type": "stream",
     "text": [
      "BS.H() unitary matrix\n"
     ]
    },
    {
     "data": {
      "text/html": [
       "$\\left[\\begin{matrix}e^{i \\left(\\phi_{tl} + \\phi_{tr}\\right)} \\cos{\\left(\\frac{\\theta}{2} \\right)} & e^{i \\left(\\phi_{bl} + \\phi_{tr}\\right)} \\sin{\\left(\\frac{\\theta}{2} \\right)}\\\\e^{i \\left(\\phi_{br} + \\phi_{tl}\\right)} \\sin{\\left(\\frac{\\theta}{2} \\right)} & - e^{i \\left(\\phi_{bl} + \\phi_{br}\\right)} \\cos{\\left(\\frac{\\theta}{2} \\right)}\\end{matrix}\\right]$"
      ],
      "text/plain": [
       "<IPython.core.display.HTML object>"
      ]
     },
     "metadata": {},
     "output_type": "display_data"
    },
    {
     "name": "stdout",
     "output_type": "stream",
     "text": [
      "BS.Ry() unitary matrix\n"
     ]
    },
    {
     "data": {
      "text/html": [
       "$\\left[\\begin{matrix}e^{i \\left(\\phi_{tl} + \\phi_{tr}\\right)} \\cos{\\left(\\frac{\\theta}{2} \\right)} & - e^{i \\left(\\phi_{bl} + \\phi_{tr}\\right)} \\sin{\\left(\\frac{\\theta}{2} \\right)}\\\\e^{i \\left(\\phi_{br} + \\phi_{tl}\\right)} \\sin{\\left(\\frac{\\theta}{2} \\right)} & e^{i \\left(\\phi_{bl} + \\phi_{br}\\right)} \\cos{\\left(\\frac{\\theta}{2} \\right)}\\end{matrix}\\right]$"
      ],
      "text/plain": [
       "<IPython.core.display.HTML object>"
      ]
     },
     "metadata": {},
     "output_type": "display_data"
    },
    {
     "name": "stdout",
     "output_type": "stream",
     "text": [
      "BS displays its convention as a small label\n"
     ]
    },
    {
     "data": {
      "image/svg+xml": [
       "<?xml version=\"1.0\" encoding=\"UTF-8\"?>\n",
       "<svg xmlns=\"http://www.w3.org/2000/svg\" xmlns:xlink=\"http://www.w3.org/1999/xlink\"\n",
       "     width=\"312.5\" height=\"187.5\" viewBox=\"-28.0 0 250 150\">\n",
       "<defs>\n",
       "</defs>\n",
       "<path d=\"M10,25 L25,25\" stroke-width=\"1\" stroke=\"black\" stroke-linejoin=\"miter\" fill=\"none\" />\n",
       "<path d=\"M10,75 L25,75\" stroke-width=\"1\" stroke=\"black\" stroke-linejoin=\"miter\" fill=\"none\" />\n",
       "<path d=\"M37.9442,25.0002 C51.653800000000004,25.0002,51.5923,50.0,65.3019,50.0 M65.3038,50.0 C51.59219999999999,50.0,51.6538,74.9998,37.94409999999999,74.9998 M65.3038,49.99999999999999 L87.1884,49.99999999999999 M87.1884,49.99999999999999 C100.9,49.99999999999999,100.83840000000001,25.000199999999992,114.5481,25.000199999999992 M87.1884,49.99999999999999 C100.9,49.99999999999999,100.83840000000001,74.9998,114.5481,74.9998 M25.0,24.999999999999993 L38.0,24.999999999999993 M38.0019,74.9998 L25.0,74.9998 M112.6453,74.9998 L125.0,74.9998 M112.1944,24.999799999999993 L125.0,24.999799999999993\" stroke-width=\"1\" stroke=\"black\" stroke-linejoin=\"miter\" fill=\"none\" />\n",
       "<text x=\"75\" y=\"38\" font-size=\"7\" text-anchor=\"middle\" dy=\"0em\"></text>\n",
       "<path d=\"M97,53 L107,53 L107,63 L97,63 Z\" stroke=\"black\" fill=\"lightsalmon\" stroke-linejoin=\"miter\" />\n",
       "<text x=\"102\" y=\"60\" font-size=\"6\" text-anchor=\"middle\" dy=\"0em\">Ry</text>\n",
       "<path d=\"M125,25 L140,25\" stroke-width=\"1\" stroke=\"black\" stroke-linejoin=\"miter\" fill=\"none\" />\n",
       "<path d=\"M125,75 L140,75\" stroke-width=\"1\" stroke=\"black\" stroke-linejoin=\"miter\" fill=\"none\" />\n",
       "<text x=\"150\" y=\"28\" font-size=\"6\" text-anchor=\"end\" dy=\"0em\">0</text>\n",
       "<text x=\"150\" y=\"78\" font-size=\"6\" text-anchor=\"end\" dy=\"0em\">1</text>\n",
       "<text x=\"0\" y=\"28\" font-size=\"6\" text-anchor=\"start\" dy=\"0em\">0</text>\n",
       "<text x=\"0\" y=\"78\" font-size=\"6\" text-anchor=\"start\" dy=\"0em\">1</text>\n",
       "</svg>"
      ],
      "text/plain": [
       "<drawSvg.drawing.Drawing at 0x129486370>"
      ]
     },
     "execution_count": 6,
     "metadata": {},
     "output_type": "execute_result"
    }
   ],
   "source": [
    "## Beam splitters\n",
    "\n",
    "bs_rx = BS.Rx()  # By default a beam splitter follows the Rx gate convention, so bs=BS() has the same matrix\n",
    "\n",
    "# But other conventions exist too:\n",
    "bs_h = BS.H() \n",
    "bs_ry = BS.Ry()\n",
    "\n",
    "## Check the difference in the unitary definition:\n",
    "print(\"BS.Rx() unitary matrix\")\n",
    "pcvl.pdisplay(bs_rx.definition())\n",
    "print(\"BS.H() unitary matrix\")\n",
    "pcvl.pdisplay(bs_h.definition())\n",
    "print(\"BS.Ry() unitary matrix\")\n",
    "pcvl.pdisplay(bs_ry.definition())\n",
    "print(\"BS displays its convention as a small label\")\n",
    "pcvl.pdisplay(bs_ry)"
   ]
  },
  {
   "cell_type": "code",
   "execution_count": 86,
   "id": "cd1e84bb",
   "metadata": {},
   "outputs": [
    {
     "data": {
      "text/html": [
       "$\\left[\\begin{matrix}e^{0.392699081698724 i}\\end{matrix}\\right]$"
      ],
      "text/plain": [
       "<IPython.core.display.HTML object>"
      ]
     },
     "metadata": {},
     "output_type": "display_data"
    },
    {
     "data": {
      "text/html": [
       "$\\left[\\begin{matrix}0.92388 + 0.382683 i\\end{matrix}\\right]$"
      ],
      "text/plain": [
       "<IPython.core.display.HTML object>"
      ]
     },
     "metadata": {},
     "output_type": "display_data"
    },
    {
     "name": "stdout",
     "output_type": "stream",
     "text": [
      "\n",
      "A default beam-splitter:\n"
     ]
    },
    {
     "data": {
      "text/html": [
       "$\\left[\\begin{matrix}\\frac{\\sqrt{2}}{2} & \\frac{\\sqrt{2} i}{2}\\\\\\frac{\\sqrt{2} i}{2} & \\frac{\\sqrt{2}}{2}\\end{matrix}\\right]$"
      ],
      "text/plain": [
       "<IPython.core.display.HTML object>"
      ]
     },
     "metadata": {},
     "output_type": "display_data"
    },
    {
     "name": "stdout",
     "output_type": "stream",
     "text": [
      "\n",
      "A Beam-Splitter with a numerical value for theta:\n"
     ]
    },
    {
     "data": {
      "text/html": [
       "$\\left[\\begin{matrix}\\cos{\\left(5 \\right)} & i \\sin{\\left(5 \\right)}\\\\i \\sin{\\left(5 \\right)} & \\cos{\\left(5 \\right)}\\end{matrix}\\right]$"
      ],
      "text/plain": [
       "<IPython.core.display.HTML object>"
      ]
     },
     "metadata": {},
     "output_type": "display_data"
    },
    {
     "data": {
      "text/html": [
       "$\\left[\\begin{matrix}0.283662 & - 0.958924 i\\\\- 0.958924 i & 0.283662\\end{matrix}\\right]$"
      ],
      "text/plain": [
       "<IPython.core.display.HTML object>"
      ]
     },
     "metadata": {},
     "output_type": "display_data"
    },
    {
     "name": "stdout",
     "output_type": "stream",
     "text": [
      "\n",
      "A Phase Shifter with a symbolic value for phi:\n"
     ]
    },
    {
     "data": {
      "text/html": [
       "$\\left[\\begin{matrix}e^{i \\psi}\\end{matrix}\\right]$"
      ],
      "text/plain": [
       "<IPython.core.display.HTML object>"
      ]
     },
     "metadata": {},
     "output_type": "display_data"
    },
    {
     "name": "stdout",
     "output_type": "stream",
     "text": [
      "\n",
      "A beam-splitter with a symbolic variable...\n"
     ]
    },
    {
     "data": {
      "text/html": [
       "$\\left[\\begin{matrix}\\cos{\\left(\\frac{toto}{2} \\right)} & i \\sin{\\left(\\frac{toto}{2} \\right)}\\\\i \\sin{\\left(\\frac{toto}{2} \\right)} & \\cos{\\left(\\frac{toto}{2} \\right)}\\end{matrix}\\right]$"
      ],
      "text/plain": [
       "<IPython.core.display.HTML object>"
      ]
     },
     "metadata": {},
     "output_type": "display_data"
    },
    {
     "name": "stdout",
     "output_type": "stream",
     "text": [
      "... set to a numerical value\n"
     ]
    },
    {
     "data": {
      "text/html": [
       "$\\left[\\begin{matrix}0.283662 & - 0.958924 i\\\\- 0.958924 i & 0.283662\\end{matrix}\\right]$"
      ],
      "text/plain": [
       "<IPython.core.display.HTML object>"
      ]
     },
     "metadata": {},
     "output_type": "display_data"
    },
    {
     "name": "stdout",
     "output_type": "stream",
     "text": [
      "\n",
      "Modified parameters...\n",
      "     Parameter(name='toto', value=3.141592653589793, min_v=0.0, max_v=12.566370614359172)\n",
      "     Parameter(name='tata', value=None, min_v=0.0, max_v=6.283185307179586)\n",
      "... and successfully modified Beam-Splitter:\n"
     ]
    },
    {
     "data": {
      "text/html": [
       "$\\left[\\begin{matrix}6.12323399573677 \\cdot 10^{-17} e^{i \\left(tata + 5.28318530717959\\right)} & 1.0 i e^{5.28318530717959 i}\\\\1.0 i e^{i tata} & 6.12323399573677 \\cdot 10^{-17}\\end{matrix}\\right]$"
      ],
      "text/plain": [
       "<IPython.core.display.HTML object>"
      ]
     },
     "metadata": {},
     "output_type": "display_data"
    }
   ],
   "source": [
    "# You can ask for the symbolic matrix value of your component with the attribute U\n",
    "my_ps = PS(phi=np.pi/8)\n",
    "pcvl.pdisplay(my_ps.U)\n",
    "# And for the numerical value with the method compute_unitary\n",
    "pcvl.pdisplay(my_ps.compute_unitary())\n",
    "print(\"\")\n",
    "\n",
    "# If you do it for a Beam-Splitter, you can see that by default theta=pi/2, and the phi's are 0\n",
    "print(\"A default beam-splitter:\")\n",
    "pcvl.pdisplay(BS().compute_unitary())\n",
    "print(\"\")\n",
    "\n",
    "# To control the value of the parameters of a component, several choices are possible: \n",
    "#  - by setting a numerical value during the creation of the component\n",
    "print(\"A Beam-Splitter with a numerical value for theta:\")\n",
    "bs_rx = BS.Rx(theta=10)\n",
    "pcvl.pdisplay(bs_rx.U)\n",
    "pcvl.pdisplay(bs_rx.compute_unitary())\n",
    "print(\"\")\n",
    "\n",
    "#  - by using the syntax pcvl.P to create a symbolic variable \n",
    "#    (note that you cannot compute the numerical value of your component anymore)\n",
    "print(\"A Phase Shifter with a symbolic value for phi:\")\n",
    "ps = PS(phi=pcvl.P('\\psi'))\n",
    "pcvl.pdisplay(ps.U)\n",
    "print(\"\")\n",
    "\n",
    "#  - you can still modify the value of a symbolic variable after its creation\n",
    "#    This is not true for a numerical variable!\n",
    "print(\"A beam-splitter with a symbolic variable...\")\n",
    "bs_rx = BS(theta=pcvl.P('toto'))\n",
    "pcvl.pdisplay(bs_rx.U)\n",
    "bs_rx.assign({'toto':5})\n",
    "bs_rx.assign({'toto':10})\n",
    "print(\"... set to a numerical value\")\n",
    "pcvl.pdisplay(bs_rx.compute_unitary())\n",
    "print(\"\")\n",
    "\n",
    "# To check which parameters can be modified, you can call the method get_parameters\n",
    "# You can also directly change the output of get_parameters to change the values of the parameters\n",
    "bs_rx = BS(theta=pcvl.P('toto'), phi_tl = pcvl.P('tata'), phi_tr = -1)\n",
    "parameters = bs_rx.get_parameters()\n",
    "parameters[0].set_value(np.pi)\n",
    "print(\"Modified parameters...\")\n",
    "for param in parameters:\n",
    "    print(\"    \", param)\n",
    "print(\"... and successfully modified Beam-Splitter:\")\n",
    "pcvl.pdisplay(bs_rx.U)"
   ]
  },
  {
   "cell_type": "code",
   "execution_count": 82,
   "id": "b04b1194",
   "metadata": {},
   "outputs": [
    {
     "data": {
      "text/html": [
       "$\\left[\\begin{matrix}e^{i \\left(\\phi_{tl} + \\phi_{tr}\\right)} \\cos{\\left(\\frac{\\theta}{2} \\right)} & i e^{i \\left(\\phi_{bl} + \\phi_{tr}\\right)} \\sin{\\left(\\frac{\\theta}{2} \\right)}\\\\i e^{i \\left(\\phi_{br} + \\phi_{tl}\\right)} \\sin{\\left(\\frac{\\theta}{2} \\right)} & e^{i \\left(\\phi_{bl} + \\phi_{br}\\right)} \\cos{\\left(\\frac{\\theta}{2} \\right)}\\end{matrix}\\right]$"
      ],
      "text/plain": [
       "<IPython.core.display.HTML object>"
      ]
     },
     "metadata": {},
     "output_type": "display_data"
    },
    {
     "data": {
      "image/svg+xml": [
       "<?xml version=\"1.0\" encoding=\"UTF-8\"?>\n",
       "<svg xmlns=\"http://www.w3.org/2000/svg\" xmlns:xlink=\"http://www.w3.org/1999/xlink\"\n",
       "     width=\"437.5\" height=\"187.5\" viewBox=\"-28.0 0 350 150\">\n",
       "<defs>\n",
       "</defs>\n",
       "<path d=\"M10,25 L25,25\" stroke-width=\"1\" stroke=\"black\" stroke-linejoin=\"miter\" fill=\"none\" />\n",
       "<path d=\"M10,75 L25,75\" stroke-width=\"1\" stroke=\"black\" stroke-linejoin=\"miter\" fill=\"none\" />\n",
       "<path d=\"M25,25 L45,25 M55,25 L75,25\" stroke-width=\"1\" stroke=\"black\" stroke-linejoin=\"miter\" fill=\"none\" />\n",
       "<path d=\"M40,35 L60,35 L60,15 L40,15 L40,35\" stroke-width=\"1\" stroke=\"black\" stroke-linejoin=\"miter\" fill=\"lightgray\" />\n",
       "<text x=\"50\" y=\"44\" font-size=\"7\" text-anchor=\"middle\" dy=\"0em\">Φ=phi_tl</text>\n",
       "<path d=\"M25,75 L45,75 M55,75 L75,75\" stroke-width=\"1\" stroke=\"black\" stroke-linejoin=\"miter\" fill=\"none\" />\n",
       "<path d=\"M40,85 L60,85 L60,65 L40,65 L40,85\" stroke-width=\"1\" stroke=\"black\" stroke-linejoin=\"miter\" fill=\"lightgray\" />\n",
       "<text x=\"50\" y=\"94\" font-size=\"7\" text-anchor=\"middle\" dy=\"0em\">Φ=phi_bl</text>\n",
       "<path d=\"M87.9442,25.0002 C101.65379999999999,25.0002,101.5923,50.0,115.30189999999999,50.0 M115.3038,50.0 C101.59219999999999,50.0,101.65379999999999,74.9998,87.94409999999999,74.9998 M115.3038,49.99999999999999 L137.1884,49.99999999999999 M137.1884,49.99999999999999 C150.9,49.99999999999999,150.8384,25.000199999999992,164.5481,25.000199999999992 M137.1884,49.99999999999999 C150.9,49.99999999999999,150.8384,74.9998,164.5481,74.9998 M75.0,24.999999999999993 L88.0,24.999999999999993 M88.0019,74.9998 L75.0,74.9998 M162.64530000000002,74.9998 L175.0,74.9998 M162.1944,24.999799999999993 L175.0,24.999799999999993\" stroke-width=\"1\" stroke=\"black\" stroke-linejoin=\"miter\" fill=\"none\" />\n",
       "<text x=\"125\" y=\"38\" font-size=\"7\" text-anchor=\"middle\" dy=\"0em\">Θ=theta</text>\n",
       "<path d=\"M147,53 L157,53 L157,63 L147,63 Z\" stroke=\"black\" fill=\"thistle\" stroke-linejoin=\"miter\" />\n",
       "<text x=\"152\" y=\"60\" font-size=\"6\" text-anchor=\"middle\" dy=\"0em\">Rx</text>\n",
       "<path d=\"M175,25 L195,25 M205,25 L225,25\" stroke-width=\"1\" stroke=\"black\" stroke-linejoin=\"miter\" fill=\"none\" />\n",
       "<path d=\"M190,35 L210,35 L210,15 L190,15 L190,35\" stroke-width=\"1\" stroke=\"black\" stroke-linejoin=\"miter\" fill=\"lightgray\" />\n",
       "<text x=\"200\" y=\"44\" font-size=\"7\" text-anchor=\"middle\" dy=\"0em\">Φ=phi_tr</text>\n",
       "<path d=\"M175,75 L195,75 M205,75 L225,75\" stroke-width=\"1\" stroke=\"black\" stroke-linejoin=\"miter\" fill=\"none\" />\n",
       "<path d=\"M190,85 L210,85 L210,65 L190,65 L190,85\" stroke-width=\"1\" stroke=\"black\" stroke-linejoin=\"miter\" fill=\"lightgray\" />\n",
       "<text x=\"200\" y=\"94\" font-size=\"7\" text-anchor=\"middle\" dy=\"0em\">Φ=phi_br</text>\n",
       "<path d=\"M225,25 L240,25\" stroke-width=\"1\" stroke=\"black\" stroke-linejoin=\"miter\" fill=\"none\" />\n",
       "<path d=\"M225,75 L240,75\" stroke-width=\"1\" stroke=\"black\" stroke-linejoin=\"miter\" fill=\"none\" />\n",
       "<text x=\"250\" y=\"28\" font-size=\"6\" text-anchor=\"end\" dy=\"0em\">0</text>\n",
       "<text x=\"250\" y=\"78\" font-size=\"6\" text-anchor=\"end\" dy=\"0em\">1</text>\n",
       "<text x=\"0\" y=\"28\" font-size=\"6\" text-anchor=\"start\" dy=\"0em\">0</text>\n",
       "<text x=\"0\" y=\"78\" font-size=\"6\" text-anchor=\"start\" dy=\"0em\">1</text>\n",
       "</svg>"
      ],
      "text/plain": [
       "<drawSvg.drawing.Drawing at 0x12ff92d30>"
      ]
     },
     "execution_count": 82,
     "metadata": {},
     "output_type": "execute_result"
    }
   ],
   "source": [
    "## to understand the conventions, you can note that a BS.Rx with the 4 phases phi (top left/right and bottom left/right) can be represented like that \n",
    "\n",
    "bs_rx_circuit=pcvl.Circuit(2) // (0,PS(phi=pcvl.P(\"phi_tl\"))) // (1,PS(phi=pcvl.P(\"phi_bl\"))) // BS(theta=pcvl.P('theta')) // (0,PS(phi=pcvl.P(\"phi_tr\"))) // (1,PS(phi=pcvl.P(\"phi_br\")))\n",
    "\n",
    "\n",
    "pcvl.pdisplay(bs_rx_circuit.U)\n",
    "\n",
    "# we can check it's the same as bs_rx.definition()\n",
    "pcvl.pdisplay(bs_rx_circuit)\n",
    "\n",
    "## For this cell, we needed the syntax to builds circuits... Good transition !"
   ]
  },
  {
   "cell_type": "markdown",
   "id": "bb4cd4d2",
   "metadata": {},
   "source": [
    "# II. LO-Circuits <a class=\"anchor\" id=\"circuits\"></a>\n",
    "\n",
    "From the LO-components, we can build a LO-circuit, i.e. a sequence of those components acting on our different modes.\n",
    "\n",
    "### Syntax"
   ]
  },
  {
   "cell_type": "code",
   "execution_count": 87,
   "id": "2ab8b90e",
   "metadata": {},
   "outputs": [
    {
     "data": {
      "text/html": [
       "$\\left[\\begin{matrix}\\frac{\\sqrt{2} e^{1.5707963267949 i}}{2} & \\frac{\\sqrt{2} i e^{1.5707963267949 i}}{2} & 0\\\\\\frac{i e^{i \\phi}}{2} & \\frac{e^{i \\phi}}{2} & \\frac{\\sqrt{2} i}{2}\\\\- \\frac{e^{i \\phi}}{2} & \\frac{i e^{i \\phi}}{2} & \\frac{\\sqrt{2}}{2}\\end{matrix}\\right]$"
      ],
      "text/plain": [
       "<IPython.core.display.HTML object>"
      ]
     },
     "metadata": {},
     "output_type": "display_data"
    },
    {
     "data": {
      "image/svg+xml": [
       "<?xml version=\"1.0\" encoding=\"UTF-8\"?>\n",
       "<svg xmlns=\"http://www.w3.org/2000/svg\" xmlns:xlink=\"http://www.w3.org/1999/xlink\"\n",
       "     width=\"500.0\" height=\"250.0\" viewBox=\"-28.0 0 400 200\">\n",
       "<defs>\n",
       "</defs>\n",
       "<path d=\"M10,25 L25,25\" stroke-width=\"1\" stroke=\"black\" stroke-linejoin=\"miter\" fill=\"none\" />\n",
       "<path d=\"M10,75 L25,75\" stroke-width=\"1\" stroke=\"black\" stroke-linejoin=\"miter\" fill=\"none\" />\n",
       "<path d=\"M10,125 L25,125\" stroke-width=\"1\" stroke=\"black\" stroke-linejoin=\"miter\" fill=\"none\" />\n",
       "<path d=\"M37.9442,25.0002 C51.653800000000004,25.0002,51.5923,50.0,65.3019,50.0 M65.3038,50.0 C51.59219999999999,50.0,51.6538,74.9998,37.94409999999999,74.9998 M65.3038,49.99999999999999 L87.1884,49.99999999999999 M87.1884,49.99999999999999 C100.9,49.99999999999999,100.83840000000001,25.000199999999992,114.5481,25.000199999999992 M87.1884,49.99999999999999 C100.9,49.99999999999999,100.83840000000001,74.9998,114.5481,74.9998 M25.0,24.999999999999993 L38.0,24.999999999999993 M38.0019,74.9998 L25.0,74.9998 M112.6453,74.9998 L125.0,74.9998 M112.1944,24.999799999999993 L125.0,24.999799999999993\" stroke-width=\"1\" stroke=\"black\" stroke-linejoin=\"miter\" fill=\"none\" />\n",
       "<text x=\"75\" y=\"38\" font-size=\"7\" text-anchor=\"middle\" dy=\"0em\"></text>\n",
       "<path d=\"M97,53 L107,53 L107,63 L97,63 Z\" stroke=\"black\" fill=\"thistle\" stroke-linejoin=\"miter\" />\n",
       "<text x=\"102\" y=\"60\" font-size=\"6\" text-anchor=\"middle\" dy=\"0em\">Rx</text>\n",
       "<path d=\"M125,25 L145,25 M155,25 L175,25\" stroke-width=\"1\" stroke=\"black\" stroke-linejoin=\"miter\" fill=\"none\" />\n",
       "<path d=\"M140,35 L160,35 L160,15 L140,15 L140,35\" stroke-width=\"1\" stroke=\"black\" stroke-linejoin=\"miter\" fill=\"lightgray\" />\n",
       "<text x=\"150\" y=\"44\" font-size=\"7\" text-anchor=\"middle\" dy=\"0em\">Φ=pi/2</text>\n",
       "<path d=\"M125,75 L145,75 M155,75 L175,75\" stroke-width=\"1\" stroke=\"black\" stroke-linejoin=\"miter\" fill=\"none\" />\n",
       "<path d=\"M140,85 L160,85 L160,65 L140,65 L140,85\" stroke-width=\"1\" stroke=\"black\" stroke-linejoin=\"miter\" fill=\"lightgray\" />\n",
       "<text x=\"150\" y=\"94\" font-size=\"7\" text-anchor=\"middle\" dy=\"0em\">Φ=phi</text>\n",
       "<path d=\"M25,125 L175,125\" stroke=\"black\" stroke-width=\"1\" fill=\"none\" />\n",
       "<path d=\"M187.9442,75.0002 C201.6538,75.0002,201.5923,100.0,215.3019,100.0 M215.3038,100.0 C201.5922,100.0,201.6538,124.9998,187.9441,124.9998 M215.3038,100.0 L237.1884,100.0 M237.1884,100.0 C250.9,100.0,250.8384,75.0002,264.5481,75.0002 M237.18839999999997,100.0 C250.89999999999998,100.0,250.83839999999998,124.9998,264.5481,124.9998 M174.99999999999997,75.0 L187.99999999999997,75.0 M188.00189999999998,124.9998 L174.99999999999997,124.9998 M262.64529999999996,124.9998 L274.99999999999994,124.9998 M262.1944,74.9998 L275.0,74.9998\" stroke-width=\"1\" stroke=\"black\" stroke-linejoin=\"miter\" fill=\"none\" />\n",
       "<text x=\"225\" y=\"88\" font-size=\"7\" text-anchor=\"middle\" dy=\"0em\"></text>\n",
       "<path d=\"M247,103 L257,103 L257,113 L247,113 Z\" stroke=\"black\" fill=\"thistle\" stroke-linejoin=\"miter\" />\n",
       "<text x=\"252\" y=\"110\" font-size=\"6\" text-anchor=\"middle\" dy=\"0em\">Rx</text>\n",
       "<path d=\"M175,25 L275,25\" stroke=\"black\" stroke-width=\"1\" fill=\"none\" />\n",
       "<path d=\"M275,25 L290,25\" stroke-width=\"1\" stroke=\"black\" stroke-linejoin=\"miter\" fill=\"none\" />\n",
       "<path d=\"M275,75 L290,75\" stroke-width=\"1\" stroke=\"black\" stroke-linejoin=\"miter\" fill=\"none\" />\n",
       "<path d=\"M275,125 L290,125\" stroke-width=\"1\" stroke=\"black\" stroke-linejoin=\"miter\" fill=\"none\" />\n",
       "<text x=\"300\" y=\"28\" font-size=\"6\" text-anchor=\"end\" dy=\"0em\">0</text>\n",
       "<text x=\"300\" y=\"78\" font-size=\"6\" text-anchor=\"end\" dy=\"0em\">1</text>\n",
       "<text x=\"300\" y=\"128\" font-size=\"6\" text-anchor=\"end\" dy=\"0em\">2</text>\n",
       "<text x=\"0\" y=\"28\" font-size=\"6\" text-anchor=\"start\" dy=\"0em\">0</text>\n",
       "<text x=\"0\" y=\"78\" font-size=\"6\" text-anchor=\"start\" dy=\"0em\">1</text>\n",
       "<text x=\"0\" y=\"128\" font-size=\"6\" text-anchor=\"start\" dy=\"0em\">2</text>\n",
       "</svg>"
      ],
      "text/plain": [
       "<drawSvg.drawing.Drawing at 0x13822f8e0>"
      ]
     },
     "execution_count": 87,
     "metadata": {},
     "output_type": "execute_result"
    }
   ],
   "source": [
    "circuit = pcvl.Circuit(3)  # Create a 3 mode circuit\n",
    "\n",
    "\n",
    "circuit.add(0, BS())\n",
    "circuit.add(0, PS(phi=np.pi/2)).add(1, PS(phi=pcvl.P('phi'))).add(1, BS())\n",
    "\n",
    "# Equivalent syntax:\n",
    "# circuit // BS() // PS(phi=np.pi/2) // (1, PS(phi=pcvl.P('phi'))) // (1, BS())\n",
    "\n",
    " \n",
    "pcvl.pdisplay(circuit.U)\n",
    "pcvl.pdisplay(circuit)"
   ]
  },
  {
   "cell_type": "markdown",
   "id": "0efeef18",
   "metadata": {},
   "source": [
    "The syntax ``pcvl.P('phi')`` allows you to use parameters in the circuit, where you can assign a value or not. The behavior of the parameters of a circuit is similar to the case of the components.\n",
    "\n",
    "For instance, you can use :"
   ]
  },
  {
   "cell_type": "code",
   "execution_count": 88,
   "id": "1230c948",
   "metadata": {},
   "outputs": [
    {
     "name": "stdout",
     "output_type": "stream",
     "text": [
      "[Parameter(name='phi', value=None, min_v=0.0, max_v=6.283185307179586)]\n"
     ]
    },
    {
     "data": {
      "image/svg+xml": [
       "<?xml version=\"1.0\" encoding=\"UTF-8\"?>\n",
       "<svg xmlns=\"http://www.w3.org/2000/svg\" xmlns:xlink=\"http://www.w3.org/1999/xlink\"\n",
       "     width=\"500.0\" height=\"250.0\" viewBox=\"-28.0 0 400 200\">\n",
       "<defs>\n",
       "</defs>\n",
       "<path d=\"M10,25 L25,25\" stroke-width=\"1\" stroke=\"black\" stroke-linejoin=\"miter\" fill=\"none\" />\n",
       "<path d=\"M10,75 L25,75\" stroke-width=\"1\" stroke=\"black\" stroke-linejoin=\"miter\" fill=\"none\" />\n",
       "<path d=\"M10,125 L25,125\" stroke-width=\"1\" stroke=\"black\" stroke-linejoin=\"miter\" fill=\"none\" />\n",
       "<path d=\"M37.9442,25.0002 C51.653800000000004,25.0002,51.5923,50.0,65.3019,50.0 M65.3038,50.0 C51.59219999999999,50.0,51.6538,74.9998,37.94409999999999,74.9998 M65.3038,49.99999999999999 L87.1884,49.99999999999999 M87.1884,49.99999999999999 C100.9,49.99999999999999,100.83840000000001,25.000199999999992,114.5481,25.000199999999992 M87.1884,49.99999999999999 C100.9,49.99999999999999,100.83840000000001,74.9998,114.5481,74.9998 M25.0,24.999999999999993 L38.0,24.999999999999993 M38.0019,74.9998 L25.0,74.9998 M112.6453,74.9998 L125.0,74.9998 M112.1944,24.999799999999993 L125.0,24.999799999999993\" stroke-width=\"1\" stroke=\"black\" stroke-linejoin=\"miter\" fill=\"none\" />\n",
       "<text x=\"75\" y=\"38\" font-size=\"7\" text-anchor=\"middle\" dy=\"0em\"></text>\n",
       "<path d=\"M97,53 L107,53 L107,63 L97,63 Z\" stroke=\"black\" fill=\"thistle\" stroke-linejoin=\"miter\" />\n",
       "<text x=\"102\" y=\"60\" font-size=\"6\" text-anchor=\"middle\" dy=\"0em\">Rx</text>\n",
       "<path d=\"M125,25 L145,25 M155,25 L175,25\" stroke-width=\"1\" stroke=\"black\" stroke-linejoin=\"miter\" fill=\"none\" />\n",
       "<path d=\"M140,35 L160,35 L160,15 L140,15 L140,35\" stroke-width=\"1\" stroke=\"black\" stroke-linejoin=\"miter\" fill=\"lightgray\" />\n",
       "<text x=\"150\" y=\"44\" font-size=\"7\" text-anchor=\"middle\" dy=\"0em\">Φ=pi/2</text>\n",
       "<path d=\"M125,75 L145,75 M155,75 L175,75\" stroke-width=\"1\" stroke=\"black\" stroke-linejoin=\"miter\" fill=\"none\" />\n",
       "<path d=\"M140,85 L160,85 L160,65 L140,65 L140,85\" stroke-width=\"1\" stroke=\"black\" stroke-linejoin=\"miter\" fill=\"lightgray\" />\n",
       "<text x=\"150\" y=\"94\" font-size=\"7\" text-anchor=\"middle\" dy=\"0em\">Φ=pi</text>\n",
       "<path d=\"M25,125 L175,125\" stroke=\"black\" stroke-width=\"1\" fill=\"none\" />\n",
       "<path d=\"M187.9442,75.0002 C201.6538,75.0002,201.5923,100.0,215.3019,100.0 M215.3038,100.0 C201.5922,100.0,201.6538,124.9998,187.9441,124.9998 M215.3038,100.0 L237.1884,100.0 M237.1884,100.0 C250.9,100.0,250.8384,75.0002,264.5481,75.0002 M237.18839999999997,100.0 C250.89999999999998,100.0,250.83839999999998,124.9998,264.5481,124.9998 M174.99999999999997,75.0 L187.99999999999997,75.0 M188.00189999999998,124.9998 L174.99999999999997,124.9998 M262.64529999999996,124.9998 L274.99999999999994,124.9998 M262.1944,74.9998 L275.0,74.9998\" stroke-width=\"1\" stroke=\"black\" stroke-linejoin=\"miter\" fill=\"none\" />\n",
       "<text x=\"225\" y=\"88\" font-size=\"7\" text-anchor=\"middle\" dy=\"0em\"></text>\n",
       "<path d=\"M247,103 L257,103 L257,113 L247,113 Z\" stroke=\"black\" fill=\"thistle\" stroke-linejoin=\"miter\" />\n",
       "<text x=\"252\" y=\"110\" font-size=\"6\" text-anchor=\"middle\" dy=\"0em\">Rx</text>\n",
       "<path d=\"M175,25 L275,25\" stroke=\"black\" stroke-width=\"1\" fill=\"none\" />\n",
       "<path d=\"M275,25 L290,25\" stroke-width=\"1\" stroke=\"black\" stroke-linejoin=\"miter\" fill=\"none\" />\n",
       "<path d=\"M275,75 L290,75\" stroke-width=\"1\" stroke=\"black\" stroke-linejoin=\"miter\" fill=\"none\" />\n",
       "<path d=\"M275,125 L290,125\" stroke-width=\"1\" stroke=\"black\" stroke-linejoin=\"miter\" fill=\"none\" />\n",
       "<text x=\"300\" y=\"28\" font-size=\"6\" text-anchor=\"end\" dy=\"0em\">0</text>\n",
       "<text x=\"300\" y=\"78\" font-size=\"6\" text-anchor=\"end\" dy=\"0em\">1</text>\n",
       "<text x=\"300\" y=\"128\" font-size=\"6\" text-anchor=\"end\" dy=\"0em\">2</text>\n",
       "<text x=\"0\" y=\"28\" font-size=\"6\" text-anchor=\"start\" dy=\"0em\">0</text>\n",
       "<text x=\"0\" y=\"78\" font-size=\"6\" text-anchor=\"start\" dy=\"0em\">1</text>\n",
       "<text x=\"0\" y=\"128\" font-size=\"6\" text-anchor=\"start\" dy=\"0em\">2</text>\n",
       "</svg>"
      ],
      "text/plain": [
       "<drawSvg.drawing.Drawing at 0x1384762b0>"
      ]
     },
     "execution_count": 88,
     "metadata": {},
     "output_type": "execute_result"
    }
   ],
   "source": [
    "params=circuit.get_parameters()\n",
    "print(params) #list of the parameters\n",
    "\n",
    "# the value is None, but we can change that with :\n",
    "\n",
    "params[0].set_value(np.pi)\n",
    "pcvl.pdisplay(circuit)\n"
   ]
  },
  {
   "cell_type": "markdown",
   "id": "75e4440d",
   "metadata": {},
   "source": [
    "### Mach-Zehnder Interferometers \n",
    "\n",
    "The beamsplitter's angle $\\theta$ can also be defined as a parameter.\n",
    "\n",
    "However, as the reflexivity depends on the mirror, it's hard to have adaptibility on the angle. \n",
    "Therefore, in practice, we use a [Mach-Zehnder Interferometer](https://en.wikipedia.org/wiki/Mach%E2%80%93Zehnder_interferometer). \n",
    "\n",
    "The beamsplitter with a parameterised $\\theta$ is therefore implemented with a parameterised phase shifter $\\phi$ between two fixed beamsplitters.\n",
    "\n",
    "\n"
   ]
  },
  {
   "cell_type": "markdown",
   "id": "3b100b43",
   "metadata": {},
   "source": [
    "![](mzi.svg \"Mach-Zehnder Intereforemeter\")"
   ]
  },
  {
   "cell_type": "code",
   "execution_count": 89,
   "id": "8598d2e3",
   "metadata": {},
   "outputs": [],
   "source": [
    "## TO-DO: build a circuit implementing the mzi\n",
    "\n",
    "\n",
    "\n",
    "## TO-DO: Check that the parameterised phase allows you to change the reflexivity of your MZI\n",
    "\n",
    "\n",
    "\n",
    "## Note: If you need to create a BS directly from the reflexivity value, please use:\n",
    "## BS(BS.r_to_theta(reflectivity_value))\n",
    "## However, be aware that only theta value is stored inside the BS object"
   ]
  },
  {
   "cell_type": "markdown",
   "id": "9d8e718b",
   "metadata": {},
   "source": [
    "### Universal Circuits\n",
    "\n",
    "An operation on the modes of our circuit can also be expressed as a unitary.\n",
    "\n",
    "For three modes, the unitary $U=\\begin{pmatrix}\n",
    "a_{1,1} & a_{1,2} & a_{1,3}\\\\\n",
    "a_{2,1} & a_{2,2} & a_{2,3} \\\\ \n",
    "a_{3,1} & a_{3,2} & a_{3,3}\n",
    "\\end{pmatrix}$ performs the following operation on the Fock state basis:\n",
    "\n",
    "$$\\begin{array}{rcl}\n",
    "|1,0,0\\rangle &  \\mapsto&  a_{1,1}|1,0,0\\rangle + a_{1,2}|0,1,0\\rangle + a_{1,3}|0,0,1\\rangle\\\\\n",
    "|0,1,0\\rangle &  \\mapsto&  a_{2,1}|1,0,0\\rangle + a_{2,2}|0,1,0\\rangle + a_{2,3}|0,0,1\\rangle\\\\\n",
    "|0,0,1\\rangle &  \\mapsto&  a_{3,1}|1,0,0\\rangle + a_{3,2}|0,1,0\\rangle + a_{3,3}|0,0,1\\rangle\n",
    "\\end{array}$$"
   ]
  },
  {
   "cell_type": "markdown",
   "id": "78150c03",
   "metadata": {},
   "source": [
    "Since 1994, we know that any $U$ on the modes can be implemented as an LO-circuit [Reck's et al](https://journals.aps.org/prl/abstract/10.1103/PhysRevLett.73.58).\n",
    "\n",
    "This decomposition can be done easily in Perceval using beamsplitters and phase-shifters as follows. "
   ]
  },
  {
   "cell_type": "code",
   "execution_count": 97,
   "id": "a043bb05",
   "metadata": {},
   "outputs": [
    {
     "data": {
      "image/svg+xml": [
       "<?xml version=\"1.0\" encoding=\"UTF-8\"?>\n",
       "<svg xmlns=\"http://www.w3.org/2000/svg\" xmlns:xlink=\"http://www.w3.org/1999/xlink\"\n",
       "     width=\"625.0\" height=\"250.0\" viewBox=\"-28.0 0 500 200\">\n",
       "<defs>\n",
       "</defs>\n",
       "<path d=\"M10,25 L25,25\" stroke-width=\"1\" stroke=\"black\" stroke-linejoin=\"miter\" fill=\"none\" />\n",
       "<path d=\"M10,75 L25,75\" stroke-width=\"1\" stroke=\"black\" stroke-linejoin=\"miter\" fill=\"none\" />\n",
       "<path d=\"M10,125 L25,125\" stroke-width=\"1\" stroke=\"black\" stroke-linejoin=\"miter\" fill=\"none\" />\n",
       "<path d=\"M25,125 L45,125 M55,125 L75,125\" stroke-width=\"1\" stroke=\"black\" stroke-linejoin=\"miter\" fill=\"none\" />\n",
       "<path d=\"M40,135 L60,135 L60,115 L40,115 L40,135\" stroke-width=\"1\" stroke=\"black\" stroke-linejoin=\"miter\" fill=\"lightgray\" />\n",
       "<text x=\"50\" y=\"144\" font-size=\"7\" text-anchor=\"middle\" dy=\"0em\">Φ=4.489971</text>\n",
       "<path d=\"M25,75 L45,75 M55,75 L75,75\" stroke-width=\"1\" stroke=\"black\" stroke-linejoin=\"miter\" fill=\"none\" />\n",
       "<path d=\"M40,85 L60,85 L60,65 L40,65 L40,85\" stroke-width=\"1\" stroke=\"black\" stroke-linejoin=\"miter\" fill=\"lightgray\" />\n",
       "<text x=\"50\" y=\"94\" font-size=\"7\" text-anchor=\"middle\" dy=\"0em\">Φ=4.759337</text>\n",
       "<path d=\"M25,25 L45,25 M55,25 L75,25\" stroke-width=\"1\" stroke=\"black\" stroke-linejoin=\"miter\" fill=\"none\" />\n",
       "<path d=\"M40,35 L60,35 L60,15 L40,15 L40,35\" stroke-width=\"1\" stroke=\"black\" stroke-linejoin=\"miter\" fill=\"lightgray\" />\n",
       "<text x=\"50\" y=\"44\" font-size=\"7\" text-anchor=\"middle\" dy=\"0em\">Φ=3.23646</text>\n",
       "<path d=\"M87.9442,25.0002 C101.65379999999999,25.0002,101.5923,50.0,115.30189999999999,50.0 M115.3038,50.0 C101.59219999999999,50.0,101.65379999999999,74.9998,87.94409999999999,74.9998 M115.3038,49.99999999999999 L137.1884,49.99999999999999 M137.1884,49.99999999999999 C150.9,49.99999999999999,150.8384,25.000199999999992,164.5481,25.000199999999992 M137.1884,49.99999999999999 C150.9,49.99999999999999,150.8384,74.9998,164.5481,74.9998 M75.0,24.999999999999993 L88.0,24.999999999999993 M88.0019,74.9998 L75.0,74.9998 M162.64530000000002,74.9998 L175.0,74.9998 M162.1944,24.999799999999993 L175.0,24.999799999999993\" stroke-width=\"1\" stroke=\"black\" stroke-linejoin=\"miter\" fill=\"none\" />\n",
       "<text x=\"125\" y=\"38\" font-size=\"7\" text-anchor=\"middle\"><tspan x=\"125\" dy=\"0em\">Θ=4.456141</tspan><tspan x=\"125\" dy=\"1em\">Φ_tr=1.520708</tspan></text>\n",
       "<path d=\"M147,53 L157,53 L157,63 L147,63 Z\" stroke=\"black\" fill=\"thistle\" stroke-linejoin=\"miter\" />\n",
       "<text x=\"152\" y=\"60\" font-size=\"6\" text-anchor=\"middle\" dy=\"0em\">Rx</text>\n",
       "<path d=\"M75,125 L175,125\" stroke=\"black\" stroke-width=\"1\" fill=\"none\" />\n",
       "<path d=\"M187.9442,75.0002 C201.6538,75.0002,201.5923,100.0,215.3019,100.0 M215.3038,100.0 C201.5922,100.0,201.6538,124.9998,187.9441,124.9998 M215.3038,100.0 L237.1884,100.0 M237.1884,100.0 C250.9,100.0,250.8384,75.0002,264.5481,75.0002 M237.18839999999997,100.0 C250.89999999999998,100.0,250.83839999999998,124.9998,264.5481,124.9998 M174.99999999999997,75.0 L187.99999999999997,75.0 M188.00189999999998,124.9998 L174.99999999999997,124.9998 M262.64529999999996,124.9998 L274.99999999999994,124.9998 M262.1944,74.9998 L275.0,74.9998\" stroke-width=\"1\" stroke=\"black\" stroke-linejoin=\"miter\" fill=\"none\" />\n",
       "<text x=\"225\" y=\"88\" font-size=\"7\" text-anchor=\"middle\"><tspan x=\"225\" dy=\"0em\">Θ=9.880477</tspan><tspan x=\"225\" dy=\"1em\">Φ_tr=1.7057</tspan></text>\n",
       "<path d=\"M247,103 L257,103 L257,113 L247,113 Z\" stroke=\"black\" fill=\"thistle\" stroke-linejoin=\"miter\" />\n",
       "<text x=\"252\" y=\"110\" font-size=\"6\" text-anchor=\"middle\" dy=\"0em\">Rx</text>\n",
       "<path d=\"M175,25 L275,25\" stroke=\"black\" stroke-width=\"1\" fill=\"none\" />\n",
       "<path d=\"M287.9442,25.0002 C301.65380000000005,25.0002,301.5923,50.0,315.30190000000005,50.0 M315.3038,50.0 C301.59220000000005,50.0,301.65380000000005,74.9998,287.94410000000005,74.9998 M315.3038,49.99999999999999 L337.1884,49.99999999999999 M337.1884,49.99999999999999 C350.9,49.99999999999999,350.8384,25.000199999999992,364.5481,25.000199999999992 M337.1884,49.99999999999999 C350.9,49.99999999999999,350.8384,74.9998,364.5481,74.9998 M275.0,24.999999999999993 L288.0,24.999999999999993 M288.0019,74.9998 L275.0,74.9998 M362.6453,74.9998 L375.0,74.9998 M362.1944,24.999799999999993 L375.0,24.999799999999993\" stroke-width=\"1\" stroke=\"black\" stroke-linejoin=\"miter\" fill=\"none\" />\n",
       "<text x=\"325\" y=\"38\" font-size=\"7\" text-anchor=\"middle\"><tspan x=\"325\" dy=\"0em\">Θ=4.945439</tspan><tspan x=\"325\" dy=\"1em\">Φ_tr=0.290776</tspan></text>\n",
       "<path d=\"M347,53 L357,53 L357,63 L347,63 Z\" stroke=\"black\" fill=\"thistle\" stroke-linejoin=\"miter\" />\n",
       "<text x=\"352\" y=\"60\" font-size=\"6\" text-anchor=\"middle\" dy=\"0em\">Rx</text>\n",
       "<path d=\"M275,125 L375,125\" stroke=\"black\" stroke-width=\"1\" fill=\"none\" />\n",
       "<path d=\"M375,25 L390,25\" stroke-width=\"1\" stroke=\"black\" stroke-linejoin=\"miter\" fill=\"none\" />\n",
       "<path d=\"M375,75 L390,75\" stroke-width=\"1\" stroke=\"black\" stroke-linejoin=\"miter\" fill=\"none\" />\n",
       "<path d=\"M375,125 L390,125\" stroke-width=\"1\" stroke=\"black\" stroke-linejoin=\"miter\" fill=\"none\" />\n",
       "<text x=\"400\" y=\"28\" font-size=\"6\" text-anchor=\"end\" dy=\"0em\">0</text>\n",
       "<text x=\"400\" y=\"78\" font-size=\"6\" text-anchor=\"end\" dy=\"0em\">1</text>\n",
       "<text x=\"400\" y=\"128\" font-size=\"6\" text-anchor=\"end\" dy=\"0em\">2</text>\n",
       "<text x=\"0\" y=\"28\" font-size=\"6\" text-anchor=\"start\" dy=\"0em\">0</text>\n",
       "<text x=\"0\" y=\"78\" font-size=\"6\" text-anchor=\"start\" dy=\"0em\">1</text>\n",
       "<text x=\"0\" y=\"128\" font-size=\"6\" text-anchor=\"start\" dy=\"0em\">2</text>\n",
       "</svg>"
      ],
      "text/plain": [
       "<drawSvg.drawing.Drawing at 0x139b1e100>"
      ]
     },
     "execution_count": 97,
     "metadata": {},
     "output_type": "execute_result"
    }
   ],
   "source": [
    "## From any unitary\n",
    "n=3\n",
    "U=pcvl.Matrix.random_unitary(n)\n",
    "\n",
    "circuit_u=pcvl.Circuit.decomposition(U,BS(theta=pcvl.P('theta'),phi_tr=pcvl.P('phi')),phase_shifter_fn=PS)\n",
    "\n",
    "pcvl.pdisplay(circuit_u)\n",
    "\n",
    "\n"
   ]
  },
  {
   "cell_type": "code",
   "execution_count": 98,
   "id": "a5e7c453",
   "metadata": {},
   "outputs": [
    {
     "name": "stdout",
     "output_type": "stream",
     "text": [
      "The error between the two unitaries is 7.664002536590977e-09\n"
     ]
    }
   ],
   "source": [
    "print(\"The error between the two unitaries is\",np.linalg.norm(U-circuit_u.compute_unitary()))"
   ]
  },
  {
   "cell_type": "code",
   "execution_count": 99,
   "id": "20b31e3f",
   "metadata": {},
   "outputs": [],
   "source": [
    "## TO-DO: decompose your unitary with only phase shifters and balanced beamsplitters.\n",
    "\n",
    "\n",
    "\n",
    "## Note: you can use a MZI. Be careful to put the phase on the right, as the full layer of phase_shifter_fn is on the left of the circuit\n"
   ]
  },
  {
   "cell_type": "code",
   "execution_count": 100,
   "id": "d77fa5a7",
   "metadata": {},
   "outputs": [],
   "source": [
    "## TO-DO: check the norm of the difference to be sure it has worked well "
   ]
  },
  {
   "cell_type": "markdown",
   "id": "b6990985",
   "metadata": {},
   "source": [
    "### Black Box \n",
    "\n",
    "To improve readibility, the circuit can be constructed in multiple steps which are then combined as black boxes. This will also help when we'll need generic operations (see [Encoding]()).\n"
   ]
  },
  {
   "cell_type": "code",
   "execution_count": 101,
   "id": "cf442c25",
   "metadata": {},
   "outputs": [
    {
     "data": {
      "image/svg+xml": [
       "<?xml version=\"1.0\" encoding=\"UTF-8\"?>\n",
       "<svg xmlns=\"http://www.w3.org/2000/svg\" xmlns:xlink=\"http://www.w3.org/1999/xlink\"\n",
       "     width=\"437.5\" height=\"312.5\" viewBox=\"-62.0 0 350 250\">\n",
       "<defs>\n",
       "</defs>\n",
       "<path d=\"M10,25 L25,25\" stroke-width=\"1\" stroke=\"black\" stroke-linejoin=\"miter\" fill=\"none\" />\n",
       "<path d=\"M10,75 L25,75\" stroke-width=\"1\" stroke=\"black\" stroke-linejoin=\"miter\" fill=\"none\" />\n",
       "<path d=\"M10,125 L25,125\" stroke-width=\"1\" stroke=\"black\" stroke-linejoin=\"miter\" fill=\"none\" />\n",
       "<path d=\"M10,175 L25,175\" stroke-width=\"1\" stroke=\"black\" stroke-linejoin=\"miter\" fill=\"none\" />\n",
       "<path d=\"M25,25 L75,25\" stroke=\"black\" stroke-width=\"1\" fill=\"none\" />\n",
       "<path d=\"M25,75 L75,75\" stroke=\"black\" stroke-width=\"1\" fill=\"none\" />\n",
       "<path d=\"M25,125 L75,125\" stroke=\"black\" stroke-width=\"1\" fill=\"none\" />\n",
       "<path d=\"M25,175 L75,175\" stroke=\"black\" stroke-width=\"1\" fill=\"none\" />\n",
       "<path d=\"M27.5,2.5 L72.5,2.5 L72.5,197.5 L27.5,197.5 Z\" stroke=\"black\" fill=\"white\" stroke-linejoin=\"miter\" />\n",
       "<text x=\"35\" y=\"32\" font-size=\"8\" text-anchor=\"start\" font-weight=\"bold\"><tspan x=\"35\" dy=\"0em\">BELL</tspan><tspan x=\"35\" dy=\"1em\">STATE</tspan><tspan x=\"35\" dy=\"1em\">PREPAR.</tspan></text>\n",
       "<path d=\"M75,25 L125,25\" stroke=\"black\" stroke-width=\"1\" fill=\"none\" />\n",
       "<path d=\"M75,75 L125,75\" stroke=\"black\" stroke-width=\"1\" fill=\"none\" />\n",
       "<path d=\"M77.5,2.5 L122.5,2.5 L122.5,97.5 L77.5,97.5 Z\" stroke=\"black\" fill=\"white\" stroke-linejoin=\"miter\" />\n",
       "<text x=\"85\" y=\"24\" font-size=\"8\" text-anchor=\"start\" font-weight=\"bold\"><tspan x=\"85\" dy=\"0em\">UPPER</tspan><tspan x=\"85\" dy=\"1em\">MZI</tspan></text>\n",
       "<path d=\"M75,125 L125,125\" stroke=\"black\" stroke-width=\"1\" fill=\"none\" />\n",
       "<path d=\"M75,175 L125,175\" stroke=\"black\" stroke-width=\"1\" fill=\"none\" />\n",
       "<path d=\"M77.5,102.5 L122.5,102.5 L122.5,197.5 L77.5,197.5 Z\" stroke=\"black\" fill=\"white\" stroke-linejoin=\"miter\" />\n",
       "<text x=\"85\" y=\"124\" font-size=\"8\" text-anchor=\"start\" font-weight=\"bold\"><tspan x=\"85\" dy=\"0em\">LOWER</tspan><tspan x=\"85\" dy=\"1em\">MZI</tspan></text>\n",
       "<path d=\"M125,25 L140,25\" stroke-width=\"1\" stroke=\"black\" stroke-linejoin=\"miter\" fill=\"none\" />\n",
       "<path d=\"M125,75 L140,75\" stroke-width=\"1\" stroke=\"black\" stroke-linejoin=\"miter\" fill=\"none\" />\n",
       "<path d=\"M125,125 L140,125\" stroke-width=\"1\" stroke=\"black\" stroke-linejoin=\"miter\" fill=\"none\" />\n",
       "<path d=\"M125,175 L140,175\" stroke-width=\"1\" stroke=\"black\" stroke-linejoin=\"miter\" fill=\"none\" />\n",
       "<text x=\"150\" y=\"28\" font-size=\"6\" text-anchor=\"end\" dy=\"0em\">0</text>\n",
       "<text x=\"150\" y=\"78\" font-size=\"6\" text-anchor=\"end\" dy=\"0em\">1</text>\n",
       "<text x=\"150\" y=\"128\" font-size=\"6\" text-anchor=\"end\" dy=\"0em\">2</text>\n",
       "<text x=\"150\" y=\"178\" font-size=\"6\" text-anchor=\"end\" dy=\"0em\">3</text>\n",
       "<text x=\"0\" y=\"28\" font-size=\"6\" text-anchor=\"start\" dy=\"0em\">0</text>\n",
       "<text x=\"0\" y=\"78\" font-size=\"6\" text-anchor=\"start\" dy=\"0em\">1</text>\n",
       "<text x=\"0\" y=\"128\" font-size=\"6\" text-anchor=\"start\" dy=\"0em\">2</text>\n",
       "<text x=\"0\" y=\"178\" font-size=\"6\" text-anchor=\"start\" dy=\"0em\">3</text>\n",
       "</svg>"
      ],
      "text/plain": [
       "<drawSvg.drawing.Drawing at 0x139b0ed60>"
      ]
     },
     "execution_count": 101,
     "metadata": {},
     "output_type": "execute_result"
    }
   ],
   "source": [
    "pre_MZI = (pcvl.Circuit(4, name=\"Bell State Prepar.\")\n",
    "           .add(0, BS())\n",
    "           .add(2, BS())\n",
    "           .add(1, PERM([1, 0])))\n",
    "\n",
    "upper_MZI = (pcvl.Circuit(2, name=\"upper MZI\")\n",
    "             .add(0, PS(phi=pcvl.P('phi_0')))\n",
    "             .add(0, BS())\n",
    "             .add(0, PS(phi=pcvl.P('phi_2')))\n",
    "             .add(0, BS()))\n",
    "\n",
    "lower_MZI = (pcvl.Circuit(2, name=\"lower MZI\")\n",
    "             .add(0, PS(phi=pcvl.P('phi_1')))\n",
    "             .add(0, BS())\n",
    "             .add(0, PS(phi=pcvl.P('phi_3')))\n",
    "             .add(0, BS()))\n",
    "\n",
    "chip = (pcvl.Circuit(4)\n",
    "              .add(0, pre_MZI)\n",
    "              .add(0, upper_MZI, merge=False)\n",
    "              .add(2, lower_MZI, merge=False))\n",
    "\n",
    "pcvl.pdisplay(chip)"
   ]
  },
  {
   "cell_type": "code",
   "execution_count": 102,
   "id": "74c28a38",
   "metadata": {
    "scrolled": true
   },
   "outputs": [
    {
     "data": {
      "image/svg+xml": [
       "<?xml version=\"1.0\" encoding=\"UTF-8\"?>\n",
       "<svg xmlns=\"http://www.w3.org/2000/svg\" xmlns:xlink=\"http://www.w3.org/1999/xlink\"\n",
       "     width=\"750.0\" height=\"312.5\" viewBox=\"-68.0 0 600 250\">\n",
       "<defs>\n",
       "</defs>\n",
       "<path d=\"M10,25 L25,25\" stroke-width=\"1\" stroke=\"black\" stroke-linejoin=\"miter\" fill=\"none\" />\n",
       "<path d=\"M10,75 L25,75\" stroke-width=\"1\" stroke=\"black\" stroke-linejoin=\"miter\" fill=\"none\" />\n",
       "<path d=\"M10,125 L25,125\" stroke-width=\"1\" stroke=\"black\" stroke-linejoin=\"miter\" fill=\"none\" />\n",
       "<path d=\"M10,175 L25,175\" stroke-width=\"1\" stroke=\"black\" stroke-linejoin=\"miter\" fill=\"none\" />\n",
       "<path d=\"M27,2 L173,2 L173,198 L27,198 Z\" stroke=\"black\" fill=\"lightblue\" stroke-dasharray=\"1,2\" stroke-linejoin=\"miter\" />\n",
       "<text x=\"29\" y=\"205\" font-size=\"8\" text-anchor=\"start\" dy=\"0em\">BELL STATE PREPAR.</text>\n",
       "<path d=\"M37.9442,25.0002 C51.653800000000004,25.0002,51.5923,50.0,65.3019,50.0 M65.3038,50.0 C51.59219999999999,50.0,51.6538,74.9998,37.94409999999999,74.9998 M65.3038,49.99999999999999 L87.1884,49.99999999999999 M87.1884,49.99999999999999 C100.9,49.99999999999999,100.83840000000001,25.000199999999992,114.5481,25.000199999999992 M87.1884,49.99999999999999 C100.9,49.99999999999999,100.83840000000001,74.9998,114.5481,74.9998 M25.0,24.999999999999993 L38.0,24.999999999999993 M38.0019,74.9998 L25.0,74.9998 M112.6453,74.9998 L125.0,74.9998 M112.1944,24.999799999999993 L125.0,24.999799999999993\" stroke-width=\"1\" stroke=\"black\" stroke-linejoin=\"miter\" fill=\"none\" />\n",
       "<text x=\"75\" y=\"38\" font-size=\"7\" text-anchor=\"middle\" dy=\"0em\"></text>\n",
       "<path d=\"M97,53 L107,53 L107,63 L97,63 Z\" stroke=\"black\" fill=\"thistle\" stroke-linejoin=\"miter\" />\n",
       "<text x=\"102\" y=\"60\" font-size=\"6\" text-anchor=\"middle\" dy=\"0em\">Rx</text>\n",
       "<path d=\"M37.9442,125.0002 C51.653800000000004,125.0002,51.5923,150.0,65.3019,150.0 M65.3038,150.0 C51.59219999999999,150.0,51.6538,174.9998,37.94409999999999,174.9998 M65.3038,150.0 L87.1884,150.0 M87.1884,150.0 C100.9,150.0,100.83840000000001,125.0002,114.5481,125.0002 M87.1884,150.0 C100.9,150.0,100.83840000000001,174.9998,114.5481,174.9998 M25.0,125.0 L38.0,125.0 M38.0019,174.9998 L25.0,174.9998 M112.6453,174.9998 L125.0,174.9998 M112.1944,124.9998 L125.0,124.9998\" stroke-width=\"1\" stroke=\"black\" stroke-linejoin=\"miter\" fill=\"none\" />\n",
       "<text x=\"75\" y=\"138\" font-size=\"7\" text-anchor=\"middle\" dy=\"0em\"></text>\n",
       "<path d=\"M97,153 L107,153 L107,163 L97,163 Z\" stroke=\"black\" fill=\"thistle\" stroke-linejoin=\"miter\" />\n",
       "<text x=\"102\" y=\"160\" font-size=\"6\" text-anchor=\"middle\" dy=\"0em\">Rx</text>\n",
       "<path d=\"M125,74.8 C145,75,155,125,175,125\" stroke-width=\"2\" stroke=\"white\" stroke-linejoin=\"miter\" fill=\"none\" />\n",
       "<path d=\"M125,75 C145,75,155,125,175,125\" stroke-width=\"1\" stroke=\"black\" stroke-linejoin=\"miter\" fill=\"none\" />\n",
       "<path d=\"M125,124.8 C145,125,155,75,175,75\" stroke-width=\"2\" stroke=\"white\" stroke-linejoin=\"miter\" fill=\"none\" />\n",
       "<path d=\"M125,125 C145,125,155,75,175,75\" stroke-width=\"1\" stroke=\"black\" stroke-linejoin=\"miter\" fill=\"none\" />\n",
       "<path d=\"M125,25 L175,25\" stroke=\"black\" stroke-width=\"1\" fill=\"none\" />\n",
       "<path d=\"M125,175 L175,175\" stroke=\"black\" stroke-width=\"1\" fill=\"none\" />\n",
       "<path d=\"M177,2 L473,2 L473,98 L177,98 Z\" stroke=\"black\" fill=\"lightblue\" stroke-dasharray=\"1,2\" stroke-linejoin=\"miter\" />\n",
       "<text x=\"179\" y=\"105\" font-size=\"8\" text-anchor=\"start\" dy=\"0em\">UPPER MZI</text>\n",
       "<path d=\"M175,25 L195,25 M205,25 L225,25\" stroke-width=\"1\" stroke=\"black\" stroke-linejoin=\"miter\" fill=\"none\" />\n",
       "<path d=\"M190,35 L210,35 L210,15 L190,15 L190,35\" stroke-width=\"1\" stroke=\"black\" stroke-linejoin=\"miter\" fill=\"lightgray\" />\n",
       "<text x=\"200\" y=\"44\" font-size=\"7\" text-anchor=\"middle\" dy=\"0em\">Φ=phi_0</text>\n",
       "<path d=\"M175,75 L225,75\" stroke=\"black\" stroke-width=\"1\" fill=\"none\" />\n",
       "<path d=\"M237.9442,25.0002 C251.6538,25.0002,251.5923,50.0,265.3019,50.0 M265.30379999999997,50.0 C251.59219999999996,50.0,251.65379999999996,74.9998,237.94409999999996,74.9998 M265.30379999999997,49.99999999999999 L287.18839999999994,49.99999999999999 M287.18839999999994,49.99999999999999 C300.9,49.99999999999999,300.8384,25.000199999999992,314.5481,25.000199999999992 M287.1884,49.99999999999999 C300.9,49.99999999999999,300.8384,74.9998,314.5481,74.9998 M224.99999999999997,24.999999999999993 L237.99999999999997,24.999999999999993 M238.00189999999998,74.9998 L224.99999999999997,74.9998 M312.64529999999996,74.9998 L324.99999999999994,74.9998 M312.1944,24.999799999999993 L325.0,24.999799999999993\" stroke-width=\"1\" stroke=\"black\" stroke-linejoin=\"miter\" fill=\"none\" />\n",
       "<text x=\"275\" y=\"38\" font-size=\"7\" text-anchor=\"middle\" dy=\"0em\"></text>\n",
       "<path d=\"M297,53 L307,53 L307,63 L297,63 Z\" stroke=\"black\" fill=\"thistle\" stroke-linejoin=\"miter\" />\n",
       "<text x=\"302\" y=\"60\" font-size=\"6\" text-anchor=\"middle\" dy=\"0em\">Rx</text>\n",
       "<path d=\"M325,25 L345,25 M355,25 L375,25\" stroke-width=\"1\" stroke=\"black\" stroke-linejoin=\"miter\" fill=\"none\" />\n",
       "<path d=\"M340,35 L360,35 L360,15 L340,15 L340,35\" stroke-width=\"1\" stroke=\"black\" stroke-linejoin=\"miter\" fill=\"lightgray\" />\n",
       "<text x=\"350\" y=\"44\" font-size=\"7\" text-anchor=\"middle\" dy=\"0em\">Φ=phi_2</text>\n",
       "<path d=\"M325,75 L375,75\" stroke=\"black\" stroke-width=\"1\" fill=\"none\" />\n",
       "<path d=\"M387.9442,25.0002 C401.65380000000005,25.0002,401.5923,50.0,415.30190000000005,50.0 M415.3038,50.0 C401.59220000000005,50.0,401.65380000000005,74.9998,387.94410000000005,74.9998 M415.3038,49.99999999999999 L437.1884,49.99999999999999 M437.1884,49.99999999999999 C450.9,49.99999999999999,450.8384,25.000199999999992,464.5481,25.000199999999992 M437.1884,49.99999999999999 C450.9,49.99999999999999,450.8384,74.9998,464.5481,74.9998 M375.0,24.999999999999993 L388.0,24.999999999999993 M388.0019,74.9998 L375.0,74.9998 M462.6453,74.9998 L475.0,74.9998 M462.1944,24.999799999999993 L475.0,24.999799999999993\" stroke-width=\"1\" stroke=\"black\" stroke-linejoin=\"miter\" fill=\"none\" />\n",
       "<text x=\"425\" y=\"38\" font-size=\"7\" text-anchor=\"middle\" dy=\"0em\"></text>\n",
       "<path d=\"M447,53 L457,53 L457,63 L447,63 Z\" stroke=\"black\" fill=\"thistle\" stroke-linejoin=\"miter\" />\n",
       "<text x=\"452\" y=\"60\" font-size=\"6\" text-anchor=\"middle\" dy=\"0em\">Rx</text>\n",
       "<path d=\"M177,102 L473,102 L473,198 L177,198 Z\" stroke=\"black\" fill=\"lightblue\" stroke-dasharray=\"1,2\" stroke-linejoin=\"miter\" />\n",
       "<text x=\"179\" y=\"205\" font-size=\"8\" text-anchor=\"start\" dy=\"0em\">LOWER MZI</text>\n",
       "<path d=\"M175,125 L195,125 M205,125 L225,125\" stroke-width=\"1\" stroke=\"black\" stroke-linejoin=\"miter\" fill=\"none\" />\n",
       "<path d=\"M190,135 L210,135 L210,115 L190,115 L190,135\" stroke-width=\"1\" stroke=\"black\" stroke-linejoin=\"miter\" fill=\"lightgray\" />\n",
       "<text x=\"200\" y=\"144\" font-size=\"7\" text-anchor=\"middle\" dy=\"0em\">Φ=phi_1</text>\n",
       "<path d=\"M175,175 L225,175\" stroke=\"black\" stroke-width=\"1\" fill=\"none\" />\n",
       "<path d=\"M237.9442,125.0002 C251.6538,125.0002,251.5923,150.0,265.3019,150.0 M265.30379999999997,150.0 C251.59219999999996,150.0,251.65379999999996,174.9998,237.94409999999996,174.9998 M265.30379999999997,150.0 L287.18839999999994,150.0 M287.18839999999994,150.0 C300.9,150.0,300.8384,125.0002,314.5481,125.0002 M287.1884,150.0 C300.9,150.0,300.8384,174.9998,314.5481,174.9998 M224.99999999999997,125.0 L237.99999999999997,125.0 M238.00189999999998,174.9998 L224.99999999999997,174.9998 M312.64529999999996,174.9998 L324.99999999999994,174.9998 M312.1944,124.9998 L325.0,124.9998\" stroke-width=\"1\" stroke=\"black\" stroke-linejoin=\"miter\" fill=\"none\" />\n",
       "<text x=\"275\" y=\"138\" font-size=\"7\" text-anchor=\"middle\" dy=\"0em\"></text>\n",
       "<path d=\"M297,153 L307,153 L307,163 L297,163 Z\" stroke=\"black\" fill=\"thistle\" stroke-linejoin=\"miter\" />\n",
       "<text x=\"302\" y=\"160\" font-size=\"6\" text-anchor=\"middle\" dy=\"0em\">Rx</text>\n",
       "<path d=\"M325,125 L345,125 M355,125 L375,125\" stroke-width=\"1\" stroke=\"black\" stroke-linejoin=\"miter\" fill=\"none\" />\n",
       "<path d=\"M340,135 L360,135 L360,115 L340,115 L340,135\" stroke-width=\"1\" stroke=\"black\" stroke-linejoin=\"miter\" fill=\"lightgray\" />\n",
       "<text x=\"350\" y=\"144\" font-size=\"7\" text-anchor=\"middle\" dy=\"0em\">Φ=phi_3</text>\n",
       "<path d=\"M325,175 L375,175\" stroke=\"black\" stroke-width=\"1\" fill=\"none\" />\n",
       "<path d=\"M387.9442,125.0002 C401.65380000000005,125.0002,401.5923,150.0,415.30190000000005,150.0 M415.3038,150.0 C401.59220000000005,150.0,401.65380000000005,174.9998,387.94410000000005,174.9998 M415.3038,150.0 L437.1884,150.0 M437.1884,150.0 C450.9,150.0,450.8384,125.0002,464.5481,125.0002 M437.1884,150.0 C450.9,150.0,450.8384,174.9998,464.5481,174.9998 M375.0,125.0 L388.0,125.0 M388.0019,174.9998 L375.0,174.9998 M462.6453,174.9998 L475.0,174.9998 M462.1944,124.9998 L475.0,124.9998\" stroke-width=\"1\" stroke=\"black\" stroke-linejoin=\"miter\" fill=\"none\" />\n",
       "<text x=\"425\" y=\"138\" font-size=\"7\" text-anchor=\"middle\" dy=\"0em\"></text>\n",
       "<path d=\"M447,153 L457,153 L457,163 L447,163 Z\" stroke=\"black\" fill=\"thistle\" stroke-linejoin=\"miter\" />\n",
       "<text x=\"452\" y=\"160\" font-size=\"6\" text-anchor=\"middle\" dy=\"0em\">Rx</text>\n",
       "<path d=\"M475,25 L490,25\" stroke-width=\"1\" stroke=\"black\" stroke-linejoin=\"miter\" fill=\"none\" />\n",
       "<path d=\"M475,75 L490,75\" stroke-width=\"1\" stroke=\"black\" stroke-linejoin=\"miter\" fill=\"none\" />\n",
       "<path d=\"M475,125 L490,125\" stroke-width=\"1\" stroke=\"black\" stroke-linejoin=\"miter\" fill=\"none\" />\n",
       "<path d=\"M475,175 L490,175\" stroke-width=\"1\" stroke=\"black\" stroke-linejoin=\"miter\" fill=\"none\" />\n",
       "<text x=\"500\" y=\"28\" font-size=\"6\" text-anchor=\"end\" dy=\"0em\">0</text>\n",
       "<text x=\"500\" y=\"78\" font-size=\"6\" text-anchor=\"end\" dy=\"0em\">1</text>\n",
       "<text x=\"500\" y=\"128\" font-size=\"6\" text-anchor=\"end\" dy=\"0em\">2</text>\n",
       "<text x=\"500\" y=\"178\" font-size=\"6\" text-anchor=\"end\" dy=\"0em\">3</text>\n",
       "<text x=\"0\" y=\"28\" font-size=\"6\" text-anchor=\"start\" dy=\"0em\">0</text>\n",
       "<text x=\"0\" y=\"78\" font-size=\"6\" text-anchor=\"start\" dy=\"0em\">1</text>\n",
       "<text x=\"0\" y=\"128\" font-size=\"6\" text-anchor=\"start\" dy=\"0em\">2</text>\n",
       "<text x=\"0\" y=\"178\" font-size=\"6\" text-anchor=\"start\" dy=\"0em\">3</text>\n",
       "</svg>"
      ],
      "text/plain": [
       "<drawSvg.drawing.Drawing at 0x139b0efd0>"
      ]
     },
     "execution_count": 102,
     "metadata": {},
     "output_type": "execute_result"
    }
   ],
   "source": [
    "## You can still display the inside of black boxes with:\n",
    "pcvl.pdisplay(chip, recursive=True)"
   ]
  },
  {
   "cell_type": "markdown",
   "id": "1bd8e2f0",
   "metadata": {},
   "source": [
    "# III. Simulation <a name=\"simulation\"></a>\n",
    "\n",
    "Up to this point, we have focused on creating circuits.\n",
    "It's time to learn how to sample from them or describe their output distribution, on many different inputs.\n",
    "\n"
   ]
  },
  {
   "cell_type": "markdown",
   "id": "190ae9ac",
   "metadata": {
    "jp-MarkdownHeadingCollapsed": true,
    "tags": []
   },
   "source": [
    "### Computing probabilities \n",
    "\n",
    "For this part, we will take the [Hong-Ou-Mandel](https://en.wikipedia.org/wiki/Hong%E2%80%93Ou%E2%80%93Mandel_effect) experience as an example.\n",
    "\n",
    "It's one of the simplest experiments and yet it is very useful.\n",
    "\n",
    "Making two indistinguishable photons, one in each mode, enter one balanced beamsplitter $BS=\\frac{1}{\\sqrt{2}} \\left[\\begin{matrix}1 & 1\\\\1& -1\\end{matrix}\\right]$, we expect the outcome to be:\n",
    "\n",
    "$$|1,1\\rangle \\mapsto \\frac{|2,0\\rangle - |0,2\\rangle}{\\sqrt{2}}  $$\n",
    "\n",
    "We will show how to verify this in the next steps using the Naive backend to recover the full probability distribution."
   ]
  },
  {
   "cell_type": "code",
   "execution_count": null,
   "id": "73e9230b",
   "metadata": {},
   "outputs": [
    {
     "data": {
      "text/plain": [
       "<perceval.components.linear_circuit.Circuit at 0x17bf85720>"
      ]
     },
     "execution_count": 35,
     "metadata": {},
     "output_type": "execute_result"
    }
   ],
   "source": [
    "## TO-DO: build the circuit with the convention above\n",
    "\n",
    "circuit= ...\n",
    "\n"
   ]
  },
  {
   "cell_type": "code",
   "execution_count": null,
   "id": "2818570a",
   "metadata": {},
   "outputs": [
    {
     "name": "stdout",
     "output_type": "stream",
     "text": [
      "0.7071067811865475j\n",
      "0.7071067811865475j\n",
      "0.4999999999999999\n"
     ]
    },
    {
     "data": {
      "text/html": [
       "<table>\n",
       "<thead>\n",
       "<tr><th>     </th><th style=\"text-align: right;\">  |1,1&gt;</th><th>|2,0&gt;  </th><th>|0,2&gt;  </th></tr>\n",
       "</thead>\n",
       "<tbody>\n",
       "<tr><td>|1,1&gt;</td><td style=\"text-align: right;\">      0</td><td>1/2    </td><td>1/2    </td></tr>\n",
       "</tbody>\n",
       "</table>"
      ],
      "text/plain": [
       "<IPython.core.display.HTML object>"
      ]
     },
     "metadata": {},
     "output_type": "display_data"
    }
   ],
   "source": [
    "# Syntax to compute the amplitudes\n",
    "backend = pcvl.BackendFactory.get_backend(\"Naive\") \n",
    "\n",
    "simulator = backend(circuit)\n",
    "print(simulator.probampli(pcvl.BasicState([1,1]), pcvl.BasicState([2,0])))  #note that it's the amplitude ! \n",
    "print(simulator.probampli(pcvl.BasicState([1,1]), pcvl.BasicState([0,2])))\n",
    "print(simulator.prob(pcvl.BasicState([1,1]), pcvl.BasicState([0,2])))\n",
    "\n",
    "\n",
    "\n",
    "## We can also use the Analyser module to have a table of probabilities \n",
    "p = pcvl.Processor(\"Naive\", BS())\n",
    "analyzer = pcvl.algorithm.Analyzer(p, [pcvl.BasicState([1,1])], '*')\n",
    "pcvl.pdisplay(analyzer)\n"
   ]
  },
  {
   "cell_type": "code",
   "execution_count": 47,
   "id": "fcf74970",
   "metadata": {},
   "outputs": [],
   "source": [
    "## TO-DO:  Choose a random unitary 3x3 U, and output the table probablities when the input |1,1,0> passes through the LO-Circuit of unitary U.\n",
    "\n",
    "\n"
   ]
  },
  {
   "cell_type": "markdown",
   "id": "cd69cf36",
   "metadata": {},
   "source": [
    "### Sampling \n",
    "\n",
    "Although it's crucial to compute the output distribution, it's not what we can expect from a photonic chip. Indeed, realistically, we only can obtain a single sample from the distribution each time we run the circuit. This can be done using the backend SLOS.\n",
    "\n"
   ]
  },
  {
   "cell_type": "code",
   "execution_count": 45,
   "id": "ab11d846",
   "metadata": {},
   "outputs": [
    {
     "name": "stdout",
     "output_type": "stream",
     "text": [
      "{\n",
      "  |2,0>: 501\n",
      "  |0,2>: 499\n",
      "}\n"
     ]
    }
   ],
   "source": [
    "p = pcvl.Processor(\"SLOS\", BS())\n",
    "p.with_input(pcvl.BasicState([1,1]))\n",
    "#p.set_postprocess()\n",
    "p.mode_post_selection(1)  # We accept that two photons get on the same mode (by default, these states are discarded)\n",
    "# The sampler holds 'probs', 'sample_count' and 'samples' calls. You can use the one that fits your needs!\n",
    "\n",
    "sampler = pcvl.algorithm.Sampler(p)  \n",
    "\n",
    "sample_count = sampler.sample_count(1000)\n",
    "print(sample_count['results'])\n"
   ]
  },
  {
   "cell_type": "code",
   "execution_count": 49,
   "id": "ecbaaa5f",
   "metadata": {},
   "outputs": [],
   "source": [
    "## TO-DO: implement the code to sample from the 3x3 Unitary of earlier\n",
    "\n",
    "\n",
    "\n",
    "\n",
    "## Question: how many states do we have for 3 modes and 2 photons?\n",
    "\n",
    "## Question : how many states do we have for m modes and n photons? \n",
    "\n",
    "## Question: how many samples are needed to approximate the distribution?"
   ]
  },
  {
   "cell_type": "markdown",
   "id": "58b02992",
   "metadata": {},
   "source": [
    "### Variational algorithm \n",
    "\n",
    "In variational algorithms, the samples from a quantum circuit allow us to approximate an expectation value, which is then used to determine the value of a loss function. This loss function is chosen such that minimising it yields a solution to a given problem. By changing the values of the parameters in our quantum circuit, we can search for this minimum.\n",
    "\n",
    "We won't go into the details of variational algorithms. However, it may be useful to see how to perform an optimisation with Perceval.\n",
    "\n",
    "We will use the library [scipy.optimise](https://docs.scipy.org/doc/scipy/reference/generated/scipy.optimize.minimize.html#scipy.optimize.minimize).\n",
    "\n",
    "The following code solves the problem of finding an LO-Circuit which, given a Fock State $|1,1,1\\rangle$, maximises the probability of outputting $|3,0,0\\rangle$.\n",
    "The solution below works for an arbitrary $n$."
   ]
  },
  {
   "cell_type": "code",
   "execution_count": 71,
   "id": "eaa4cab5",
   "metadata": {},
   "outputs": [],
   "source": [
    "from scipy import optimize\n",
    "\n",
    "\n",
    "## Data\n",
    "\n",
    "n=3\n",
    "input=pcvl.BasicState([1]*n)\n",
    "output_to_max=pcvl.BasicState([n]+[0]*(n-1))\n",
    "\n",
    "\n",
    "## TO-DO: implement a generic circuit of size n with parameters. Code the loss function to maximise the good output. Launch the optimisation procedure. Output the probability and circuit obtained\n",
    "\n",
    "circuit=None\n",
    "\n",
    "def loss_function(params):\n",
    "    return None\n",
    "\n",
    "\n",
    "params_init=[0]*(n**2)\n",
    "\n",
    "#o=optimize.minimize(loss_function,params_init,method=\"Powell\")\n",
    "#finale_params=o.X\n"
   ]
  },
  {
   "cell_type": "markdown",
   "id": "da30c4f6",
   "metadata": {},
   "source": [
    "Question:  what is therefore the maximal probability ?"
   ]
  },
  {
   "cell_type": "markdown",
   "id": "3a78cc87",
   "metadata": {},
   "source": [
    "### To go further : connect to a chip\n",
    "\n",
    "Perceval is also connected to real/physical chips.\n",
    "Here's the syntax to sample directly from them ! \n",
    "\n",
    "[Link for other notebook]()"
   ]
  },
  {
   "cell_type": "markdown",
   "id": "c7ada850",
   "metadata": {},
   "source": [
    "# Encoding Qubits <a name=\"encoding\"></a>"
   ]
  },
  {
   "cell_type": "markdown",
   "id": "e84fc736",
   "metadata": {},
   "source": [
    "### Path encoding\n",
    "\n",
    "To perform quantum computations using photons, we need an encoding: a correspondance between our Fock states and our qubit states.\n",
    "\n",
    "We therefore want to associate each qubit state with one of our Fock states.\n",
    "\n",
    "One natural way to encode qubits is the path encoding.\n",
    "A qubit is a two-level quantum state, so we will use two spatial modes to encode it.\n",
    "\n",
    "The logical qubit state $|0\\rangle_L$ will correspond to a photon in the upper mode, so the Fock state $|1,0\\rangle$, while $|1\\rangle_L$ will be encoded as $|0,1\\rangle$.\n",
    "\n",
    "\n",
    "We can extend this to multiple qubits by having twice as many modes as there are qubits. For example the $3$-qubit state $\\frac{1}{\\sqrt{2}}(|000\\rangle_L+|111\\rangle_L)$ can be encoded with $3$ photons and $3\\times 2=6$ modes :\n",
    "$\\frac{1}{\\sqrt{2}}(|1,0,1,0,1,0\\rangle+|0,1,0,1,0,1\\rangle)$"
   ]
  },
  {
   "cell_type": "markdown",
   "id": "4fbd0d6a",
   "metadata": {},
   "source": [
    "### Single-qubit gates\n",
    "\n",
    "Using the dual-rail enconding, single-qubit gates only deal with one photon and are straightforward. Can you give the LO-circuits for the gates below?"
   ]
  },
  {
   "cell_type": "markdown",
   "id": "9f1900e8",
   "metadata": {},
   "source": [
    "$$X=\\left[\\begin{matrix}0 & 1\\\\1& 0\\end{matrix}\\right]$$\n",
    "$$Y=\\left[\\begin{matrix}0 & -i\\\\i& 0\\end{matrix}\\right]$$\n",
    "$$Z=\\left[\\begin{matrix}1 & 0\\\\0& -1\\end{matrix}\\right]$$\n",
    "$$H=\\frac{1}{\\sqrt{2}} \\left[\\begin{matrix}1 & 1\\\\1& -1\\end{matrix}\\right]$$\n",
    "\n",
    "$$R_X=\\left[\\begin{matrix}\\cos{\\left(\\frac{\\theta}{2} \\right)} & -i \\sin{\\left(\\frac{\\theta}{2} \\right)}\\\\-i \\sin{\\left(\\frac{\\theta}{2} \\right)} & \\cos{\\left(\\frac{\\theta}{2} \\right)}\\end{matrix}\\right]$$\n",
    "\n",
    "$$R_Y=\\left[\\begin{matrix}\\cos{\\left(\\frac{\\theta}{2} \\right)} & - \\sin{\\left(\\frac{\\theta}{2} \\right)}\\\\ \\sin{\\left(\\frac{\\theta}{2} \\right)} & \\cos{\\left(\\frac{\\theta}{2} \\right)}\\end{matrix}\\right]$$\n",
    "\n",
    "$$R_Z=\\left[\\begin{matrix}e^{-i\\frac{\\theta}{2}} & 0 \\\\ 0 & e^{i\\frac{\\theta}{2}}\\end{matrix}\\right]$$"
   ]
  },
  {
   "cell_type": "code",
   "execution_count": 46,
   "id": "626771f0",
   "metadata": {},
   "outputs": [],
   "source": [
    "## TO-DO: find the LO-circuits for each gate"
   ]
  },
  {
   "cell_type": "markdown",
   "id": "26b5af58",
   "metadata": {},
   "source": [
    "### Two-qubit gates\n",
    "\n",
    "On the other hand, in dual-rail encoding, it can be shown that two-qubit gates can't be deterministic, and have a probability to fail.\n",
    "\n",
    "There are two ways to detect that failure:\n",
    "\n",
    "- We can use additional photons called ancillas, which we can measure independently from the main circuit photons. Depending on the state obtained on the ancilla, we know whether the gate has succeeded or not on the main qubits. Those gates will be called heralded.\n",
    "- We can also directly measure the main circuit qubits, and depending on the result, assess whether the gate has succeeded or not. Those gates will be called postselected.\n",
    "\n",
    "The CNOT gate acts on two qubits, a control and a target, and flips the value of the target if the control qubit is in state $|1\\rangle_L$. In the following two exercices, we will see the two types of CNOT gates: \n",
    "- the postselected CNOT of [Ralph et al.](https://arxiv.org/abs/quant-ph/0112088)\n",
    "- the heralded CNOT of the [KLM protocol](https://arxiv.org/abs/quant-ph/0006088)"
   ]
  },
  {
   "cell_type": "code",
   "execution_count": 39,
   "id": "4b308e53",
   "metadata": {},
   "outputs": [
    {
     "name": "stdout",
     "output_type": "stream",
     "text": [
      "['heralded cnot', 'postprocessed cnot', 'generic 2 mode circuit']\n"
     ]
    }
   ],
   "source": [
    "## We introduce the component catalog. It contains both CNOT gates.\n",
    "from perceval.components import catalog\n",
    "print(catalog.list())\n"
   ]
  },
  {
   "cell_type": "code",
   "execution_count": 42,
   "id": "09d7d85f",
   "metadata": {},
   "outputs": [
    {
     "name": "stdout",
     "output_type": "stream",
     "text": [
      "POSTPROCESSED CNOT DOCUMENTATION\n",
      "---------------------------------\n",
      "\n",
      "CNOT gate with 2 heralded modes and a post-processing function\n",
      "\n",
      "Scientific article reference: https://journals.aps.org/pra/abstract/10.1103/PhysRevA.65.062324\n",
      "\n",
      "Schema:\n",
      "                      ╭─────╮\n",
      "data (dual rail) ─────┤     ├───── data (dual rail)\n",
      "                 ─────┤     ├─────\n",
      "                      │     │\n",
      "ctrl (dual rail) ─────┤     ├───── ctrl (dual rail)\n",
      "                 ─────┤     ├─────\n",
      "                      ╰─────╯\n",
      "\n",
      "2\n"
     ]
    },
    {
     "data": {
      "image/svg+xml": [
       "<?xml version=\"1.0\" encoding=\"UTF-8\"?>\n",
       "<svg xmlns=\"http://www.w3.org/2000/svg\" xmlns:xlink=\"http://www.w3.org/1999/xlink\"\n",
       "     width=\"703.125\" height=\"546.875\" viewBox=\"-90.0 0 450 350\">\n",
       "<defs>\n",
       "</defs>\n",
       "<path d=\"M10,75 L25,75\" stroke-width=\"1\" stroke=\"black\" stroke-linejoin=\"miter\" fill=\"none\" />\n",
       "<path d=\"M10,125 L25,125\" stroke-width=\"1\" stroke=\"black\" stroke-linejoin=\"miter\" fill=\"none\" />\n",
       "<path d=\"M10,175 L25,175\" stroke-width=\"1\" stroke=\"black\" stroke-linejoin=\"miter\" fill=\"none\" />\n",
       "<path d=\"M10,225 L25,225\" stroke-width=\"1\" stroke=\"black\" stroke-linejoin=\"miter\" fill=\"none\" />\n",
       "<path d=\"M27,2 L323,2 L323,298 L27,298 Z\" stroke=\"black\" fill=\"lightblue\" stroke-dasharray=\"1,2\" stroke-linejoin=\"miter\" />\n",
       "<text x=\"29\" y=\"305\" font-size=\"8\" text-anchor=\"start\" dy=\"0em\">POSTPROCESSED CNOT</text>\n",
       "<path d=\"M37.9442,25.0002 C51.653800000000004,25.0002,51.5923,50.0,65.3019,50.0 M65.3038,50.0 C51.59219999999999,50.0,51.6538,74.9998,37.94409999999999,74.9998 M65.3038,49.99999999999999 L87.1884,49.99999999999999 M87.1884,49.99999999999999 C100.9,49.99999999999999,100.83840000000001,25.000199999999992,114.5481,25.000199999999992 M87.1884,49.99999999999999 C100.9,49.99999999999999,100.83840000000001,74.9998,114.5481,74.9998 M25.0,24.999999999999993 L38.0,24.999999999999993 M38.0019,74.9998 L25.0,74.9998 M112.6453,74.9998 L125.0,74.9998 M112.1944,24.999799999999993 L125.0,24.999799999999993\" stroke-width=\"1\" stroke=\"black\" stroke-linejoin=\"miter\" fill=\"none\" />\n",
       "<text x=\"75\" y=\"38\" font-size=\"7\" text-anchor=\"middle\"><tspan x=\"75\" dy=\"0em\">Θ=1.910633</tspan><tspan x=\"75\" dy=\"1em\">Φ_tl=3*pi/2</tspan><tspan x=\"75\" dy=\"1em\">Φ_bl=pi</tspan><tspan x=\"75\" dy=\"1em\">Φ_tr=pi/2</tspan></text>\n",
       "<path d=\"M97,53 L107,53 L107,63 L97,63 Z\" stroke=\"black\" fill=\"aquamarine\" stroke-linejoin=\"miter\" />\n",
       "<text x=\"102\" y=\"60\" font-size=\"6\" text-anchor=\"middle\" dy=\"0em\">H</text>\n",
       "<path d=\"M37.9442,175.0002 C51.653800000000004,175.0002,51.5923,200.0,65.3019,200.0 M65.3038,200.0 C51.59219999999999,200.0,51.6538,224.9998,37.94409999999999,224.9998 M65.3038,200.0 L87.1884,200.0 M87.1884,200.0 C100.9,200.0,100.83840000000001,175.0002,114.5481,175.0002 M87.1884,200.0 C100.9,200.0,100.83840000000001,224.9998,114.5481,224.9998 M25.0,175.0 L38.0,175.0 M38.0019,224.9998 L25.0,224.9998 M112.6453,224.9998 L125.0,224.9998 M112.1944,174.9998 L125.0,174.9998\" stroke-width=\"1\" stroke=\"black\" stroke-linejoin=\"miter\" fill=\"none\" />\n",
       "<text x=\"75\" y=\"188\" font-size=\"7\" text-anchor=\"middle\" dy=\"0em\"></text>\n",
       "<path d=\"M97,203 L107,203 L107,213 L97,213 Z\" stroke=\"black\" fill=\"aquamarine\" stroke-linejoin=\"miter\" />\n",
       "<text x=\"102\" y=\"210\" font-size=\"6\" text-anchor=\"middle\" dy=\"0em\">H</text>\n",
       "<path d=\"M25,125 L125,125\" stroke=\"black\" stroke-width=\"1\" fill=\"none\" />\n",
       "<path d=\"M137.9442,125.0002 C151.6538,125.0002,151.5923,150.0,165.3019,150.0 M165.3038,150.0 C151.5922,150.0,151.6538,174.9998,137.9441,174.9998 M165.3038,150.0 L187.1884,150.0 M187.1884,150.0 C200.9,150.0,200.8384,125.0002,214.5481,125.0002 M187.1884,150.0 C200.9,150.0,200.8384,174.9998,214.5481,174.9998 M125.0,125.0 L138.0,125.0 M138.0019,174.9998 L125.0,174.9998 M212.64530000000002,174.9998 L225.0,174.9998 M212.1944,124.9998 L225.0,124.9998\" stroke-width=\"1\" stroke=\"black\" stroke-linejoin=\"miter\" fill=\"none\" />\n",
       "<text x=\"175\" y=\"138\" font-size=\"7\" text-anchor=\"middle\"><tspan x=\"175\" dy=\"0em\">Θ=1.910633</tspan><tspan x=\"175\" dy=\"1em\">Φ_tl=3*pi/2</tspan><tspan x=\"175\" dy=\"1em\">Φ_bl=pi</tspan><tspan x=\"175\" dy=\"1em\">Φ_tr=pi/2</tspan></text>\n",
       "<path d=\"M197,153 L207,153 L207,163 L197,163 Z\" stroke=\"black\" fill=\"aquamarine\" stroke-linejoin=\"miter\" />\n",
       "<text x=\"202\" y=\"160\" font-size=\"6\" text-anchor=\"middle\" dy=\"0em\">H</text>\n",
       "<path d=\"M137.9442,225.0002 C151.6538,225.0002,151.5923,250.0,165.3019,250.0 M165.3038,250.0 C151.5922,250.0,151.6538,274.9998,137.9441,274.9998 M165.3038,250.0 L187.1884,250.0 M187.1884,250.0 C200.9,250.0,200.8384,225.0002,214.5481,225.0002 M187.1884,250.0 C200.9,250.0,200.8384,274.9998,214.5481,274.9998 M125.0,225.0 L138.0,225.0 M138.0019,274.9998 L125.0,274.9998 M212.64530000000002,274.9998 L225.0,274.9998 M212.1944,224.9998 L225.0,224.9998\" stroke-width=\"1\" stroke=\"black\" stroke-linejoin=\"miter\" fill=\"none\" />\n",
       "<text x=\"175\" y=\"238\" font-size=\"7\" text-anchor=\"middle\" dy=\"0em\">Θ=1.910633</text>\n",
       "<path d=\"M197,253 L207,253 L207,263 L197,263 Z\" stroke=\"black\" fill=\"aquamarine\" stroke-linejoin=\"miter\" />\n",
       "<text x=\"202\" y=\"260\" font-size=\"6\" text-anchor=\"middle\" dy=\"0em\">H</text>\n",
       "<path d=\"M237.9442,175.0002 C251.6538,175.0002,251.5923,200.0,265.3019,200.0 M265.30379999999997,200.0 C251.59219999999996,200.0,251.65379999999996,224.9998,237.94409999999996,224.9998 M265.30379999999997,200.0 L287.18839999999994,200.0 M287.18839999999994,200.0 C300.9,200.0,300.8384,175.0002,314.5481,175.0002 M287.1884,200.0 C300.9,200.0,300.8384,224.9998,314.5481,224.9998 M224.99999999999997,175.0 L237.99999999999997,175.0 M238.00189999999998,224.9998 L224.99999999999997,224.9998 M312.64529999999996,224.9998 L324.99999999999994,224.9998 M312.1944,174.9998 L325.0,174.9998\" stroke-width=\"1\" stroke=\"black\" stroke-linejoin=\"miter\" fill=\"none\" />\n",
       "<text x=\"275\" y=\"188\" font-size=\"7\" text-anchor=\"middle\" dy=\"0em\"></text>\n",
       "<path d=\"M297,203 L307,203 L307,213 L297,213 Z\" stroke=\"black\" fill=\"aquamarine\" stroke-linejoin=\"miter\" />\n",
       "<text x=\"302\" y=\"210\" font-size=\"6\" text-anchor=\"middle\" dy=\"0em\">H</text>\n",
       "<path d=\"M125,75 L325,75\" stroke=\"black\" stroke-width=\"1\" fill=\"none\" />\n",
       "<path d=\"M225,125 L325,125\" stroke=\"black\" stroke-width=\"1\" fill=\"none\" />\n",
       "<path d=\"M325,75 L340,75\" stroke-width=\"1\" stroke=\"black\" stroke-linejoin=\"miter\" fill=\"none\" />\n",
       "<path d=\"M325,125 L340,125\" stroke-width=\"1\" stroke=\"black\" stroke-linejoin=\"miter\" fill=\"none\" />\n",
       "<path d=\"M325,175 L340,175\" stroke-width=\"1\" stroke=\"black\" stroke-linejoin=\"miter\" fill=\"none\" />\n",
       "<path d=\"M325,225 L340,225\" stroke-width=\"1\" stroke=\"black\" stroke-linejoin=\"miter\" fill=\"none\" />\n",
       "<path d=\"M7,25 C7,25,7,15,17,15 L25,15 L25,35 L17,35 C7,35,7,25,7,25 L7,25\" stroke-width=\"1\" stroke=\"black\" stroke-linejoin=\"miter\" fill=\"white\" />\n",
       "<text x=\"13\" y=\"41\" font-size=\"6\" text-anchor=\"middle\" font-style=\"italic\" dy=\"0em\">[herald0]</text>\n",
       "<text x=\"17\" y=\"28\" font-size=\"7\" text-anchor=\"middle\" dy=\"0em\">0</text>\n",
       "<path d=\"M-2,65 L10,65 L10,135 L-2,135 Z\" stroke=\"black\" fill=\"white\" stroke-linejoin=\"miter\" />\n",
       "<text x=\"4\" y=\"77\" font-size=\"7\" text-anchor=\"middle\" dy=\"0em\">1</text>\n",
       "<text x=\"4\" y=\"127\" font-size=\"7\" text-anchor=\"middle\" dy=\"0em\">2</text>\n",
       "<text x=\"-2\" y=\"141\" font-size=\"6\" text-anchor=\"start\" font-style=\"italic\" dy=\"0em\">[data]</text>\n",
       "<path d=\"M-2,165 L10,165 L10,235 L-2,235 Z\" stroke=\"black\" fill=\"white\" stroke-linejoin=\"miter\" />\n",
       "<text x=\"4\" y=\"177\" font-size=\"7\" text-anchor=\"middle\" dy=\"0em\">3</text>\n",
       "<text x=\"4\" y=\"227\" font-size=\"7\" text-anchor=\"middle\" dy=\"0em\">4</text>\n",
       "<text x=\"-2\" y=\"241\" font-size=\"6\" text-anchor=\"start\" font-style=\"italic\" dy=\"0em\">[ctrl]</text>\n",
       "<path d=\"M107,275 C107,275,107,265,117,265 L125,265 L125,285 L117,285 C107,285,107,275,107,275 L107,275\" stroke-width=\"1\" stroke=\"black\" stroke-linejoin=\"miter\" fill=\"white\" />\n",
       "<text x=\"113\" y=\"291\" font-size=\"6\" text-anchor=\"middle\" font-style=\"italic\" dy=\"0em\">[herald1]</text>\n",
       "<text x=\"117\" y=\"278\" font-size=\"7\" text-anchor=\"middle\" dy=\"0em\">0</text>\n",
       "<path d=\"M133,35 L125,35 L125,15 L133,15 C133,15,143,15,143,25 C143,35,133,35,133,35 L133,35\" stroke-width=\"1\" stroke=\"black\" stroke-linejoin=\"miter\" fill=\"white\" />\n",
       "<text x=\"138\" y=\"41\" font-size=\"6\" text-anchor=\"middle\" font-style=\"italic\" dy=\"0em\">[herald0]</text>\n",
       "<text x=\"133\" y=\"28\" font-size=\"7\" text-anchor=\"middle\" dy=\"0em\">0</text>\n",
       "<path d=\"M340,65 L352,65 L352,135 L340,135 Z\" stroke=\"black\" fill=\"white\" stroke-linejoin=\"miter\" />\n",
       "<text x=\"346\" y=\"77\" font-size=\"7\" text-anchor=\"middle\" dy=\"0em\">1</text>\n",
       "<text x=\"346\" y=\"127\" font-size=\"7\" text-anchor=\"middle\" dy=\"0em\">2</text>\n",
       "<text x=\"352\" y=\"141\" font-size=\"6\" text-anchor=\"end\" font-style=\"italic\" dy=\"0em\">[data]</text>\n",
       "<path d=\"M340,165 L352,165 L352,235 L340,235 Z\" stroke=\"black\" fill=\"white\" stroke-linejoin=\"miter\" />\n",
       "<text x=\"346\" y=\"177\" font-size=\"7\" text-anchor=\"middle\" dy=\"0em\">3</text>\n",
       "<text x=\"346\" y=\"227\" font-size=\"7\" text-anchor=\"middle\" dy=\"0em\">4</text>\n",
       "<text x=\"352\" y=\"241\" font-size=\"6\" text-anchor=\"end\" font-style=\"italic\" dy=\"0em\">[ctrl]</text>\n",
       "<path d=\"M233,285 L225,285 L225,265 L233,265 C233,265,243,265,243,275 C243,285,233,285,233,285 L233,285\" stroke-width=\"1\" stroke=\"black\" stroke-linejoin=\"miter\" fill=\"white\" />\n",
       "<text x=\"238\" y=\"291\" font-size=\"6\" text-anchor=\"middle\" font-style=\"italic\" dy=\"0em\">[herald1]</text>\n",
       "<text x=\"233\" y=\"278\" font-size=\"7\" text-anchor=\"middle\" dy=\"0em\">0</text>\n",
       "</svg>"
      ],
      "text/plain": [
       "<drawSvg.drawing.Drawing at 0x17bfe51b0>"
      ]
     },
     "execution_count": 42,
     "metadata": {},
     "output_type": "execute_result"
    }
   ],
   "source": [
    "## Ralph's et al. CNot\n",
    "\n",
    "print(catalog['postprocessed cnot'].doc)\n",
    "ralph_cnot = catalog['postprocessed cnot'].as_processor().build()\n",
    "## You can set its input state with a LogicalState\n",
    "ralph_cnot.with_input(pcvl.BasicState([0, 1, 1, 0]))\n",
    "\n",
    "print(ralph_cnot._min_mode_post_select)\n",
    "\n",
    "pcvl.pdisplay(ralph_cnot, recursive=True, render_size=1.25)"
   ]
  },
  {
   "cell_type": "code",
   "execution_count": 41,
   "id": "d43cb704",
   "metadata": {},
   "outputs": [
    {
     "name": "stdout",
     "output_type": "stream",
     "text": [
      "{\n",
      "  |0,1,0,1>: 1\n",
      "}\n",
      "Some output states were not selected because of heralds and post-processing => you can check the logical performance\n",
      "Logical performance =  0.19999999999999996\n",
      "With an imperfect source:\n",
      "[|1,0,1,0>, |1,0,1,0>, |1,0,1,0>, |1,0,1,0>, |1,0,1,0>, |1,0,1,0>, |1,0,1,0>, |1,0,1,0>, |1,0,1,0>, |1,0,1,0>]\n",
      "Here logical performance has not changed, however, the physical performance has dropped:\n",
      "Logical performance (imperfect source) = 0.11111111111111105\n",
      "Physical performance (imperfect source) = 0.09000000000000005\n",
      "vs (perfect source) = 0.5555555555555554\n"
     ]
    }
   ],
   "source": [
    "## You can sample some output states\n",
    "cnot_sampler = pcvl.algorithm.Sampler(ralph_cnot)\n",
    "samples = cnot_sampler.probs()\n",
    "print(samples['results'])\n",
    "print(\"Some output states were not selected because of heralds and post-processing => you can check the logical performance\")\n",
    "print(\"Logical performance = \", samples['logical_perf'])\n",
    "\n",
    "## You can use a non-perfect photon source too:\n",
    "print(\"With an imperfect source:\")\n",
    "p_imperfect_source = pcvl.Processor(\"SLOS\", 4, source=pcvl.Source(brightness=0.3))\n",
    "p_imperfect_source.add(0, catalog['postprocessed cnot'].as_processor().build())\n",
    "p_imperfect_source.with_input(pcvl.BasicState([1, 0, 1, 0]))\n",
    "cnot_sampler_imperfect_source = pcvl.algorithm.Sampler(p_imperfect_source)\n",
    "samples_imperfect_source = cnot_sampler_imperfect_source.samples(10)\n",
    "\n",
    "print(samples_imperfect_source['results'])\n",
    "print(\"Here logical performance has not changed, however, the physical performance has dropped:\")\n",
    "print(\"Logical performance (imperfect source) =\", samples_imperfect_source['logical_perf'])\n",
    "print(\"Physical performance (imperfect source) =\", samples_imperfect_source['physical_perf'])\n",
    "print(\"vs (perfect source) =\", samples['physical_perf'])"
   ]
  },
  {
   "cell_type": "code",
   "execution_count": 67,
   "id": "1e407529",
   "metadata": {},
   "outputs": [],
   "source": [
    "## TO-DO: Check/Convince yourself that the circuit above is performing a CNOT in the dual rail encoding"
   ]
  },
  {
   "cell_type": "code",
   "execution_count": 47,
   "id": "4bdaa735",
   "metadata": {},
   "outputs": [
    {
     "name": "stdout",
     "output_type": "stream",
     "text": [
      "HERALDED CNOT DOCUMENTATION\n",
      "----------------------------\n",
      "\n",
      "CNOT gate with 4 heralded modes\n",
      "\n",
      "Scientific article reference: https://doi.org/10.1073/pnas.1018839108\n",
      "\n",
      "Schema:\n",
      "                      ╭─────╮\n",
      "data (dual rail) ─────┤     ├───── data (dual rail)\n",
      "                 ─────┤     ├─────\n",
      "                      │     │\n",
      "ctrl (dual rail) ─────┤     ├───── ctrl (dual rail)\n",
      "                 ─────┤     ├─────\n",
      "                      ╰─────╯\n",
      "\n"
     ]
    },
    {
     "data": {
      "image/svg+xml": [
       "<?xml version=\"1.0\" encoding=\"UTF-8\"?>\n",
       "<svg xmlns=\"http://www.w3.org/2000/svg\" xmlns:xlink=\"http://www.w3.org/1999/xlink\"\n",
       "     width=\"1062.5\" height=\"562.5\" viewBox=\"-48.0 0 850 450\">\n",
       "<defs>\n",
       "</defs>\n",
       "<path d=\"M10,125 L25,125\" stroke-width=\"1\" stroke=\"black\" stroke-linejoin=\"miter\" fill=\"none\" />\n",
       "<path d=\"M10,175 L25,175\" stroke-width=\"1\" stroke=\"black\" stroke-linejoin=\"miter\" fill=\"none\" />\n",
       "<path d=\"M10,225 L25,225\" stroke-width=\"1\" stroke=\"black\" stroke-linejoin=\"miter\" fill=\"none\" />\n",
       "<path d=\"M10,275 L25,275\" stroke-width=\"1\" stroke=\"black\" stroke-linejoin=\"miter\" fill=\"none\" />\n",
       "<path d=\"M27,2 L723,2 L723,398 L27,398 Z\" stroke=\"black\" fill=\"lightblue\" stroke-dasharray=\"1,2\" stroke-linejoin=\"miter\" />\n",
       "<text x=\"29\" y=\"405\" font-size=\"8\" text-anchor=\"start\" dy=\"0em\">HERALDED CNOT</text>\n",
       "<path d=\"M25,124.8 C45,125,55,25,75,25\" stroke-width=\"2\" stroke=\"white\" stroke-linejoin=\"miter\" fill=\"none\" />\n",
       "<path d=\"M25,125 C45,125,55,25,75,25\" stroke-width=\"1\" stroke=\"black\" stroke-linejoin=\"miter\" fill=\"none\" />\n",
       "<path d=\"M37.9442,225.0002 C51.653800000000004,225.0002,51.5923,250.0,65.3019,250.0 M65.3038,250.0 C51.59219999999999,250.0,51.6538,274.9998,37.94409999999999,274.9998 M65.3038,250.0 L87.1884,250.0 M87.1884,250.0 C100.9,250.0,100.83840000000001,225.0002,114.5481,225.0002 M87.1884,250.0 C100.9,250.0,100.83840000000001,274.9998,114.5481,274.9998 M25.0,225.0 L38.0,225.0 M38.0019,274.9998 L25.0,274.9998 M112.6453,274.9998 L125.0,274.9998 M112.1944,224.9998 L125.0,224.9998\" stroke-width=\"1\" stroke=\"black\" stroke-linejoin=\"miter\" fill=\"none\" />\n",
       "<text x=\"75\" y=\"238\" font-size=\"7\" text-anchor=\"middle\" dy=\"0em\"></text>\n",
       "<path d=\"M97,253 L107,253 L107,263 L97,263 Z\" stroke=\"black\" fill=\"aquamarine\" stroke-linejoin=\"miter\" />\n",
       "<text x=\"102\" y=\"260\" font-size=\"6\" text-anchor=\"middle\" dy=\"0em\">H</text>\n",
       "<path d=\"M125,274.8 C145,275,155,325,175,325\" stroke-width=\"2\" stroke=\"white\" stroke-linejoin=\"miter\" fill=\"none\" />\n",
       "<path d=\"M125,275 C145,275,155,325,175,325\" stroke-width=\"1\" stroke=\"black\" stroke-linejoin=\"miter\" fill=\"none\" />\n",
       "<path d=\"M25,175 L125,175\" stroke=\"black\" stroke-width=\"1\" fill=\"none\" />\n",
       "<path d=\"M137.9442,175.0002 C151.6538,175.0002,151.5923,200.0,165.3019,200.0 M165.3038,200.0 C151.5922,200.0,151.6538,224.9998,137.9441,224.9998 M165.3038,200.0 L187.1884,200.0 M187.1884,200.0 C200.9,200.0,200.8384,175.0002,214.5481,175.0002 M187.1884,200.0 C200.9,200.0,200.8384,224.9998,214.5481,224.9998 M125.0,175.0 L138.0,175.0 M138.0019,224.9998 L125.0,224.9998 M212.64530000000002,224.9998 L225.0,224.9998 M212.1944,174.9998 L225.0,174.9998\" stroke-width=\"1\" stroke=\"black\" stroke-linejoin=\"miter\" fill=\"none\" />\n",
       "<text x=\"175\" y=\"188\" font-size=\"7\" text-anchor=\"middle\" dy=\"0em\"></text>\n",
       "<path d=\"M197,203 L207,203 L207,213 L197,213 Z\" stroke=\"black\" fill=\"aquamarine\" stroke-linejoin=\"miter\" />\n",
       "<text x=\"202\" y=\"210\" font-size=\"6\" text-anchor=\"middle\" dy=\"0em\">H</text>\n",
       "<path d=\"M237.9442,125.0002 C251.6538,125.0002,251.5923,150.0,265.3019,150.0 M265.30379999999997,150.0 C251.59219999999996,150.0,251.65379999999996,174.9998,237.94409999999996,174.9998 M265.30379999999997,150.0 L287.18839999999994,150.0 M287.18839999999994,150.0 C300.9,150.0,300.8384,125.0002,314.5481,125.0002 M287.1884,150.0 C300.9,150.0,300.8384,174.9998,314.5481,174.9998 M224.99999999999997,125.0 L237.99999999999997,125.0 M238.00189999999998,174.9998 L224.99999999999997,174.9998 M312.64529999999996,174.9998 L324.99999999999994,174.9998 M312.1944,124.9998 L325.0,124.9998\" stroke-width=\"1\" stroke=\"black\" stroke-linejoin=\"miter\" fill=\"none\" />\n",
       "<text x=\"275\" y=\"138\" font-size=\"7\" text-anchor=\"middle\"><tspan x=\"275\" dy=\"0em\">Θ=2.145993</tspan><tspan x=\"275\" dy=\"1em\">Φ_tl=3*pi/2</tspan><tspan x=\"275\" dy=\"1em\">Φ_bl=pi</tspan><tspan x=\"275\" dy=\"1em\">Φ_tr=pi/2</tspan></text>\n",
       "<path d=\"M297,153 L307,153 L307,163 L297,163 Z\" stroke=\"black\" fill=\"aquamarine\" stroke-linejoin=\"miter\" />\n",
       "<text x=\"302\" y=\"160\" font-size=\"6\" text-anchor=\"middle\" dy=\"0em\">H</text>\n",
       "<path d=\"M237.9442,225.0002 C251.6538,225.0002,251.5923,250.0,265.3019,250.0 M265.30379999999997,250.0 C251.59219999999996,250.0,251.65379999999996,274.9998,237.94409999999996,274.9998 M265.30379999999997,250.0 L287.18839999999994,250.0 M287.18839999999994,250.0 C300.9,250.0,300.8384,225.0002,314.5481,225.0002 M287.1884,250.0 C300.9,250.0,300.8384,274.9998,314.5481,274.9998 M224.99999999999997,225.0 L237.99999999999997,225.0 M238.00189999999998,274.9998 L224.99999999999997,274.9998 M312.64529999999996,274.9998 L324.99999999999994,274.9998 M312.1944,224.9998 L325.0,224.9998\" stroke-width=\"1\" stroke=\"black\" stroke-linejoin=\"miter\" fill=\"none\" />\n",
       "<text x=\"275\" y=\"238\" font-size=\"7\" text-anchor=\"middle\" dy=\"0em\">Θ=2.145993</text>\n",
       "<path d=\"M297,253 L307,253 L307,263 L297,263 Z\" stroke=\"black\" fill=\"aquamarine\" stroke-linejoin=\"miter\" />\n",
       "<text x=\"302\" y=\"260\" font-size=\"6\" text-anchor=\"middle\" dy=\"0em\">H</text>\n",
       "<path d=\"M337.9442,175.0002 C351.65380000000005,175.0002,351.5923,200.0,365.30190000000005,200.0 M365.3038,200.0 C351.59220000000005,200.0,351.65380000000005,224.9998,337.94410000000005,224.9998 M365.3038,200.0 L387.1884,200.0 M387.1884,200.0 C400.9,200.0,400.8384,175.0002,414.5481,175.0002 M387.1884,200.0 C400.9,200.0,400.8384,224.9998,414.5481,224.9998 M325.0,175.0 L338.0,175.0 M338.0019,224.9998 L325.0,224.9998 M412.6453,224.9998 L425.0,224.9998 M412.1944,174.9998 L425.0,174.9998\" stroke-width=\"1\" stroke=\"black\" stroke-linejoin=\"miter\" fill=\"none\" />\n",
       "<text x=\"375\" y=\"188\" font-size=\"7\" text-anchor=\"middle\" dy=\"0em\"></text>\n",
       "<path d=\"M397,203 L407,203 L407,213 L397,213 Z\" stroke=\"black\" fill=\"aquamarine\" stroke-linejoin=\"miter\" />\n",
       "<text x=\"402\" y=\"210\" font-size=\"6\" text-anchor=\"middle\" dy=\"0em\">H</text>\n",
       "<path d=\"M175,325 L325,325\" stroke=\"black\" stroke-width=\"1\" fill=\"none\" />\n",
       "<path d=\"M325,324.8 C345,325,355,325,375,325\" stroke-width=\"2\" stroke=\"white\" stroke-linejoin=\"miter\" fill=\"none\" />\n",
       "<path d=\"M325,325 C345,325,355,325,375,325\" stroke-width=\"1\" stroke=\"black\" stroke-linejoin=\"miter\" fill=\"none\" />\n",
       "<path d=\"M437.9442,125.0002 C451.65380000000005,125.0002,451.5923,150.0,465.30190000000005,150.0 M465.3038,150.0 C451.59220000000005,150.0,451.65380000000005,174.9998,437.94410000000005,174.9998 M465.3038,150.0 L487.1884,150.0 M487.1884,150.0 C500.9,150.0,500.8384,125.0002,514.5481,125.0002 M487.1884,150.0 C500.9,150.0,500.8384,174.9998,514.5481,174.9998 M425.0,125.0 L438.0,125.0 M438.0019,174.9998 L425.0,174.9998 M512.6453,174.9998 L525.0,174.9998 M512.1944,124.9998 L525.0,124.9998\" stroke-width=\"1\" stroke=\"black\" stroke-linejoin=\"miter\" fill=\"none\" />\n",
       "<text x=\"475\" y=\"138\" font-size=\"7\" text-anchor=\"middle\" dy=\"0em\">Θ=1.028622</text>\n",
       "<path d=\"M497,153 L507,153 L507,163 L497,163 Z\" stroke=\"black\" fill=\"aquamarine\" stroke-linejoin=\"miter\" />\n",
       "<text x=\"502\" y=\"160\" font-size=\"6\" text-anchor=\"middle\" dy=\"0em\">H</text>\n",
       "<path d=\"M437.9442,225.0002 C451.65380000000005,225.0002,451.5923,250.0,465.30190000000005,250.0 M465.3038,250.0 C451.59220000000005,250.0,451.65380000000005,274.9998,437.94410000000005,274.9998 M465.3038,250.0 L487.1884,250.0 M487.1884,250.0 C500.9,250.0,500.8384,225.0002,514.5481,225.0002 M487.1884,250.0 C500.9,250.0,500.8384,274.9998,514.5481,274.9998 M425.0,225.0 L438.0,225.0 M438.0019,274.9998 L425.0,274.9998 M512.6453,274.9998 L525.0,274.9998 M512.1944,224.9998 L525.0,224.9998\" stroke-width=\"1\" stroke=\"black\" stroke-linejoin=\"miter\" fill=\"none\" />\n",
       "<text x=\"475\" y=\"238\" font-size=\"7\" text-anchor=\"middle\"><tspan x=\"475\" dy=\"0em\">Θ=1.028622</tspan><tspan x=\"475\" dy=\"1em\">Φ_tl=3*pi/2</tspan><tspan x=\"475\" dy=\"1em\">Φ_bl=pi</tspan><tspan x=\"475\" dy=\"1em\">Φ_tr=pi/2</tspan></text>\n",
       "<path d=\"M497,253 L507,253 L507,263 L497,263 Z\" stroke=\"black\" fill=\"aquamarine\" stroke-linejoin=\"miter\" />\n",
       "<text x=\"502\" y=\"260\" font-size=\"6\" text-anchor=\"middle\" dy=\"0em\">H</text>\n",
       "<path d=\"M375,325 L525,325\" stroke=\"black\" stroke-width=\"1\" fill=\"none\" />\n",
       "<path d=\"M525,324.8 C545,325,555,275,575,275\" stroke-width=\"2\" stroke=\"white\" stroke-linejoin=\"miter\" fill=\"none\" />\n",
       "<path d=\"M525,325 C545,325,555,275,575,275\" stroke-width=\"1\" stroke=\"black\" stroke-linejoin=\"miter\" fill=\"none\" />\n",
       "<path d=\"M525,225 L575,225\" stroke=\"black\" stroke-width=\"1\" fill=\"none\" />\n",
       "<path d=\"M587.9442,225.0002 C601.6538,225.0002,601.5923,250.0,615.3019,250.0 M615.3038,250.0 C601.5922,250.0,601.6538,274.9998,587.9441,274.9998 M615.3038,250.0 L637.1884,250.0 M637.1884,250.0 C650.9,250.0,650.8384,225.0002,664.5481,225.0002 M637.1884,250.0 C650.9,250.0,650.8384,274.9998,664.5481,274.9998 M575.0,225.0 L588.0,225.0 M588.0019,274.9998 L575.0,274.9998 M662.6453,274.9998 L675.0,274.9998 M662.1944,224.9998 L675.0,224.9998\" stroke-width=\"1\" stroke=\"black\" stroke-linejoin=\"miter\" fill=\"none\" />\n",
       "<text x=\"625\" y=\"238\" font-size=\"7\" text-anchor=\"middle\" dy=\"0em\"></text>\n",
       "<path d=\"M647,253 L657,253 L657,263 L647,263 Z\" stroke=\"black\" fill=\"aquamarine\" stroke-linejoin=\"miter\" />\n",
       "<text x=\"652\" y=\"260\" font-size=\"6\" text-anchor=\"middle\" dy=\"0em\">H</text>\n",
       "<path d=\"M675,224.8 C695,225,705,275,725,275\" stroke-width=\"2\" stroke=\"white\" stroke-linejoin=\"miter\" fill=\"none\" />\n",
       "<path d=\"M675,225 C695,225,705,275,725,275\" stroke-width=\"1\" stroke=\"black\" stroke-linejoin=\"miter\" fill=\"none\" />\n",
       "<path d=\"M675,274.8 C695,275,705,225,725,225\" stroke-width=\"2\" stroke=\"white\" stroke-linejoin=\"miter\" fill=\"none\" />\n",
       "<path d=\"M675,275 C695,275,705,225,725,225\" stroke-width=\"1\" stroke=\"black\" stroke-linejoin=\"miter\" fill=\"none\" />\n",
       "<path d=\"M75,25 L525,25\" stroke=\"black\" stroke-width=\"1\" fill=\"none\" />\n",
       "<path d=\"M525,24.8 C545,25,555,125,575,125\" stroke-width=\"2\" stroke=\"white\" stroke-linejoin=\"miter\" fill=\"none\" />\n",
       "<path d=\"M525,25 C545,25,555,125,575,125\" stroke-width=\"1\" stroke=\"black\" stroke-linejoin=\"miter\" fill=\"none\" />\n",
       "<path d=\"M575,125 L725,125\" stroke=\"black\" stroke-width=\"1\" fill=\"none\" />\n",
       "<path d=\"M525,175 L725,175\" stroke=\"black\" stroke-width=\"1\" fill=\"none\" />\n",
       "<path d=\"M725,125 L740,125\" stroke-width=\"1\" stroke=\"black\" stroke-linejoin=\"miter\" fill=\"none\" />\n",
       "<path d=\"M725,175 L740,175\" stroke-width=\"1\" stroke=\"black\" stroke-linejoin=\"miter\" fill=\"none\" />\n",
       "<path d=\"M725,225 L740,225\" stroke-width=\"1\" stroke=\"black\" stroke-linejoin=\"miter\" fill=\"none\" />\n",
       "<path d=\"M725,275 L740,275\" stroke-width=\"1\" stroke=\"black\" stroke-linejoin=\"miter\" fill=\"none\" />\n",
       "<path d=\"M407,125 C407,125,407,115,417,115 L425,115 L425,135 L417,135 C407,135,407,125,407,125 L407,125\" stroke-width=\"1\" stroke=\"black\" stroke-linejoin=\"miter\" fill=\"white\" />\n",
       "<text x=\"413\" y=\"141\" font-size=\"6\" text-anchor=\"middle\" font-style=\"italic\" dy=\"0em\">[herald0]</text>\n",
       "<text x=\"417\" y=\"128\" font-size=\"7\" text-anchor=\"middle\" dy=\"0em\">0</text>\n",
       "<path d=\"M207,125 C207,125,207,115,217,115 L225,115 L225,135 L217,135 C207,135,207,125,207,125 L207,125\" stroke-width=\"1\" stroke=\"black\" stroke-linejoin=\"miter\" fill=\"white\" />\n",
       "<text x=\"213\" y=\"141\" font-size=\"6\" text-anchor=\"middle\" font-style=\"italic\" dy=\"0em\">[herald1]</text>\n",
       "<text x=\"217\" y=\"128\" font-size=\"7\" text-anchor=\"middle\" dy=\"0em\">1</text>\n",
       "<path d=\"M-2,115 L10,115 L10,185 L-2,185 Z\" stroke=\"black\" fill=\"white\" stroke-linejoin=\"miter\" />\n",
       "<text x=\"4\" y=\"127\" font-size=\"7\" text-anchor=\"middle\" dy=\"0em\">2</text>\n",
       "<text x=\"4\" y=\"177\" font-size=\"7\" text-anchor=\"middle\" dy=\"0em\">3</text>\n",
       "<text x=\"-2\" y=\"191\" font-size=\"6\" text-anchor=\"start\" font-style=\"italic\" dy=\"0em\">[data]</text>\n",
       "<path d=\"M-2,215 L10,215 L10,285 L-2,285 Z\" stroke=\"black\" fill=\"white\" stroke-linejoin=\"miter\" />\n",
       "<text x=\"4\" y=\"227\" font-size=\"7\" text-anchor=\"middle\" dy=\"0em\">4</text>\n",
       "<text x=\"4\" y=\"277\" font-size=\"7\" text-anchor=\"middle\" dy=\"0em\">5</text>\n",
       "<text x=\"-2\" y=\"291\" font-size=\"6\" text-anchor=\"start\" font-style=\"italic\" dy=\"0em\">[ctrl]</text>\n",
       "<path d=\"M407,275 C407,275,407,265,417,265 L425,265 L425,285 L417,285 C407,285,407,275,407,275 L407,275\" stroke-width=\"1\" stroke=\"black\" stroke-linejoin=\"miter\" fill=\"white\" />\n",
       "<text x=\"413\" y=\"291\" font-size=\"6\" text-anchor=\"middle\" font-style=\"italic\" dy=\"0em\">[herald2]</text>\n",
       "<text x=\"417\" y=\"278\" font-size=\"7\" text-anchor=\"middle\" dy=\"0em\">0</text>\n",
       "<path d=\"M207,275 C207,275,207,265,217,265 L225,265 L225,285 L217,285 C207,285,207,275,207,275 L207,275\" stroke-width=\"1\" stroke=\"black\" stroke-linejoin=\"miter\" fill=\"white\" />\n",
       "<text x=\"213\" y=\"291\" font-size=\"6\" text-anchor=\"middle\" font-style=\"italic\" dy=\"0em\">[herald3]</text>\n",
       "<text x=\"217\" y=\"278\" font-size=\"7\" text-anchor=\"middle\" dy=\"0em\">1</text>\n",
       "<path d=\"M533,135 L525,135 L525,115 L533,115 C533,115,543,115,543,125 C543,135,533,135,533,135 L533,135\" stroke-width=\"1\" stroke=\"black\" stroke-linejoin=\"miter\" fill=\"white\" />\n",
       "<text x=\"538\" y=\"141\" font-size=\"6\" text-anchor=\"middle\" font-style=\"italic\" dy=\"0em\">[herald0]</text>\n",
       "<text x=\"533\" y=\"128\" font-size=\"7\" text-anchor=\"middle\" dy=\"0em\">0</text>\n",
       "<path d=\"M333,135 L325,135 L325,115 L333,115 C333,115,343,115,343,125 C343,135,333,135,333,135 L333,135\" stroke-width=\"1\" stroke=\"black\" stroke-linejoin=\"miter\" fill=\"white\" />\n",
       "<text x=\"338\" y=\"141\" font-size=\"6\" text-anchor=\"middle\" font-style=\"italic\" dy=\"0em\">[herald1]</text>\n",
       "<text x=\"333\" y=\"128\" font-size=\"7\" text-anchor=\"middle\" dy=\"0em\">1</text>\n",
       "<path d=\"M740,115 L752,115 L752,185 L740,185 Z\" stroke=\"black\" fill=\"white\" stroke-linejoin=\"miter\" />\n",
       "<text x=\"746\" y=\"127\" font-size=\"7\" text-anchor=\"middle\" dy=\"0em\">2</text>\n",
       "<text x=\"746\" y=\"177\" font-size=\"7\" text-anchor=\"middle\" dy=\"0em\">3</text>\n",
       "<text x=\"752\" y=\"191\" font-size=\"6\" text-anchor=\"end\" font-style=\"italic\" dy=\"0em\">[data]</text>\n",
       "<path d=\"M740,215 L752,215 L752,285 L740,285 Z\" stroke=\"black\" fill=\"white\" stroke-linejoin=\"miter\" />\n",
       "<text x=\"746\" y=\"227\" font-size=\"7\" text-anchor=\"middle\" dy=\"0em\">4</text>\n",
       "<text x=\"746\" y=\"277\" font-size=\"7\" text-anchor=\"middle\" dy=\"0em\">5</text>\n",
       "<text x=\"752\" y=\"291\" font-size=\"6\" text-anchor=\"end\" font-style=\"italic\" dy=\"0em\">[ctrl]</text>\n",
       "<path d=\"M533,285 L525,285 L525,265 L533,265 C533,265,543,265,543,275 C543,285,533,285,533,285 L533,285\" stroke-width=\"1\" stroke=\"black\" stroke-linejoin=\"miter\" fill=\"white\" />\n",
       "<text x=\"538\" y=\"291\" font-size=\"6\" text-anchor=\"middle\" font-style=\"italic\" dy=\"0em\">[herald2]</text>\n",
       "<text x=\"533\" y=\"278\" font-size=\"7\" text-anchor=\"middle\" dy=\"0em\">0</text>\n",
       "<path d=\"M333,285 L325,285 L325,265 L333,265 C333,265,343,265,343,275 C343,285,333,285,333,285 L333,285\" stroke-width=\"1\" stroke=\"black\" stroke-linejoin=\"miter\" fill=\"white\" />\n",
       "<text x=\"338\" y=\"291\" font-size=\"6\" text-anchor=\"middle\" font-style=\"italic\" dy=\"0em\">[herald3]</text>\n",
       "<text x=\"333\" y=\"278\" font-size=\"7\" text-anchor=\"middle\" dy=\"0em\">1</text>\n",
       "</svg>"
      ],
      "text/plain": [
       "<drawSvg.drawing.Drawing at 0x17bfe41c0>"
      ]
     },
     "execution_count": 47,
     "metadata": {},
     "output_type": "execute_result"
    }
   ],
   "source": [
    "## KLM's CNOT\n",
    "\n",
    "print(catalog['heralded cnot'].doc)\n",
    "knill_cnot = catalog['heralded cnot'].as_processor().build()\n",
    "\n",
    "pcvl.pdisplay(knill_cnot, recursive=True)\n"
   ]
  },
  {
   "cell_type": "code",
   "execution_count": 77,
   "id": "88579684",
   "metadata": {},
   "outputs": [
    {
     "name": "stdout",
     "output_type": "stream",
     "text": [
      "[|1,0,1,0>, |1,0,1,0>, |1,0,1,0>, |1,0,1,0>, |1,0,1,0>, |1,0,1,0>, |1,0,1,0>, |1,0,1,0>, |1,0,1,0>, |1,0,1,0>]\n",
      "Some output states were not selected because of heralds and post-processing => you can check the logical performance\n",
      "Logical performance =  0.15517986547460838\n",
      "With an imperfect source:\n",
      "[|1,0,1,1>, |1,0,1,1>, |1,1,0,1>, |1,1,0,1>, |1,0,1,1>, |1,0,1,1>, |1,1,0,1>, |1,0,1,1>, |1,0,1,1>, |1,1,0,1>]\n",
      "Here logical performance has not changed, however, the physical performance has dropped:\n",
      "Logical performance (imperfect source) = 0.1333333333333333\n",
      "Physical performance (imperfect source) = 0.014999999999999993\n",
      "vs (perfect source) = 0.3322880933959652\n"
     ]
    }
   ],
   "source": [
    "## You can sample some output states\n",
    "cnot_sampler = pcvl.algorithm.Sampler(knill_cnot)\n",
    "knill_cnot.with_input(pcvl.LogicalState([0, 0]))\n",
    "\n",
    "samples = cnot_sampler.samples(10)\n",
    "print(samples['results'])\n",
    "print(\"Some output states were not selected because of heralds and post-processing => you can check the logical performance\")\n",
    "print(\"Logical performance = \", samples['logical_perf'])\n",
    "\n",
    "## You can use a non-perfect photon source too:\n",
    "print(\"With an imperfect source:\")\n",
    "p_imperfect_source = pcvl.Processor(\"SLOS\", 4, source=pcvl.Source(brightness=0.3))\n",
    "p_imperfect_source.add(0, catalog['postprocessed cnot'].as_processor().build())\n",
    "p_imperfect_source.with_input(pcvl.BasicState([1, 1, 1, 0]))\n",
    "cnot_sampler_imperfect_source = pcvl.algorithm.Sampler(p_imperfect_source)\n",
    "samples_imperfect_source = cnot_sampler_imperfect_source.samples(10)\n",
    "print(samples_imperfect_source['results'])\n",
    "print(\"Here logical performance has not changed, however, the physical performance has dropped:\")\n",
    "print(\"Logical performance (imperfect source) =\", samples_imperfect_source['logical_perf'])\n",
    "print(\"Physical performance (imperfect source) =\", samples_imperfect_source['physical_perf'])\n",
    "print(\"vs (perfect source) =\", samples['physical_perf'])"
   ]
  },
  {
   "cell_type": "code",
   "execution_count": 56,
   "id": "6648043a",
   "metadata": {},
   "outputs": [],
   "source": [
    "## TO-DO: Check it perfoms a CNOT, and explicit the difference between the two types of CNOT"
   ]
  },
  {
   "cell_type": "markdown",
   "id": "bda1dc03",
   "metadata": {},
   "source": [
    "### Exercise\n",
    "\n",
    "The next circuit comes from the following [paper](https://quantum-journal.org/papers/q-2021-03-29-422/)."
   ]
  },
  {
   "cell_type": "markdown",
   "id": "76bcc78f",
   "metadata": {},
   "source": [
    "![](QCircuit_ex.PNG \"Quantum Circuit\")"
   ]
  },
  {
   "cell_type": "code",
   "execution_count": null,
   "id": "7039fcdc",
   "metadata": {},
   "outputs": [],
   "source": [
    "# TO-DO : reproduce it in the encoding seen above"
   ]
  },
  {
   "cell_type": "markdown",
   "id": "82bce9ad",
   "metadata": {},
   "source": [
    "# To go further  <a name=\"further\"></a>"
   ]
  },
  {
   "cell_type": "markdown",
   "id": "4400ae45",
   "metadata": {},
   "source": [
    "### Noise\n",
    "\n",
    "For now, we've only dealt with perfect circuits, with perfect photons/sources/detectors.\n",
    "\n",
    "A realistic chip is of course far from being perfect. This section aims to show you how to model some realistic noises we can encounter.\n"
   ]
  },
  {
   "cell_type": "markdown",
   "id": "c01a61ec",
   "metadata": {},
   "source": [
    "### Exercise\n"
   ]
  },
  {
   "cell_type": "code",
   "execution_count": 3,
   "id": "9eca745d",
   "metadata": {},
   "outputs": [],
   "source": [
    "## TO-DO : model HOM, g2, errors of detection "
   ]
  },
  {
   "cell_type": "code",
   "execution_count": null,
   "id": "7cedc4ac",
   "metadata": {},
   "outputs": [],
   "source": []
  }
 ],
 "metadata": {
  "kernelspec": {
   "display_name": "Python 3 (ipykernel)",
   "language": "python",
   "name": "python3"
  },
  "language_info": {
   "codemirror_mode": {
    "name": "ipython",
    "version": 3
   },
   "file_extension": ".py",
   "mimetype": "text/x-python",
   "name": "python",
   "nbconvert_exporter": "python",
   "pygments_lexer": "ipython3",
   "version": "3.9.12"
  },
  "vscode": {
   "interpreter": {
    "hash": "bd92a568da84711ef52f1ac688dee706040e506f462cf5b24559d510d9f9ffe2"
   }
  }
 },
 "nbformat": 4,
 "nbformat_minor": 5
}

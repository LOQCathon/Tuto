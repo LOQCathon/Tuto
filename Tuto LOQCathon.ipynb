{
 "cells": [
  {
   "cell_type": "markdown",
   "id": "0a97c59f",
   "metadata": {},
   "source": [
    "# Tuto LOQCathon \n",
    "\n",
    "In this tutorial, we will try to cover any basic code to get our hands on Perceval.\n",
    "The full documentation can be found on [Doc Perceval](https://perceval.quandela.net/).\n",
    "\n",
    "For any question, feel free to ask !\n",
    "\n",
    "\n",
    "\n",
    "\n",
    "[I. Introduction](#introduction)\\\n",
    "[II. Linear Optical Circuits](#circuits)\\\n",
    "[III. Simulation](#paragraph2)\\\n",
    "[IV. Encoding Qubits]()\\\n",
    "[V. To Go Further]()\n",
    "\n",
    "\n"
   ]
  },
  {
   "cell_type": "markdown",
   "id": "4ad79fd5",
   "metadata": {},
   "source": [
    "# I. Introduction <a name=\"introduction\"></a>\n",
    "\n",
    "### Installation <a name=\"installation\"></a>"
   ]
  },
  {
   "cell_type": "code",
   "execution_count": 10,
   "id": "7537273d",
   "metadata": {},
   "outputs": [
    {
     "data": {
      "text/plain": [
       "'0.6.1.post28'"
      ]
     },
     "execution_count": 10,
     "metadata": {},
     "output_type": "execute_result"
    }
   ],
   "source": [
    "## TO-DO : commands to install with pip etc\n",
    "\n",
    "import perceval as pcvl\n",
    "pcvl.__version__"
   ]
  },
  {
   "cell_type": "code",
   "execution_count": 11,
   "id": "28abc3e4",
   "metadata": {},
   "outputs": [],
   "source": [
    "## Test :  basic tests to run to check that's been well installed\n",
    "\n",
    "\n"
   ]
  },
  {
   "cell_type": "markdown",
   "id": "8817daed",
   "metadata": {},
   "source": [
    "### BasicStates <a name=\"basicstates\"></a>\n",
    "\n",
    "In Linear Optical Circuits, photons can have many discrete degrees of freedom, called modes. \n",
    "It can be frequency, the polarisation, the position, or all of them.\n",
    "\n",
    "We represent those degrees of freedom with Fock states. If we have $n$ photons over $m$ modes, the Fock state  : $|s_1,s_2,...,s_m\\rangle$ means we have $s_i$ photons in the $i^{th}$ mode. (note that $\\sum_{i=1}^n s_i =m$).\n",
    "\n",
    "In Perceval, we will use the module `pcvl.BasicState`"
   ]
  },
  {
   "cell_type": "code",
   "execution_count": 6,
   "id": "435b102b",
   "metadata": {},
   "outputs": [],
   "source": [
    "## Syntax of different BasicState (list, string, etc)\n",
    "\n",
    "## Please add something on the BasicStates if you think we need to developp (as the depreciated version of AnnotedState)"
   ]
  },
  {
   "cell_type": "markdown",
   "id": "5fe29a50",
   "metadata": {},
   "source": [
    "### LO-Components <a name=\"components\"></a>\n",
    "\n",
    "The linear optical components are the elementary blocks which will act on our Fock states.\n",
    "\n",
    "It's important to know all the possible components we can find in Perceval and to understand their action.\n",
    "\n"
   ]
  },
  {
   "cell_type": "code",
   "execution_count": 8,
   "id": "1d0cf3b2",
   "metadata": {},
   "outputs": [],
   "source": [
    "## TO-DO : code for each component : label+unitary+drawing+some words on the convention for BS"
   ]
  },
  {
   "cell_type": "markdown",
   "id": "bb4cd4d2",
   "metadata": {},
   "source": [
    "# II. LO-Circuits <a name=\"circuits\"></a>\n",
    "\n",
    "From the LO-components, we can build a LO-circuit, i.e. a sequence of those components acting on our different modes.\n",
    "\n",
    "### Syntax"
   ]
  },
  {
   "cell_type": "code",
   "execution_count": null,
   "id": "2ab8b90e",
   "metadata": {},
   "outputs": [],
   "source": [
    "## TO-DO :  code to create a circuit of 3 modes with the components seen above. Print the display. Print the unitary. \n",
    "\n"
   ]
  },
  {
   "cell_type": "markdown",
   "id": "75e4440d",
   "metadata": {},
   "source": [
    "### Mach-Zehnder Interferometers \n",
    "\n",
    "As seen above, we can use Beamsplitters with the reflexivity or the $\\theta$ angle as parameters.\n",
    "\n",
    "In practice, the reflexivity depends on the miror. It's therefore hard... \n",
    "\n"
   ]
  },
  {
   "cell_type": "code",
   "execution_count": 9,
   "id": "8598d2e3",
   "metadata": {},
   "outputs": [],
   "source": [
    "## TO-DO : Show MZI circuit, matrix, \n",
    "\n",
    "\n",
    "## TO-DO :  note we can use symbolic in our circuits, so we can check the formula ... (introduce the symbolic in unitaries)\n",
    "\n"
   ]
  },
  {
   "cell_type": "markdown",
   "id": "9d8e718b",
   "metadata": {},
   "source": [
    "### Universal Circuits\n",
    "\n",
    "It's important to know that given a unitary $U$ on our modes, it's always possible to find a LO-circuit implementing $U$.\n",
    "\n",
    "If we want to implement $U=\\begin{pmatrix}\n",
    "a_{1,1} & a_{1,2} & a_{1,3}\\\\\n",
    "a_{2,1} & a_{2,2} & a_{2,3} \\\\ \n",
    "a_{3,1} & a_{3,2} & a_{3,3}\n",
    "\\end{pmatrix}$ the operation :\n",
    "\n",
    "(It's important to precise/remind this unitary is doing the following operation on the Fock state basis:\n",
    "$\\begin{array}{rcl}\n",
    "|1,0,0\\rangle &  \\mapsto&  a_{1,1}|1,0,0\\rangle + a_{1,2}|0,1,0\\rangle + a_{1,3}|0,0,1\\rangle\\\\\n",
    "|0,1,0\\rangle &  \\mapsto&  a_{2,1}|1,0,0\\rangle + a_{2,2}|0,1,0\\rangle + a_{2,3}|0,0,1\\rangle\\\\\n",
    "|0,0,1\\rangle &  \\mapsto&  a_{3,1}|1,0,0\\rangle + a_{3,2}|0,1,0\\rangle + a_{3,3}|0,0,1\\rangle\n",
    "\\end{array}$"
   ]
  },
  {
   "cell_type": "code",
   "execution_count": 12,
   "id": "824d8737",
   "metadata": {},
   "outputs": [],
   "source": [
    "## code for universal circuit of size 3, for a random U, with the reference of Reck"
   ]
  },
  {
   "cell_type": "markdown",
   "id": "78150c03",
   "metadata": {},
   "source": [
    "Historically, the universal form was triangular (quote Reck), then later a rectangular form, with less depth, has been found : [Clements' et al](https://arxiv.org/abs/1603.08788?context=physics) .\n"
   ]
  },
  {
   "cell_type": "code",
   "execution_count": 13,
   "id": "a043bb05",
   "metadata": {},
   "outputs": [],
   "source": [
    "## code to generate from random unitary of size n, the universal circuit with rectangular shape\n"
   ]
  },
  {
   "cell_type": "code",
   "execution_count": 14,
   "id": "20b31e3f",
   "metadata": {},
   "outputs": [],
   "source": [
    "## TO-do for students  : from random circuit, create circuit with only MZI and phase shifters"
   ]
  },
  {
   "cell_type": "markdown",
   "id": "b6990985",
   "metadata": {},
   "source": [
    "### Black Box \n",
    "\n",
    "For more readibility and sometimes as we'll need generic operations (see [Encoding]()), it's not always necessary to describe the circuit and explicit all the parameters.\n"
   ]
  },
  {
   "cell_type": "code",
   "execution_count": 15,
   "id": "cf442c25",
   "metadata": {},
   "outputs": [],
   "source": [
    "## Code with circuits with balck boxes, with labels, etc "
   ]
  },
  {
   "cell_type": "markdown",
   "id": "1bd8e2f0",
   "metadata": {},
   "source": [
    "# III. Simulation <a name=\"simulation\"></a>\n",
    "\n",
    "From this point, we only created circuits.\n",
    "It's time to sample from them, and to know the output distribution of them, on many different inputs.\n",
    "\n"
   ]
  },
  {
   "cell_type": "markdown",
   "id": "190ae9ac",
   "metadata": {},
   "source": [
    "### Computing probabilities \n",
    "\n",
    "For this part, we will take the [Hong-Ou-Mandel](https://en.wikipedia.org/wiki/Hong%E2%80%93Ou%E2%80%93Mandel_effect) experience as an instance.\n",
    "\n"
   ]
  },
  {
   "cell_type": "code",
   "execution_count": 19,
   "id": "73e9230b",
   "metadata": {},
   "outputs": [],
   "source": [
    "## Code to implement the HOM : |1,1>, circuit = BS, and output the probability of each different output (the code for one probability in particular, and also to iterate through every prob)\n",
    "\n",
    "## Note: have a version for amplitude & prob"
   ]
  },
  {
   "cell_type": "code",
   "execution_count": 20,
   "id": "fcf74970",
   "metadata": {},
   "outputs": [],
   "source": [
    "## To-do for students :  we give them a 4X4 unitary , we ask for the table of output for the input |1,1,1,0>\n",
    "\n",
    "\n",
    "## Code to test if the output is correct\n"
   ]
  },
  {
   "cell_type": "markdown",
   "id": "cd69cf36",
   "metadata": {},
   "source": [
    "### Sampling \n",
    "\n",
    "As it's crucial to compute the output distribution, it's not what we can expect from a photonic chip. Indeed, realistically, we only can sample from the distribution.\n",
    "\n"
   ]
  },
  {
   "cell_type": "code",
   "execution_count": 21,
   "id": "ab11d846",
   "metadata": {},
   "outputs": [],
   "source": [
    "## Syntax to sample from HOM \n",
    "\n",
    "## code to check for 30 runs that we're close to 50%\n"
   ]
  },
  {
   "cell_type": "code",
   "execution_count": 22,
   "id": "ecbaaa5f",
   "metadata": {},
   "outputs": [],
   "source": [
    "## TO-DO for students : implement the code to sample from the 4x4 Unitary of earlier\n",
    "\n",
    "## Question: how many states do we have for 4 modes and 3 photons?\n",
    "## Question: how many samples are needed to approximate the distribution?\n",
    "\n"
   ]
  },
  {
   "cell_type": "markdown",
   "id": "58b02992",
   "metadata": {},
   "source": [
    "### Variational algorithm \n",
    "\n",
    "In those types of algorithm, the samples from a Quantum circuits allow to approximate an expecation value, which would be use in our loss function, to solve a problem.\n"
   ]
  },
  {
   "cell_type": "code",
   "execution_count": null,
   "id": "eaa4cab5",
   "metadata": {},
   "outputs": [],
   "source": [
    "## Create a small exercice with loss function etc. The idea is that they use scipy, minimise, etc, with samples from LO-circuits.\n",
    "## Can be inspired by [VQE](https://perceval.quandela.net/docs/notebooks/Variational%20Quantum%20Eigensolver.html)\n",
    "\n",
    "## TO-Do for students: implement the circuit, loss function depending on samples, and write scipy.minimise(...)"
   ]
  },
  {
   "cell_type": "markdown",
   "id": "3a78cc87",
   "metadata": {},
   "source": [
    "### To go further : connect to a chip\n",
    "\n",
    "Perceval is also connected to real/physical chips.\n",
    "Here's the syntax to sample directly from them ! \n",
    "\n",
    "(not sure if it's possible, but it would be cool if that was)"
   ]
  },
  {
   "cell_type": "code",
   "execution_count": 23,
   "id": "dffa61bf",
   "metadata": {},
   "outputs": [],
   "source": [
    "## Syntax to run a small circuit and get sampkes from one chip of Quandela"
   ]
  },
  {
   "cell_type": "markdown",
   "id": "c7ada850",
   "metadata": {},
   "source": [
    "# Encoding Qubits <a name=\"encoding\"></a>"
   ]
  },
  {
   "cell_type": "markdown",
   "id": "e84fc736",
   "metadata": {},
   "source": [
    "### Path encoding\n"
   ]
  },
  {
   "cell_type": "markdown",
   "id": "4fbd0d6a",
   "metadata": {},
   "source": [
    "### One-qubit gates"
   ]
  },
  {
   "cell_type": "markdown",
   "id": "e2fcc3ec",
   "metadata": {},
   "source": [
    "### Two-qubit gates\n",
    "\n",
    "post-select, herald"
   ]
  },
  {
   "cell_type": "markdown",
   "id": "bda1dc03",
   "metadata": {},
   "source": [
    "### Exercise"
   ]
  },
  {
   "cell_type": "markdown",
   "id": "82bce9ad",
   "metadata": {},
   "source": [
    "# To go further  <a name=\"further\"></a>"
   ]
  },
  {
   "cell_type": "markdown",
   "id": "4400ae45",
   "metadata": {},
   "source": [
    "### Noise"
   ]
  },
  {
   "cell_type": "markdown",
   "id": "c01a61ec",
   "metadata": {},
   "source": [
    "### Exercise\n"
   ]
  },
  {
   "cell_type": "code",
   "execution_count": null,
   "id": "9eca745d",
   "metadata": {},
   "outputs": [],
   "source": []
  },
  {
   "cell_type": "code",
   "execution_count": null,
   "id": "7cedc4ac",
   "metadata": {},
   "outputs": [],
   "source": []
  }
 ],
 "metadata": {
  "kernelspec": {
   "display_name": "nicoshkernel",
   "language": "python",
   "name": "nicoshkernel"
  },
  "language_info": {
   "codemirror_mode": {
    "name": "ipython",
    "version": 3
   },
   "file_extension": ".py",
   "mimetype": "text/x-python",
   "name": "python",
   "nbconvert_exporter": "python",
   "pygments_lexer": "ipython3",
   "version": "3.9.7"
  }
 },
 "nbformat": 4,
 "nbformat_minor": 5
}
